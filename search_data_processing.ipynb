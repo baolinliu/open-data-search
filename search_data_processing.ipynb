{
 "cells": [
  {
   "cell_type": "markdown",
   "metadata": {},
   "source": [
    "Search Data Processing\n",
    "=========================\n",
    "\n"
   ]
  },
  {
   "cell_type": "code",
   "execution_count": 43,
   "metadata": {
    "collapsed": true
   },
   "outputs": [],
   "source": [
    "import pandas as pd\n",
    "import re"
   ]
  },
  {
   "cell_type": "code",
   "execution_count": 4,
   "metadata": {
    "collapsed": true
   },
   "outputs": [],
   "source": [
    "search_data = pd.read_csv(\"./data/sample_openData_searchTerms_clean.csv\")"
   ]
  },
  {
   "cell_type": "code",
   "execution_count": 81,
   "metadata": {
    "collapsed": false
   },
   "outputs": [
    {
     "data": {
      "text/plain": [
       "(5000, 8)"
      ]
     },
     "execution_count": 81,
     "metadata": {},
     "output_type": "execute_result"
    }
   ],
   "source": [
    "search_data.shape"
   ]
  },
  {
   "cell_type": "code",
   "execution_count": 13,
   "metadata": {
    "collapsed": false
   },
   "outputs": [
    {
     "data": {
      "text/html": [
       "<div>\n",
       "<table border=\"1\" class=\"dataframe\">\n",
       "  <thead>\n",
       "    <tr style=\"text-align: right;\">\n",
       "      <th></th>\n",
       "      <th>Search Term</th>\n",
       "      <th>Exit Page</th>\n",
       "      <th>Total Unique Searches</th>\n",
       "      <th>Results Pageviews / Search</th>\n",
       "      <th>% Search Exits</th>\n",
       "      <th>% Search Refinements</th>\n",
       "      <th>Time after Search</th>\n",
       "      <th>Average Search Depth</th>\n",
       "    </tr>\n",
       "  </thead>\n",
       "  <tbody>\n",
       "    <tr>\n",
       "      <th>4995</th>\n",
       "      <td>address range</td>\n",
       "      <td>/Geographic-Locations-and-Boundaries/Streets-o...</td>\n",
       "      <td>2</td>\n",
       "      <td>1.5</td>\n",
       "      <td>0.00%</td>\n",
       "      <td>0.00%</td>\n",
       "      <td>0:02:09</td>\n",
       "      <td>8.0</td>\n",
       "    </tr>\n",
       "    <tr>\n",
       "      <th>4996</th>\n",
       "      <td>address shapefile</td>\n",
       "      <td>/browse/embed?category=&amp;limit=20&amp;limitTo=&amp;q=ad...</td>\n",
       "      <td>2</td>\n",
       "      <td>1.5</td>\n",
       "      <td>0.00%</td>\n",
       "      <td>66.67%</td>\n",
       "      <td>0:00:18</td>\n",
       "      <td>3.0</td>\n",
       "    </tr>\n",
       "    <tr>\n",
       "      <th>4997</th>\n",
       "      <td>address to geographic location</td>\n",
       "      <td>/browse/embed?category=&amp;limit=20&amp;limitTo=&amp;q=ad...</td>\n",
       "      <td>2</td>\n",
       "      <td>1.0</td>\n",
       "      <td>0.00%</td>\n",
       "      <td>0.00%</td>\n",
       "      <td>0:00:03</td>\n",
       "      <td>1.5</td>\n",
       "    </tr>\n",
       "    <tr>\n",
       "      <th>4998</th>\n",
       "      <td>address with resident names</td>\n",
       "      <td>/browse/embed?category=&amp;limit=20&amp;limitTo=&amp;q=ad...</td>\n",
       "      <td>2</td>\n",
       "      <td>1.0</td>\n",
       "      <td>0.00%</td>\n",
       "      <td>0.00%</td>\n",
       "      <td>0:00:05</td>\n",
       "      <td>1.5</td>\n",
       "    </tr>\n",
       "    <tr>\n",
       "      <th>4999</th>\n",
       "      <td>addresse</td>\n",
       "      <td>/browse/embed?category=&amp;limit=20&amp;limitTo=&amp;q=po...</td>\n",
       "      <td>2</td>\n",
       "      <td>1.0</td>\n",
       "      <td>0.00%</td>\n",
       "      <td>100.00%</td>\n",
       "      <td>0:00:03</td>\n",
       "      <td>1.5</td>\n",
       "    </tr>\n",
       "  </tbody>\n",
       "</table>\n",
       "</div>"
      ],
      "text/plain": [
       "                         Search Term  \\\n",
       "4995                   address range   \n",
       "4996               address shapefile   \n",
       "4997  address to geographic location   \n",
       "4998     address with resident names   \n",
       "4999                        addresse   \n",
       "\n",
       "                                              Exit Page  \\\n",
       "4995  /Geographic-Locations-and-Boundaries/Streets-o...   \n",
       "4996  /browse/embed?category=&limit=20&limitTo=&q=ad...   \n",
       "4997  /browse/embed?category=&limit=20&limitTo=&q=ad...   \n",
       "4998  /browse/embed?category=&limit=20&limitTo=&q=ad...   \n",
       "4999  /browse/embed?category=&limit=20&limitTo=&q=po...   \n",
       "\n",
       "      Total Unique Searches  Results Pageviews / Search % Search Exits  \\\n",
       "4995                      2                         1.5          0.00%   \n",
       "4996                      2                         1.5          0.00%   \n",
       "4997                      2                         1.0          0.00%   \n",
       "4998                      2                         1.0          0.00%   \n",
       "4999                      2                         1.0          0.00%   \n",
       "\n",
       "     % Search Refinements Time after Search  Average Search Depth  \n",
       "4995                0.00%           0:02:09                   8.0  \n",
       "4996               66.67%           0:00:18                   3.0  \n",
       "4997                0.00%           0:00:03                   1.5  \n",
       "4998                0.00%           0:00:05                   1.5  \n",
       "4999              100.00%           0:00:03                   1.5  "
      ]
     },
     "execution_count": 13,
     "metadata": {},
     "output_type": "execute_result"
    }
   ],
   "source": [
    "search_data.tail()"
   ]
  },
  {
   "cell_type": "code",
   "execution_count": 84,
   "metadata": {
    "collapsed": false
   },
   "outputs": [],
   "source": [
    "#search_data[search_data['Total Unique Searches']<5]"
   ]
  },
  {
   "cell_type": "code",
   "execution_count": 9,
   "metadata": {
    "collapsed": false
   },
   "outputs": [],
   "source": [
    "search_terms = list(set(search_data['Search Term']))"
   ]
  },
  {
   "cell_type": "code",
   "execution_count": 11,
   "metadata": {
    "collapsed": false
   },
   "outputs": [
    {
     "data": {
      "text/plain": [
       "2451"
      ]
     },
     "execution_count": 11,
     "metadata": {},
     "output_type": "execute_result"
    }
   ],
   "source": [
    "len(search_terms)"
   ]
  },
  {
   "cell_type": "code",
   "execution_count": 12,
   "metadata": {
    "collapsed": false
   },
   "outputs": [
    {
     "name": "stdout",
     "output_type": "stream",
     "text": [
      "['\"Basemap Street Centerlines', 'active business locations', 'traffic counts', 'lyft driver', '*.dpt_bike_network', 'traffic calming', 'facilities', 'crime rate', '17 Silverview Drive', 'building permits', 'right of way', 'pipeline q2 2015', 'sf shoreline', 'election results', 'electricity', '311 county', 'sffd', 'bike', '490 Sanchez', 'external datasets', '311 human', '208 Girard', 'geology', '800 detroit', '2014 crimes', '2015 Housing Inventory', 'SanFrancisco', 'Restaurants', 'tickets', '560 davis st san francisco', 'school', 'zipcodes', '2649 polk s', 'house income', \"'<script>alert(1)</script>\", '1235 bay', 'Open Spaces', '573 andover street', 'census block group', '354 Peralta Street', 'case data from san francisco 311', 'bicycle', '1070 capitol', 'presidio', '25282', 'sfpd incident', 'budget', '272', 'street', 'Aaron Peskin', '511 traffic', '1485 bayshore', '301 baltimore way', 'abandoned vehcihles', '311 explorer', '439 Duboce Ave, 94117', '1013914', 'lights', 'moratorium', 'public library', '8204', '2014 development', '3 rudden avenue sf ca', 'hill grade', 'four days', 'sfpd', '\"Code for America\"', 'payroll', '106 grand view', 'parks shapefile', 'china', '2014 election', '2014 housing', '100', '101', 'art galleries', '460 d', '4610 mission street', 'census shapefile', 'employees', 'Food Trucks', 'museums', 'TRAFFIC', 'payroll clerk', 'permit', '111 minna', 'human rights', 'topography', 'campaign', 'precincts', 'county', 'active companies', 'Health', '372 Point Lobos Ave', 'counts', 'lobbyist contribution', 'open businesses', 'hospital', '\"clipper cove beach\"', '94158', 'business certificates', 'assessment', '\"citywide performance measurement\"', '3067 25th street san francisco ca 94110', '\"wind monitoring\"', '123 Retiro way', '766 vallejo', 'phone', 'Incidents', '39th avenue', '0355/004', '469 union st', '2466 francisco', '\"Category A\"', '1990', '1131 Mission St', '1992', 'permits', '\"2721 diamond\"', 'tenderloin housing clinic', 'pot hole', 'movies', 'tnc', 'exceptions', '1009-', '\"fire inspection\"', 'police station', '381216', 'household', '2208 Mission Street', 'Bike', '2015 Neighborhood profiles', '311 waitlist', '\"health code\"', '\"sfmta route\"', 'shapefile', 'geojson', '574 escuela', '530 brannan street', '301 king st', 'beach', '255 King Stree', 'restaurant inspections', '10 gb dataset', '353853', '\"><img src=x onerror=alert(document.domain)>', 'community resiliency', 'Parcels', '94070', 'business registration certificate', '13SMF-0389', 'active block lots', 'employee salaries', '2010 census', '2945 baker st apt 5', 'green', 'street tree list', 'ambulance', '300 seacliff', 'homeless shelters', 'wind', 'street sweeping', 'pothole', 'Housing', 'dpt bike network', '337 spurce street', '40414', '.dwg', '727954', '\"sharper focus\"', 'planning districts', 'state senate', '131 Franklin street', '1144 ALABAMA', '406', '403', '400', '\"public library\"', '15SF036', '15564537', '\"sunshine ordinance task\"', 'coffee', '542 brannan', 'planning applications', '1480 larkin', 'SFMTA', '\"vacant parcel\"', '235 Presidio Avenue', 'zoning', 'POPOS', '151104052', 'form 460', 'schools', 'tourism', 'food hygiene', 'bank', '77116', 'lives restaurant inspection', '258 9th st', 'population density', 'fitness', '\"one way\"', 'open business', '\"san francisco general plan\"', 'address shapefile', '\"Sea Level Rise\"', 'dumping', 'Land use', 'crimes', '3D building models', 'five year plan', 'National parks', '152233830', '6538/038', 'private schools', 'adapt', 'smf', 'Census 2000 Blocks', '2015 budget information', '177 Stillman Street, San Francisco, CA', 'incident arson', '245 San Jose', '1740 Cesar Chavez', '141 eddy street', '\"expenditures by department\"', 'inspection food', '160080008', '445 kirkham', 'campaign Finance', 'public art', 'San Francisco Crime Classification', '665 pine st', '600 fell st.', 'ADDRESS POINT', 'basemap', '80.004 Employee Compensation report', 'benchmarking', 'bus routes', 'appeals', 'accent', '15exc4667', '311 case', '1952 larkin', 'basketball', 'soil types', '525 29th st', 'service', 'ed lee contributions', '161570631', 'STREETS', 'tow', 'heights', '10b', '20200480', '1 post', 'murder', '124 Molimo dr', 'business address', '31 Mullen ave', '106 Powell Street', '3314 STEINER ST', 'motorcycle parking', '1020749', '545-00500', '.json', 'tree', '453 masonic st', 'expa', 'planning commission president', '1230 market st', 'bridge', '324 arkansas st', 'Shapefile', '2010 SF', '\"green\"', '/SFPD-Incidents-2013', '1970', '\"population', '1013117', '709 geary st', '1041 alabama', '278 states street', '882 31st ave', 'senior center', 'Business Account Number', '27 isis', '311 data set', '1630 30th Avenue', '2010 SFO', '311 Cases', '*incident*', 'germany', '568 Brannan St', 'Gujarat', '430 lake st', '\"Condo Conversion Lottery\"', '855 folsom', 'neighborhoods', 'dog', '1992 map', 'freeway', 'abbrev', 'envista', '41 genebern way, sf', '24 shotwell', '331 jersey st parcel map', 'consumer', 'street sweep', '460 Cover', 'city boundary', '418 Jessie St', 'off street parking', '311 Calls Mold', 'operate business', '55 Cyril Magnin Street', 'business account number', 'Address', 'SF solar map', '1188 Harrison Street', 'Streets of San Francisco', 'Lyft', 'fire department', '8714', '\"dog owners\"', '1952 larkin street', '\"community benefit districts\"', 'san francisco streets', 'aaron peskin payment received', 'asbestos', 'b6tj-gt35', 'coast', '292 douglass', '9/11/15', '\"single room occupancy\"', 'park lands', 'certified payroll', 'Land Use', '14243059', 'bay', '4431 mission st', '415', '410', 'ems', '1GAGF ttx', 'ban', '1 hour parking', '3d building', 'Molly saeger', 'liquor', '2160 stockton', 'SFPD incident', '127 san jose ave', '453234', '1611fulton', '\"PUBLIC LIBRARY\"', 'Open Spaces \\x89\\xdb\\xd2 City Planning', 'Curbs', 'lots', '\"natural gas\"', '324 arkansas', '1415 scott street', 'compensation', '\"sea level\"', 'Water', '2015 pipeline', '2386j', '1980 block', '309953', '1 degree', '469217', 'crime incidents', '1155 folsom at', 'APNs for Port of SF', 'census 2000 blocks', 'Tree', '177 Stillman Street', '360 somerset street', 'medallion', '663 haight street', '2912 19th ave', 'climate', 'accident', 'excrement', 'fault', 'food inspection', '112 yukon', 'aba therapy facilities', '\"shelters\"', '311 calls', '1017361-01-151', 'height', 'active', 'sfmta bikeway network', '1450 green st', 'accidents pedestrian', 'conference', '467290', 'streets of San Francisco', '311 call metrics', '1158 noe street', '311 service ordes', '\"Treasure Island Music Festival\" ferry', 'stadium', '\"traffic analysis\"', '\"Area Median Income\"', '911 call', '544 castro', '1880 filbert', '911 calls', '150241102', '150765130', '\"cancer\"', 'child', '906', '311case', '162', '\"Mary Jung\" DCCC', 'san-francisco-parking-meters-map-and-dataset', 'air', 'reviews', 'bike parking', '26 eagle street', 'land value', '299 Fremont Street', 'property', 'cnn changes', '1025 Post', 'Property Assessment Roll', '163 Liberty Street', 'soils', 'accidence', 'calls for service', 'seattle', 'pbc code', '311 call', 'rental listings', 'abandoned building', '2346 lot 20', '1819', '560 brannan', 'bike shapefile', 'inventory', '3951 Mission St.', '6228', '6621', '405 valencia', '20th AVE', '4058 17th st', 'published', 'rail', 'workforce', 'rain', 'topo', 'public works', '7332', 'median income', 'acoustics', '1975', 'ocean', 'traffic signals', '8854', '233 San Carlos', 'unemployment', 'photo', 'Crime', '2014 energy benchmark 285 geary', 'bike network', '1428 jackson st', '1746 Church Street, San Francisco 94131', '\"2713 diamond\"', 'advisories', 'prison', '825 BROTHERHOOD', 'OPERATE BUSINESS', '855 folsom st, san francisco', 'hakam abdel fattah', '364472', '2 hour parking', 'elevation', 'municipal', '1012986', 'Restaurant', '\"residential permit\"', '177 Stillman St', '3465 25th st', '679 Page STreet', '\"lines\"', '2011 pipeline q2', '1600 California street', '108 ellsworth', 'acident', 'pavement', 'farmers markets', 'groundwater', '3d model', '384358', '2004 bike network', '285 geary st energy audit', '2010 us census data', '100 year flood plain', 'sfpark', 'Accessibility', '20 jones', 'meters', 'election', 'census 2000 tracts', 'Census 2000 Blocks (no water)', 'crime shapefile', '846 Junipero Serra blvd 94127', 'business closing', '444 townsend', '\"property tax\"', '1905', '2015 budget', 'absconders', 'creative', 'filming', '1 Tuscany', '5 thomas mellon circle', 'cnn', 'nail salon', 'PBC', 'Supersonic Ads', 'business permits', '301 Claremont Blvd', '?debug=true', 'census', 'city owned facilities', 'AVL', 'high school', '2919 folsom st', '2901 sacramento st', '1834 grant', 'employment rate', 'MUNI', 'schedule e', '14080248', 'Abdullah', 'schedule a', '460a', 'complaints', 'Aaron', 'coastal', '1445 lombard', '460s', 'gis', '119 taraval', 'schedule E', 'padmapper', 'altitude', '460E', 'legislation', '\"burt herman\"', '460A', 'open spaces', '\"heat wave\"', 'sfshore', '\"small businesses\"', '1990-', 'film locations in san francisco', 'wireless', '374 5th street san francisco', 'solar', 'ADA', '*.*', '\"campaign finance\"', 'census blocks', 'Fire', 'realtor_neighborhoods', '2015 q2', '1004458', 'Parking', '2010 census tracts', 'city survey', 'passenger', '427372', '2014 Housing Inventory', '200 6th st', 'active business', 'household size', 'potholes', '220 30th Ave', 'Census 2000 Tracts', 'house sales', '(415) 824-1602', '9 county boundary', 'Parking meters', '315 28th avenue', 'registered business map', 'flood', '460 forms', '1445 Lombard', '923 Goettingen', 'test', 'EAS', 'roll', 'slope TIN', 'energy audit', '\"school zone\"', '94127', 'market street', 'supervisorial', '94108', \"hunter's point\", '40 genebern way, sf', '94103', 'Bay Area', '8AQR5P6Y', '94104', '94107', 'broadband', '460 summary', 'parcels', '1931 35th Ave San Francisco, CA 94116', 'accesor', '466 9th avenue', '83932', 'recidivism', '67 Silverview Drive', 'row', 'Basemap Street Centerlines shapefile', '425 market street energy', 'suicide', 'property assessment roll', 'Tourist', 'zone', '1416 polk street', 'environment', 'bicycles', 'BIKE', 'sfpd incidents', '100 e grand', 'short term', '445 anderson', '9/1/01', '450 golden gate', 'sfopenbook', '\"build out\"', '322 30th ave', '2012 SFO Customer Survey', 'aaron peskin gift', '\"green infrastructure\"', 'campaign finance', '124 Molimo', 'mobile food truck', '63 woodland', '711 clayton st.', '.csv', 'BUILDING FOOTPRINTS', '959 noe street', 'gun', '1999', '60 agua way', 'planning', '14315714', 'subway', 'real estate', 'san francisco shore', 'sidewalk', '94121', '3D public art', '68 cervantes blvd', 'shoreline shapefile', 'travel time', 'form 700', 'trails', '1427 11th Ave', '1231 20th ave, san francisco', 'cost', '2005 Pipeline Report', '5413 Hillside,94530', 'street centerline', '\"HOUSING INVENTORY\"', 'port', '1008785', '40 Annapolis Terrace, San Francisco, CA', '550 Van Ness', '1798 grove street', '1225 17th avenue', 'CONTOUR', '812 Guerrero Street', 'transportation', '2016 pipeline', 'Neighborhoods', '2385 bush street', '\"height', 'inclusionary', 'digital elevation map', 'water', '2.01503E+11', '037290902-001', 'address', 'earthquake', '3247 reserve ct, san jose, ca', '222 Sasome', 'business number', 'Crimes', '311 syringe', '372909', '74 6th Street', 'Census 2000 Tracts (no water)', 'coastal zone', 'planning neighborhoods', '158 maynarad st', '5252 mission street', 'green benefit districts', 'Leed', '559 miramar', 'hotels', '38432250', '\"Payday Advance\"', '766 vallejo street', '1996-2013 SF City Survey', 'sports', 'films', 'plan areas', '1038 jackson', 'solar map', '425 market energy', '400 Castro Street', 'street center lines', '270 McAllister Street', 'sf solar', 'on street parking', 'cases', '35 brosnan', 'active nodes', '5 Hudson Ct, San Francisco, CA 94124', 'car', 'abortion', 'districts', 'business licenses', 'incidents', '1709 Broderick Street', 'Homeless', 'minutes spent walking', 'san francisco boundary', 'cab', '2013 census shapefile', 'cad', '\"historic zoning districts\"', 'lobbying', 'neighborhood group', '2 casa way', '2010 tract population', 'BAN', '140273353', '\"cable car\"', 'Fire Stations', '311 dpw complaints', 'secured', 'business license', 'secured property', '\"120 lake street\"', '06/19/2015 dashiell hammet', 'development pipeline', 'economy', 'map', '1008809', '140878', 'liquefaction', 'accessory', '\"methane leak\"', 'sffilms', 'date', 'data', '3/1/01', 'bristol farms', 'vendor payments', 'outline', '2240 Market Street', '50 Main Street, San Francisco', 'food trucks', '100 church', '.dxf', 'A-cards', '\"dog parks\"', '-122.407829844146 37.7826402567843', 'accidenas', '501 Franconia', '460 forms schedul a', '126', 'pipeline 2014', '2346-014', 'nlcd', 'civic art', 'walking and cycling', '136 arlington street', '94118', 'police', '94112', '94110', '94111', '94116', '94117', '94114', '94115', '701 Teresita San Francisco, CA', '1051 grant ave, sf', 'sf shore', 'dpw', '2 plus 2 bookeeping', 'SFFind Neighborhoods', '2631 23rd', '\\\\', 'accomodation', '\"curtis dunn\"', '149 julian', 'parking restrictions', '838 detroit street', '\"health care security ordinance\"', 'street cleaning', 'maher', '462 DOUGLASS SR', '462 DOUGLASS ST', 'campaign finance 410', '94040', '2004 bicyclenetwork', '2011 herrera mayor campaign contributions', '1975 Jim Jones', 'fires', '1GAGF', 'year', 'parking permit', 'tickets parking', '155 arbor st', 'case data', 'community gardens', '1385 carroll ave', '\"></script><script>alert(1)</script>', 'entitlements', 'centerline', 'sensor', 'curbs', '490 POST ST', 'cars', 'sf.data.gov', 'Water Bodies', '3710017', 'open business locations', '3953 24th street', 'accommodation', 'sea level rise', 'language', 'Compensation', 'curb ramp', '331 jersey st', '511', '8720', '345 spear st', 'school district', '1016406', 'streets of', 'revenue', '\"loading zone\"', '701 Minnesota street', '311 street and sidewalk service orders', 'lyft', '\"harris corporation\"', '1 scott street', 'open', '1000 howard st', 'active streets', '160423641', '1698 10th', 'district', 'Property Information Map', 'lobbyists', 'streetlight', '6621 California', 'food inspections', 'access to private vehicles', 'terrain', '1358 28th avenue, san francisco, ca', 'public toilet', '\"Employee Compensation\"', '</script><script>alert(1)</script>', 'population', '2014 TIGER', 'landuse', 'Aaron Apperson', 'ACCO', '15421808', '1010388', '111 Ellis Street', 'marijuana', '66185', 'rent', '3139 mission street', 'active businesses', 'census 2000 blocks (no water)', '637 powell', '\"sfo customer survey data set dictionary\"', '3-1-1 reports', 'public transportation', 'Drinking water', '146 galewood circle', 'film locations', 'performance', '545 sutter street, san francisco', 'domestic violence', '415-701-5493', '200', 'PARCEL OWNER', 'price', '1443 46th ave', 'tract', '\"parking tax\"', '431379', '5413 Hillside av.,el cerrito94530', 'hurley', 'sale', '311\"', '1004301', 'citations parking', '\"taxi\"', 'slope', 'parking citation', 'BART', '\"public housing\"', '153280173', '\"Harris\"', 'bike lane', '337 spurce streeet', '\"urban agriculture\"', '2021 baker st.', '1996-2013 city survey data', '199 new montgomery', 'geography', 'housing facts', '1996-2011 City Survey Database', 'SFFind neighborhoods', '310274', 'crime', 'bay area building', 'telecom', '420378', '999 brannan', 'public space', '601 laguna street 94102', 'muni', 'street sweeper', 'contracts', 'Property Assessment', '94124', '94123', '94122', '177 stillman st. sf', 'housing prices', 'boundary', 'SCHOOL', '2013 City Survey Report', '338 fillmore', '20th ave', 'Building Footprints', '700 steiner', '2282 market street', 'summary', '43 ruth street, san francisco', '3725019', '2008 vallejo', '2761 BRYANT', 'building data', 'climate and health', 'traffic count', '2005 housing inventory', 'college', '355888', 'parking', 'sport', '929 oak st., sf, ca 94117', 'accounting, purchasing, EIS', 'mortgage', 'streets shapefile', 'city property', 'boundaries', '\"Treasure Island Music Festival\"', '3024 mission st', 'affordable', 'jobs', '2208 MISSION STREET,', 'SFPD', '2951 bush', '66416030', 'cities', '2014 City Serve report', '14212896', '\"vehicle maintenance\"', 'contract', '50 1', '1439 16th ave', \"'housing inventory'\", 'counter culture artist management', 'street permit', 'credit card', '960 howard', 'uber', 'Registered Businesses', 'cancer', '460 post street business search', '1023138', 'poo', 'pole', 'grants', '460 schedule', 'traffic volume', 'turkey', 'Active Business Registration', '\"address locator\"', 'allcnnsinorder', '450 sutter', '375 bush street', '2015 Form 460; Schedule G', 'public safety', '1 post st', 'academic performance index', '83 mcallister st, san francisco', '333 market street energy', 'pci', 'health inspection', 'abondoned properties', 'Parking street', '516 ellis', 'sound', 'disabled parking', 'street map', 'grocery stores', '655 natoma', 'resturant', '3D MODEL', 'Tow Zone', 'Accountalent', '\\\\restaurant', 'landslide', '\"tax rates\"', '2911 16th st police', 'soil', '1801 silliman st', 'CRIME', 'sfmta bikeway', '[Socrata] 311test', 'technology', 'expenditures', '2016 crime', 'Muni', '333 market street', '2013 quarter 3', 'property value', 'find my BAN', 'events', '150824861', '1600 Fell street', 'sweeper', 'oil', '1578 Newhall St. San Francisco', '255 17th', 'tree canopy', '1917 Broderick street', 'block group', 'footprint', '857 39th Ave.', 'business registry', 'Job open', 'drain', '311 service orders', 'vacant', 'Accounts Payable', 'planning cases', '1951 oak st', 'Graffiti', '\"personal property\"', '\"green zone\"', '\"general plan land use\"', 'census 2000 tracts (no water)', 'taxi', '211', 'Abuon', 'address range', 'PARK', 'base map', 'restrooms', 'new businesses', '\"urban density\"', 'speed', '2828 sloat', 'accepted streets', '158450356', 'rental', 'centerlines', '314315', '1 Longview Court', 'Open Spaces - City Planning', '732 brannan', '488678', 'income', 'fire station locations', 'traffic', 'railroad', 'accepted', '\"historic zoning\"', 'water shapefile', '\"population density\"', '\"affordable housing\"', '\"load capacity\"', '112 7th street', '956 Clayton', '555 market street', '3D building model', 'a shooting at 30th and mission last nigth', '750 Sutter St, San Francisco, CA 94109', 'homicides', '\"fire incidents\"', 'apartments', 'physical contours', 'street use', '94130', 'curb ramps', '94132', '94134', '62 linden avenue, san bruno, ca', 'parking citations', 'filming locations', 'mental health', 'ellis', '1850', 'citylots', 'kml', '2000 census', '\"Asthma\"', 'stops', '2190 Lombard St, San Francisco, CA', 'cannabis', '94102 geojson', 'community benefit', '911', 'dispensary', 'business', '1163 Geneva', 'ADDRESS', '2609', '2000 census tract shapefile', '{searchTerms}', 'cycling', 'parking census', '470777', '\"Campaign Finance - FPPC\"', '\"><script>alert(1)</script>', 'address points', 'sro', '647f', 'street center line', 'Open Spaces City Planning', 'city land', 'property info', 'road', 'gps data', '100 church street', 'homeless', 'Ada', '5 DAY WATER RELATED', '1698 10', 'ac transit', 'water bodies in san francisco', 'hazards', 'human waste', '2282 Market Street', '256 Fowler Ave.', 'drains', \"'><script>alert(1)</script>\", '579 Teresita Blvd.', 'building inspection', 'active contracts', 'Active', 'accident death', '200 market', 'cases by channel chart', 'shapefiles', '235 pine', 'on-street parking meters', 'assembly districts', 'business registrations', '460 forms Schedule A', '1028921', '2014 q4 planning pipeline', '300 sea cliff', 'nightlife', 'accidants', 'street lights', '\"75 surrey\"', 'toilet', '94102', 'crime data', 'ad', 'cbd', 'citation', 'sales', '285 geary st', 'hospitals', 'inspections', 'film', 'map of crimes incidents', '1 market', 'land use', '466853', '2090 Evans Avenue', '1445', 'trash', 'registered business', 'poop', '2004', 'shelter', '461', 'crime maps', '\"vacant lot\"', 'year built', 'CNN', '484', 'building', 'acs demographic', '460 dwight street', '72 hour parking restriction', 'wifi', '42 jules avenue', 'sewer', 'bay area zip codes', '317 oak park dr', 'City auto supply', 'property taxes', 'Business account number', 'colleges', 'abortions', 'street closures', 'civic art collection', '\"secured property assessment\"', 'Sales per restaurant', '2 hour street parking 2999 California Street', '400 Duboce Street', 'commute', '2010 population', 'pedestrian safety', '201 connecticut', '619 union street', '308 Font blvd', 'religious', 'children', 'alcatraz', '23792000', '956 madrid', '\"karen lum', 'census2000_blk_nowater', '.pmf', 'crypto*', 'TAZ', 'fire incidents', 'hotels and apartments', 'health', 'nodes', '3864 23rd street', 'eas address', 'bike path', 'GIS', 'parcel', 'ozone thai', 'health care facilities', 'accessory dwelling unit', 'published data', 'water bodies', 'ticket', '460 forms schedule A', 'address locater', '20 Roussea Street', '5300 3rd street', 'park score', 'police plot', '3440 Broderick Street', '\"propterty tax rate\"', '501c3', 'pbc', '460 forms schedule a', 'abandoned waste', 'street centerlines', 'neighborhood', 'truck routes', '15599895', 'housing violations', 'streets', 'bicycle collision', '3864 23rd street ban', '.SHP', 'sud', 'Bay Area - General', '311 service requests', 'sf solar map', '94 stratford drive', '.cad', '1004569', '53mission', 'openbook', '20 jones st', 'public', '\"office of citizen complaints\"', '2013 housing inventory', '158450356 \\\\', '311 Information Requests by Month', '2127', 'lobbyist', '10 glendale street', 'berkeley', '1188 Harrrison Street', 'affordable housing', '\"120 lake\"', '1849', 'sanfrancisco', '3 buena vista ave east, sf', 'zip code', 'airport', 'david owen', 'social', '701 GOLDEN GATE AV', '1817 jackson', '3rd st bridge', '83 mc allister st, san francisco, ca', 'transit', '2315 clement', '581 market', '1906', '1805 S. Van Ness', '838 grant ave', '1683 7th avenue', '311 apps', '\"street sweeper\"', 'traffic density', 'injury', 'assessor', 'water use', '2015 crime statistics', '614-23040', 'Fleet', '2015 elections', '311 dpw', 'building permit', 'registered business locations', 'better streets plan', '829 york street', '606 post street', 'dem', 'accident at work', '311\\\\', '201 Hale Street', '152102124', 'collision', '350 Mission', 'CAD', 'homicide', '544 Castro St', '311 data', 'land cover', 'open busienss', 'maps', '2133 stockton', 'speeding', 'csv', '1698', '2010 census block', 'Business Registration Certificate', 'plant', 'cctv', 'Dog', 'catalog', 'lighting', 'gtfs', 'ethics', 'response', 'a', 'bay area land use', 'imagery', '2016 budget', 'city features', 'shore', 'ortho', '2015 Q4 pipeline', '2a9c-tbjy', '0427372-01-001', '1515 s. van ness', 'Film', '3rd Street Collaborative', '2014 housing inventory', 'disabled', 'parcel map', '496', '497', '46 El Sereno Court 94127', '2243 32nd Avenue', 'Address locator', '15EXC-3156', 'City-block level weather', 'child care', 'census2000', \"333 O'Farrell St, San Francisco, CA 94102\", '916 pine street', '701 battery', 'food', 'demographics', '317 leavenworth', 'recreation', '460 subcontractors', 'fb global', 'sweeping', '101 utah street', '533 Oak', 'accountant intern', 'bus route', 'property assessment', 'street trees', 'smart meters', '2016 demographics', '542427', 'summary totals', '1 Tuscany Alley', 'SFO', 'SFMTA Bikeway Network', 'Accenture', '\"carbon monoxide\"', 'Hospitals', '\"cindy wu\"', 'house', 'energy', 'pedestrian volume', 'Registered business locations - San Francisco', 'crime incident', 'insurance', '1999reports', 'alcohol', 'Water Bodies in San Francisco', 'parcel data', '\"general plan\"', '679 san jose san Francisco', '2 Crestline Dr.', 'political contributions', 'fte', 'address locator', 'highway', 'electricity use', 'fiber', 'crime 2015', 'crime 2014', 'Street cleaning', '397761', 'uncashed', '337 spurce st san francisco ca', 'sf311', '311 case data', 'job density', '754 moultrie group', '1021981', '8300 Oceanview Terrace, 304, San Francisco', '46-G', '2011 pipeline report', '350 mission street', '1420 5th Ave., san francisco, ca', 'preservation', 'accidnets', '.cvs', 'existing commercial', 'stormwater', 'wages', 'san francisco shoreline', 'santa clara', '\"campaign finance dashboard 2015\"', '620 Branna', 'temperature', '5800 3rd St', 'san francisco facilities', '2014 map:crime incidents', '2761 Bryant', '\"block group\"', '16exc-1632', '1700 Newhall street', 'gps', '1207 cole', '2012 Housing Inventory', 'general plan', 'hotel', 'park', '555 minnesota street', '311 service request', '1242 Lombard', 'stairs', '152280530', 'Taxi', 'grocery', '888-886-6335', 'youth', '6/19/15', 'marriage', 'census tracts', '911 fire', 'building height', '177 Stillman Street report', '2096 castro street', '\"City', '\"miranda nye martin\"', 'pedestrian', '2385 bush st.', 'graffiti', 'business certificate', '9050', '2/26/16', 'Fire Inspections', '267 Green Street', 'air quality', 'SF shoreline', '0372909-02-001', 'Food', '\"alain gervais\"', 'bike lanes', 'zipcode', 'housing inventory', 'Census 2010', '3D', '\"school zones\"', 'street space', '340 warren drive san francisco, ca', '2310 mason street', 'affordability', '3par', 'zip codes', 'youth and seniors', 'Bay Area General', 'salary', '415 Euclid Ave', 'arson', 'mobile', 'street parking', '\"3015 pacific\"', 'clean', '\\x89\\xdb\\xa2 Proportion that is rent controlled or affordable', '2011 pipeline', 'emergency response districts', '9 geneva ave', 'businesses', 'caltrain', '1895 sacramento st', '400 Duboce', 'Poop', 'streetlights', '2650 18th', '21 homestead', 'street segments', 'Traffic', '527 42nd ave', 'Accident', 'hiv', '\"Assessment Appeals Board\"', '3739221', '2013-12-14-4989s', '1013343', 'trees', '929 oak st.', 'census 2010', 'zoning districts', 'heart disease', '! Cannot open C:\\\\Users\\\\CafeThai\\\\AppData\\\\Local\\\\Temp\\\\Rar$DIa0.256\\\\\\x88\\xfc\\xdd\\x88\\xfc\\xb4\\x88\\xfc_\\x88\\xfc\\xc1\\x88\\xfc\\xa2\\x88\\xfc\\xac.rar The system cannot find the path specified. ! C:\\\\Users\\\\CafeThai\\\\AppData\\\\Local\\\\Temp\\\\Rar$DIa0.256\\\\\\x88\\xfc\\xdd\\x88\\xfc\\xb4\\x88\\xfc_\\x88\\xfc\\xc1\\x88\\xfc\\xa2\\x88\\xfc\\xac.rar: No files to extract', 'evicitions', 'lobbyist contributions', 'Marijuana', '334 harriet st', 'bird', 'activity', '3d', '224 ordway st', 'restaurants', '467401', 'art', 'bart', 'excavation', 'Them Ky', '311', 'cases by channel', '16exc-3031', 'supervisor district', '\"Continental appliance\"', '\"street segment\"', 'migration', '\"Harris Corporation\"', '2012 housing inventory', 'contour', '555 4th st', '\"Code for Ameria\"', 'Buildings', '150847324', 'movie', 'payroll tax exclusion', 'addresse', 'libraries', '2015-000517ENV', '150-235-995', '17 San Andreas Way, San francisco, CA', '542094', 'bay area cities', \"'></script><script>alert(1)</script>\", '2000 census shapefile', 'faith organizations', '3755-147', '2211 stockton st', 'incident', 'foot print', 'existing commercial buildings', 'license', 'restaurant', '2250 POWELL STREET]', 'stclines', 'treasure island', 'Business Registration', 'FTE', '409 illinois', '15exc4954', 'point', '1080 Eddy', 'recycling', 'accidents gis', 'sweep', 'community', 'eviction', 'Traffic Control Signal', 'church', 'inclusionary housing', 'abandoned properties', '83 mc allister st 513, san francisco, ca', 'publishing', 'restaurant score', '1050 Sansome St', 'acceptance', '\"Condo Conversion\"', '360 somerset st', 'street tree map', 'citations', '689 20th avenue', 'bicycle network', 'SFUSD', '311 information requests by month', 'maps muni', 'rent board', 'fire', 'dog parks', '2016 Feb 26 arrests in bay view', 'lives', 'GTFS', '5413 Hillside av.,el cerrito,ca. 9453094530', '6524-032', 'plants', 'vallejo', 'bids contracts', '311 shelter list', 'neighborhood groups', '2015 election', 'elections', 'housing code violations', '2 bedroom homesale', '2100', '1999 crime', 'parcel zoning', 'analysis neighborhoods', 'health facilities', '700 Madrid', '152500694', '\"\"health care security ordinance', '1231 MArket St', 'fppc 460', 'ethnicity', '\"cindy wu\" dccc', 'italy', '208 girard', '530 Brannan Street', 'street shapefile', '917 florida', 'development', 'elevation data', '2012.0506', 'bikeways', '139 baden', 'cleaning', '\\x89\\xdb\\xa2 Proportion of Households not living in Overcrowded Conditions', '\"propterty tax', 'recent', '442 holloway ave., SF', 'high injury', '2695 43rd avenue', '1008 Santiago street, san francisco, ca', '433', 'green space', 'feces', 'taipei', 'small business', 'landmark', '450443', 'spend', '*.gdb', '///', 'shape', '1951 oak', '\"housing inventory\"', '194415', 'streets san francisco', 'loading', '721 18th avenue', 'contractor', 'crime rates', '32 richland avenue steven holland', 'location', \"'</script><script>alert(1)</script>\", 'violations', 'complaint', 'vendor', 'emergency', '550 3rd street san francisco ca', 'Chinatown', '1099', 'Basil Thai', 'Active Employees By Union and Department', 'secret garden tea house', 'sconnect', 'accident reports', '1999 reports', 'Access to healthcare', '\"harris\"', '2014 pipeline', '1015 geary', '152583535', '1017984', 'sfmta', '384647', 'weiner', 'Sweeper Scheduled', 'building footprints', 'sf neighborhoods', '2013 business', '2015 q1', 'litter', 'DEM', 'census 2000', 'garage', 'pet', 'religion', '1227 guerrero', 'acqua e sapone', '1560 8th ave', 'accessory dwelling', '2012 business', 'accela', '\"no on f\"', 'cases by neighborhood', '.xlm', '08-192', 'traffic accident', 'aadt', '.xls', '311 complaints', 'Coastal zone', 'faith', 'pipeline', '1899 mission', 'dataset inventory', '9937550', 'truck', '\"Historic Preservation\"', '1230 markert st', 'block', 'pollution', 'resiliency', 'sf blocks', 'pipeline 2015', '729 Shotwell St', 'data academy', 'film location', 'resilience', '77 san juan ave', 'spending', '460 - Schedule A', 'job titles', 'vendors', '149 Fell', '403432', '2004 bicycle network', '1660 Stockton at', '94080', 'registered', '.drg', 'street of san francisco', 'AADT', '\"potrero hill\"', 'zika', 'Golden gate larkin', '478 utah st', '460 forms schedula', 'Streets', '\"height limit\"', '13 Melrose ave', 'minutes spent walking or biking', '2325 Pine Street', 'dpt_bike_network', 'Parking meters dataset', '589 Post St, San Francisco, CA 94102', 'supervisor', '1755 clay st.', 'green connections', 'excavation permits', 'treasure Island', '1455 Custer Street', 'human resources', 'accessibility', 'Parks', 'app showcase', 'curb', 'low income', '\"inclusionary housing\"', '1890', '510 folsom', '2124 Great Hwy', '143082730', 'polygon', 'employment', '2139', 'property assessors roll', '\"Bonaguro\"', 'tow zone', '2919 folsom', '163 russ st.', '134814', 'eviction notices', '1612 fulton', 'san francisco crime', 'SFPD reported incidents', '\"Historic Evaluation\"', 'freeways', '153 college ave', 'parking ticket', 'land', 'age', '2003', '2000', 'parking meter', '1851', '2008', '2009', 'Registered_Business_Locations', '6524/032', '1853', 'sffind neighborhoods', '311 noise', '1480 larkin st', 'highways', 'farms', 'active blocks', 'food truck', '120841196', 'Business', 'amount of private vehicles', '92463779', 'contours', 'quarterly', '407 jackson st', '75 Dore Street', '429887', 'garden', 'Registered business locations', 'public housing', '953.7', 'facebook', '175 Ney Street', 'acres', 'precinct', 'lobbyist activity', '37.790897,-122.402850', '1444 market st', '\"1698 10\"', 'acxiom', 'race', 'restaurant health', '355 Bocana Street', '960 howard street', 'obesity', 'inspection', '420 grove', '16EXC-1871', '95051', 'licenses', '311 constituent service', '150-761-451', '2079 15TH AVENUE', 'speed limits', 'universities', 'mobile food', 'traffic accidents', '.sid', 'spending and revenue', '100 year storm flood plain', '311 cases', 'access', 'poles', '\"red bull\"', '311 sf data set', '2010 crime', 'bike routes', 'recent graffiti reports', 'bay area general', 'shoreline', '177 stillman st., san francisco, ca', 'abandoned vehicle', 'poverty', '\"department expenditures\"', '90 day cases', 'ferry', 'accessor', '429393', '2015-001144PRJ', 'orthophoto', 'metro', '31', '1175 Clayton', 'sales tax', 'building heights', '49276', 'survey', '94124 district', 'parking shapefile', 'addresses', 'api', 'apn', '360 post', '386909', 'san francisco', 'high injury corridors', '735 fell street', 'city blocks', '1938', 'zip', '\"Community Benefit District\"', 'address with resident names', 'vehicle', 'SFPD incidents', '64 Perine Place, Sf', 'hydro', 'shape file', 'floodplain', 'Orthophoto', '2020 Ellis st', 'rent control', 'benchmark', 'trail', 'historic district', 'train', '53 mission', '\"focus realty\"', 'chapter 20', 'women', 'customer', 'account', '414251', '2015 quarter 3', 'accrued', 'Police', 'abco', 'tax', '2015 Lobbyist', 'open space', '277 Columbus Ave', 'sea level', '345 Williams Avenue, San Francisco', 'sidewalks', '90 day', 'commercial building', 'animal', 'chart of cases by channel', 'rent burden', '2577 1/2 post street', '2449350', '2015 311 budget', 'Solar Map', '2282 market st', 'buildings', 'blocks', '\"floor plan\"', '177 Stillman Street, San Francisco, Ca', '5 chilton', '\"Property Tax\"', 'police district', 'eas addresses', '114 Henry street', 'abuse', 'bay outline', 'ethnic', '1453 mission street', '576 natoma st, san francisco, ca', 'Uber', 'tax revenue', 'SF Solar Map', '38 sadowa', 'lines', '160 Swiss Avenue', 'San Francisco gis', '1244 larkin', '2015 Q3', 'addiction', 'TAXI', '2070 latham', '1929 pay', 'new business', 'meter', 'Tennenbaum', 'motorcycle', '\"michael yarne\"', '3067 25th street', 'business locations', 'Zoning Districts', 'basemap street centerlines', 'grafitti', 'streets of san francisco', '3D building', 'block lot', '\"homeless shelters\"', '1996-2013 city survey', '2015', '\" ami\" 1990', 'bikeway', '2011', '2010', '2013', '2012', 'Red light camera', 'crash', '225 granville', '444 de haro st', '122 farallones st', '1008099', 'blocklot', 'Adam', '1024303', 'outlines', '795 folsom', '849(b)', 'agustin anda', 'university', '\"year built\"', '2015RevisedAssessorBlockMaps', 'late contributions', '1865 4th St, San Francisco', '3490 20th st', 'BUSINESS', '\"Loma Prieta Earthquake\"', '\"grand jury\"', '\"small business\"', '700', '675 Naples Street', '80', 'agriculture', '465639', 'fire stations', '49 Christopher Dr, San Francisco, CA', '5124007', 'entertainment', 'airbnb', '345 Williams Avenue,', 'accrued expenses', 'parking tickets', 'real time', '\"places of entertainment\"', '2015 sfo', '\"vending machine\"', 'data inventory', '2016 Assessor map', '\"1698 10th\"', '810 clay street, san francisco, ca', 'road network', 'open parks', '2010 population shapefile', '2009 housing inventory', 'city facilities', '2014 census tracts', 'liquifaction', 'route', '3401 clement st', '\"Basemap Street Centerlines\"', 'property information', '49ers', '2919-21 folsom st', 'homelessness', 'busines', 'retail', 'housing', 'aaron peskin Campaign Finance Summary Totals 2015', 'restaurant scores', '\"land use\"', '\"ryan white\"', '\\\\cleaning', '*bike_network', '400 Castro soul cycle', '269 joost ave', '1989', '\"Assessor Parcel database\"', 'Active Employee', '40 jessie street', 'accountant', 'a card', 'san francisco outline', '1660 Stockton street', '\"street segment:', 'household income', 'enforcement', 'adrian santos', 'academy', '186 valley street', 'city limit', '390 diamond street', '20th AVE permit', 'police stations', 'PORT JURISDICTION', '1365 Noriega Street', 'stock market', '425 market', '2010 map:crime incidents', 'bay area counties', 'rent prices', '\"Communication Infrastructure Corporation\"', '.shp', 'tracts', '2014', '608 haight', 'transit stop', '8553000366', '470 lake st.', 'map of crime incidents', '2008 crime data', 'Parcel', '2400j2251', 'fire station', 'parks', 'PORT', '3d building model', '1125 17th avenue', 'jail', 'vegetation', 'accuracy', '2016', '177 Stillman', 'police records', 'parking signs', '3d print', 'sfo', 'census block', 'neighborhood boundaries', 'highschool', 'realtor', '71 ford st', 'topographic', '337000', '1374554', 'medical marijuana', 'parking lots', '1040 howard st', 'abandoned vehicles', 'sf shoreline and islands', '8300 Oceanview Terrace, 304,', 'dbi', '447 Broadway Street', '311 constituent service request data', 'violation', 'traffic stop', 'vacancy', 'business name', 'STREET', 'pacific eye associates', '460 A', '460 G', 'Public', '460 E', '12B', 'Abtahi', 'access to healthcare facilities in San Francisco', 'mumbai', 'candidates', 'employee', '460 a', '460 g', '460 e', 'dpt bike', '203 Cotter st', '\"Data Officer\"', '122', '\"place of entertainment\"', '1001363', 'burglary', '460 post street', 'county boundary', 'shp', 'bay trail', 'evictions', '2004 rents', '94041', 'watershed', '\"homeless\"', 'police incidents', '1155 folsom st', 'building footprint', 'sfpd districts', '543 19TH AVE', '2134 GREEN STREET #3 SAN FRANCISCO, CA 94123', '610 page street', 'crime san francisco', 'acces to private vehicles san fran 2014', 'building footprint shapefile', '140820227', '311 incidents', '650 40th ave', '600 Van Ness', 'supervisor districts', 'crime map', '5296/019', 'public schools', '1 rincon', '13898090', 'academy of art', '223 missouri', 'parking meters', 'grafiti', 'job', 'key', '2400j', '\"burns', '49 south park st', '240 2nd Street', '1693 7th avenue', 'hydrology', 'limits', '425 market street', 'drug', '350 mission', 'bed bug', 'street of San Francisco', 'bicycle parking', '\"street light\"', 'canopy', '153 arkansas', '2011 mayor campaign contributions', '601 california', '15 arguello', 'Lot', 'aaron peskin', 'oakland', 'public school', 'transit stops', 'police districts', 'Elevation', 'discrimination', 'traffic light', 'street evaluation', 'map of crimes incidents\\x89\\xdb\\xaa', 'json', '732', 'restaurant inspection', 'accessory dwelling units', '1899', 'waste', '465', '333 lake street', '460', '933 treat', '*.shp', 'street intersections', 'smoking', 'volunteer', 'Street sweeping', 'criminal', 'abandoned', 'movie locations', 'Active business', '560 mission street', 'bayview', 'actnet', 'access to private vehicles san fran 2014', '79 Midcrest Way', '933 treat ave', '1010 fitzgerald ave, san francisco, ca', 'avl', '1801 Hayes', '3008 18th street', '\"floor area\"', 'finance', '2016 budget publication', '90033', 'Dol Ho', 'A Card', '554 irving street, san francisco', 'bus stops', '2013 crime', 'data catalog', '225-33050', '1br 2br', '530 brannan street business lincenses', '631 cole st', '690 folsom street', 'paving', '18 latona st', 'lobby', '94116 restaurant', 'diabetes', '//', 'street light', 'indonesia', '\\x89\\xdb\\xf7map of crimes incidents', 'business registration', '1485 Haight', '469249', '460 schedule e', '239 carl street', '361 3rd ave', 'clinic', 'San Francisco', 'adu', 'density', 'residential', 'demographic', 'bench', 'arrest', '2015 residential development pipeline', 'ada', 'aerial', 'SF Shoreline and Islands', '911 response', 'seismic hazard zones', 'address to geographic location', 'san francisco shapefile', '\"propterty tax\"', 'historic', '\"gas leak\"', '265', 'intersection', '14186571', 'health score', 'miami', 'popos', '132A Lexington', '\"continental appliance\"', 'aaron peskin Summary Totals 2015', '2251', 'accessible', '474163', '1002155', '2172 Pacific Avenue', '3800 16th street san francisco, ca', '5155', 'library', '\"load bearing capacity\"', 'active companies list', 'home', 'ballot', '150857674', 'city lots', 'salaries', 'total housing units', 'zoning 2008', 'intersections', 'footprints', '3241201', 'noise', 'crp/cypress market', 'foodtruck', 'census tract', '2919 mission street', 'employee compensation', 'air traffic', 'additional street space', 'counties', 'consumerism', 'city properties', 'actual', 'registered businesses', '\"general plan\" \"land use\"', 'wind monitoring', '\"karen lum\"', '2013 Housing Inventory', '2598 Mission Street', 'registered business location', 'tenderloin', 'weather', 'business owner', 'roads', '460 contractors', '101 Post', '1551 Pacheco', '163 Ney St', 'museum', '*', 'buisness', '\"CBD\"', 'lidar', '880 Franklin', '2015 Q2', '2011 herrera campaign contributions', '2015 Q4', 'mobile food facility', '3 d buildings', 'street names', 'certificate', 'bus', '311 budget', 'volume', '94536', 'construction', '2016 Assessor map updates', 'eas', 'count', '2004 food vendors', '2713 diamond', '282 harbor rd san francsico, ca 94124', 'stories', '3333 California Street', 'accidenta', '150327887', '\"john ortiz\"', '130058911', '460 schedule G', 'mission bay', '258 9 th st', '460 schedule A', '2015 enacted budget', 'education', '158 maynard', '460 schedule g', 'bikeway network', '44', '460 schedule a', 'assesment', '2130 JAckson street', 'sf outline', '654 46th Avenue', '44 samoset st', '\"continental electric\"', 'street use permits', 'address book', '376 ellis street', 'SanFrancisco.gdb', '240 2nd', '200 hazelwood ave', '353 BEACH RD, BURLINGAME, CA', 'bay area', '387 ellis street, san francisco, ca', 'sf movies', 'post office', 'accidents', 'gardens']\n"
     ]
    }
   ],
   "source": [
    "print search_terms"
   ]
  },
  {
   "cell_type": "code",
   "execution_count": 16,
   "metadata": {
    "collapsed": false
   },
   "outputs": [
    {
     "data": {
      "text/html": [
       "<div>\n",
       "<table border=\"1\" class=\"dataframe\">\n",
       "  <thead>\n",
       "    <tr style=\"text-align: right;\">\n",
       "      <th></th>\n",
       "      <th>Search Term</th>\n",
       "      <th>Exit Page</th>\n",
       "      <th>Total Unique Searches</th>\n",
       "      <th>Results Pageviews / Search</th>\n",
       "      <th>% Search Exits</th>\n",
       "      <th>% Search Refinements</th>\n",
       "      <th>Time after Search</th>\n",
       "      <th>Average Search Depth</th>\n",
       "    </tr>\n",
       "  </thead>\n",
       "  <tbody>\n",
       "    <tr>\n",
       "      <th>3519</th>\n",
       "      <td>194415</td>\n",
       "      <td>/Economy-and-Community/Registered-Business-Loc...</td>\n",
       "      <td>2</td>\n",
       "      <td>1.0</td>\n",
       "      <td>0.00%</td>\n",
       "      <td>0.00%</td>\n",
       "      <td>0:00:06</td>\n",
       "      <td>2.5</td>\n",
       "    </tr>\n",
       "  </tbody>\n",
       "</table>\n",
       "</div>"
      ],
      "text/plain": [
       "     Search Term                                          Exit Page  \\\n",
       "3519      194415  /Economy-and-Community/Registered-Business-Loc...   \n",
       "\n",
       "      Total Unique Searches  Results Pageviews / Search % Search Exits  \\\n",
       "3519                      2                         1.0          0.00%   \n",
       "\n",
       "     % Search Refinements Time after Search  Average Search Depth  \n",
       "3519                0.00%           0:00:06                   2.5  "
      ]
     },
     "execution_count": 16,
     "metadata": {},
     "output_type": "execute_result"
    }
   ],
   "source": [
    "search_data.ix[search_data[\"Search Term\"] == \"194415\"]"
   ]
  },
  {
   "cell_type": "code",
   "execution_count": 33,
   "metadata": {
    "collapsed": true
   },
   "outputs": [],
   "source": [
    "search_terms_data = search_data[[\"Search Term\"]]\n",
    "search_terms_data = search_terms_data.rename(columns={\"Search Term\": \"search_term\"})"
   ]
  },
  {
   "cell_type": "code",
   "execution_count": 80,
   "metadata": {
    "collapsed": false
   },
   "outputs": [
    {
     "data": {
      "text/html": [
       "<div>\n",
       "<table border=\"1\" class=\"dataframe\">\n",
       "  <thead>\n",
       "    <tr style=\"text-align: right;\">\n",
       "      <th></th>\n",
       "      <th>search_term</th>\n",
       "      <th>processed_data</th>\n",
       "    </tr>\n",
       "  </thead>\n",
       "  <tbody>\n",
       "    <tr>\n",
       "      <th>0</th>\n",
       "      <td>business</td>\n",
       "      <td>business</td>\n",
       "    </tr>\n",
       "    <tr>\n",
       "      <th>1</th>\n",
       "      <td>crime</td>\n",
       "      <td>crime</td>\n",
       "    </tr>\n",
       "    <tr>\n",
       "      <th>2</th>\n",
       "      <td>crime</td>\n",
       "      <td>crime</td>\n",
       "    </tr>\n",
       "    <tr>\n",
       "      <th>3</th>\n",
       "      <td>311</td>\n",
       "      <td>311</td>\n",
       "    </tr>\n",
       "    <tr>\n",
       "      <th>4</th>\n",
       "      <td>streets</td>\n",
       "      <td>streets</td>\n",
       "    </tr>\n",
       "  </tbody>\n",
       "</table>\n",
       "</div>"
      ],
      "text/plain": [
       "  search_term processed_data\n",
       "0    business       business\n",
       "1       crime          crime\n",
       "2       crime          crime\n",
       "3         311            311\n",
       "4     streets        streets"
      ]
     },
     "execution_count": 80,
     "metadata": {},
     "output_type": "execute_result"
    }
   ],
   "source": [
    "search_terms_data.head()"
   ]
  },
  {
   "cell_type": "code",
   "execution_count": 39,
   "metadata": {
    "collapsed": false
   },
   "outputs": [],
   "source": [
    "search_terms_data['processed_data'] = search_terms_data.search_term\\\n",
    "                                        .apply(lambda text: text.decode('utf-8','ignore').encode(\"utf-8\"))\\\n",
    "                                        .apply(lambda text: text.lower())"
   ]
  },
  {
   "cell_type": "code",
   "execution_count": 42,
   "metadata": {
    "collapsed": false
   },
   "outputs": [
    {
     "name": "stdout",
     "output_type": "stream",
     "text": [
      "['220 30th ave', 'active business locations', 'traffic counts', 'lyft driver', '*.dpt_bike_network', 'traffic calming', 'facilities', 'crime rate', 'building permits', '1746 church street, san francisco 94131', 'right of way', '\"basemap street centerlines', 'pipeline q2 2015', 'sf shoreline', 'election results', 'electricity', '311 county', 'sffd', 'bike', 'external datasets', '311 human', 'geology', '800 detroit', '2014 crimes', 'tickets', '560 davis st san francisco', 'school', 'zipcodes', '2649 polk s', 'house income', \"'<script>alert(1)</script>\", '1235 bay', '573 andover street', 'census block group', 'case data from san francisco 311', 'bicycle', '1070 capitol', 'presidio', '25282', 'sfpd incident', 'budget', '272', 'street', '1485 bayshore', '301 baltimore way', 'abandoned vehcihles', '311 explorer', 'lights', 'moratorium', '\\xdb\\xa2 proportion of households not living in overcrowded conditions', 'public library', '8204', '2014 development', '3 rudden avenue sf ca', 'sfusd', 'hill grade', 'four days', 'sfpd', 'payroll', '106 grand view', 'parks shapefile', 'china', '2014 election', '2014 housing', '100', '101', 'art galleries', '460 d', '4610 mission street', 'census shapefile', 'employees', '123 retiro way', 'museums', 'payroll clerk', 'permit', '15sf036', '111 minna', 'human rights', 'topography', 'campaign', '460 - schedule a', 'precincts', 'county', 'counts', 'lobbyist contribution', '64 perine place, sf', 'open businesses', 'hospital', '\"clipper cove beach\"', '94158', 'business certificates', 'traffic control signal', 'assessment', '\"citywide performance measurement\"', '3067 25th street san francisco ca 94110', '\"wind monitoring\"', '766 vallejo', 'phone', '39th avenue', '0355/004', '469 union st', '2466 francisco', '9/1/01', '1990', '1992', 'permits', '\"2721 diamond\"', 'tenderloin housing clinic', 'pot hole', 'movies', '! cannot open c:\\\\users\\\\cafethai\\\\appdata\\\\local\\\\temp\\\\rar$dia0.256\\\\\\xdd\\x88_.rar the system cannot find the path specified. ! c:\\\\users\\\\cafethai\\\\appdata\\\\local\\\\temp\\\\rar$dia0.256\\\\\\xdd\\x88_.rar: no files to extract', 'tnc', 'exceptions', '1009-', '\"fire inspection\"', 'golden gate larkin', 'police station', '381216', 'household', '400 castro soul cycle', 'cases by neighborhood', '1931 35th ave san francisco, ca 94116', '\"health code\"', '\"sfmta route\"', 'shapefile', 'geojson', '574 escuela', '530 brannan street', '301 king st', 'beach', 'restaurant inspections', '\"code for america\"', 'homelessness', '511', '600 van ness', '353853', '\"><img src=x onerror=alert(document.domain)>', 'community resiliency', '94070', 'business registration certificate', 'aaron peskin payment received', '240 2nd street', 'active block lots', 'employee salaries', '1050 sansome st', '2010 census', '2945 baker st apt 5', 'green', 'street tree list', 'ambulance', '300 seacliff', 'homeless shelters', 'wind', 'street sweeping', 'pothole', 'dpt bike network', '337 spurce street', '40414', '.dwg', '727954', '\"sharper focus\"', 'planning districts', 'transit stops', '533 oak', '406', '403', '400', '\"public library\"', '15564537', 'coffee', '542 brannan', 'tourist', '1480 larkin', '\"vacant parcel\"', '255 17th', 'zoning', '151104052', 'form 460', '701 teresita san francisco, ca', 'schools', 'tourism', 'food hygiene', 'bank', '77116', 'lives restaurant inspection', '258 9th st', 'population density', 'fitness', '\"one way\"', 'open business', '94108', '\"san francisco general plan\"', 'address shapefile', '620 branna', 'dumping', 'crimes', 'five year plan', '1660 stockton at', '152233830', '6538/038', 'private schools', 'adapt', 'smf', 'accessible', '2015 budget information', 'incident arson', '1 tuscany alley', '141 eddy street', '\"expenditures by department\"', 'inspection food', '160080008', '445 kirkham', 'public art', '665 pine st', '600 fell st.', 'basemap', 'benchmarking', 'bus routes', 'appeals', 'accent', '15exc4667', '311 case', '\"basemap street centerlines\"', '67 silverview drive', '1952 larkin', 'basketball', 'soil types', '525 29th st', 'service', 'ed lee contributions', '161570631', 'tow', 'heights', '10b', '20200480', 'aaron peskin summary totals 2015', 'recent', 'murder', 'city-block level weather', 'business address', 'sanfrancisco.gdb', 'motorcycle parking', '1020749', '545-00500', '.json', 'tree', '453 masonic st', 'san francisco shapefile', '13 melrose ave', 'expa', 'planning commission president', '1230 market st', 'bridge', '3d building models', '106 powell street', '\"green\"', '1970', '\"population', '1013117', '709 geary st', '1041 alabama', '278 states street', '882 31st ave', 'senior center', '27 isis', '311 data set', '1br 2br', '2346-014', 'landmark', 'germany', '430 lake st', '855 folsom', 'neighborhoods', 'dog', '1992 map', 'freeway', 'abbrev', 'envista', '41 genebern way, sf', '24 shotwell', '331 jersey st parcel map', 'consumer', 'street sweep', 'city boundary', '177 stillman st', 'off street parking', 'operate business', 'business account number', '5 hudson ct, san francisco, ca 94124', 'fire department', '8714', '\"dog owners\"', '1952 larkin street', 'accident death', '\"community benefit districts\"', 'san francisco streets', 'asbestos', 'b6tj-gt35', '235 presidio avenue', 'coast', '292 douglass', '9/11/15', '\"single room occupancy\"', 'park lands', 'certified payroll', '14243059', 'bay', '160 swiss avenue', '415', '410', '\"places of entertainment\"', 'ban', '1 hour parking', '3d building', 'liquor', '2160 stockton', '127 san jose ave', '453234', '1611fulton', 'lots', '\"natural gas\"', '324 arkansas', '1415 scott street', 'compensation', '\"sea level\"', '2015 pipeline', '2386j', '1980 block', '469217', 'crime incidents', '1155 folsom at', 'abuon', 'census 2000 blocks', '49 south park st', '360 somerset street', '6621 california', 'medallion', '663 haight street', '2912 19th ave', 'climate', 'accident', 'excrement', 'fault', 'food inspection', '\"floor area\"', 'san francisco gis', 'aba therapy facilities', '\"shelters\"', 'job open', '1017361-01-151', 'height', 'active', 'sfmta bikeway network', '1450 green st', 'accidents pedestrian', 'conference', 'crime rates', '311 call metrics', '1158 noe street', '311 service ordes', 'stadium', '\"traffic analysis\"', '911 call', '544 castro', '1880 filbert', '911 calls', '150241102', '150765130', '\"cancer\"', 'child', '906', '311case', '162', 'san-francisco-parking-meters-map-and-dataset', 'air', 'reviews', 'bike parking', '26 eagle street', 'land value', 'property', 'cnn changes', '131 franklin street', 'soils', 'accidence', 'calls for service', 'seattle', 'pbc code', '311 call', 'emergency', 'abandoned building', '2346 lot 20', '1819', '655 natoma', 'bike shapefile', 'inventory', '6228', '6621', '405 valencia', '4058 17th st', 'published', 'rail', 'workforce', 'rain', 'topo', 'public works', '7332', 'median income', 'acoustics', '1975', 'aaron peskin campaign finance summary totals 2015', '\"city', 'ocean', 'traffic signals', 'abandoned properties', '8854', 'unemployment', 'photo', '2014 energy benchmark 285 geary', 'bike network', '1428 jackson st', '\"payday advance\"', '\"2713 diamond\"', 'advisories', 'prison', '855 folsom st, san francisco', 'hakam abdel fattah', '364472', '2 hour parking', 'elevation', 'municipal', '1012986', '301 claremont blvd', '\"residential permit\"', '3465 25th st', '\"lines\"', '2011 pipeline q2', '108 ellsworth', 'acident', '1996-2013 sf city survey', 'pavement', 'farmers markets', 'groundwater', '3d model', '384358', '2004 bike network', '285 geary st energy audit', '2010 us census data', '100 year flood plain', 'sfpark', '3440 broderick street', '20 jones', 'meters', 'election', 'census 2000 tracts', 'crime shapefile', 'business closing', '444 townsend', '\"property tax\"', '2015 budget', 'absconders', 'creative', 'filming', '5 thomas mellon circle', 'cnn', 'nail salon', '418 jessie st', 'addresse', 'business permits', '?debug=true', 'census', 'city owned facilities', '\"treasure island music festival\"', '2919 folsom st', '2901 sacramento st', '1834 grant', 'employment rate', 'schedule e', '14080248', '460e', 'schedule a', '460a', '\"parking tax\"', 'coastal', 'bay area - general', '460s', 'gis', '119 taraval', 'padmapper', 'altitude', 'legislation', '\"burt herman\"', '{searchterms}', 'open spaces', '679 page street', '\"heat wave\"', 'sfshore', '222 sasome', '\"small businesses\"', '1990-', 'film locations in san francisco', '71 ford st', 'wireless', '374 5th street san francisco', 'solar', '*.*', '\"campaign finance\"', 'census blocks', '1080 eddy', 'realtor_neighborhoods', '2015 q2', '1004458', '2010 census tracts', 'city survey', 'passenger', '427372', '200 6th st', 'active business', 'household size', '277 columbus ave', '8300 oceanview terrace, 304,', 'potholes', 'city auto supply', 'house sales', '2190 lombard st, san francisco, ca', '(415) 824-1602', 'cycling', '9 county boundary', '1427 11th ave', '315 28th avenue', '\"urban density\"', 'flood', 'leed', 'open spaces - city planning', 'test', 'roll', 'energy audit', '\"school zone\"', 'market street', '2015 q4 pipeline', 'supervisorial', '1865 4th st, san francisco', \"hunter's point\", '\"campaign finance - fppc\"', '40 genebern way, sf', '94103', '94102', '94104', '94107', 'pet', '460 summary', 'parcels', '750 sutter st, san francisco, ca 94109', 'accesor', '466 9th avenue', '83932', 'recidivism', '1700 newhall street', 'row', '425 market street energy', 'suicide', 'property assessment roll', '2208 mission street,', 'zone', '1416 polk street', 'environment', 'bicycles', 'sfpd incidents', '100 e grand', 'short term', '445 anderson', '450 golden gate', '5413 hillside av.,el cerrito,ca. 9453094530', 'sfopenbook', '729 shotwell st', '\"build out\"', '322 30th ave', '163 ney st', 'aaron peskin gift', '\"green infrastructure\"', 'campaign finance', 'mobile food truck', '63 woodland', '1630 30th avenue', '.csv', '959 noe street', 'gun', '1999', '60 agua way', '14315714', 'subway', 'real estate', 'san francisco shore', 'sidewalk', '94121', '68 cervantes blvd', 'shoreline shapefile', 'travel time', 'form 700', 'trails', '1231 20th ave, san francisco', 'cost', 'accountalent', 'street centerline', 'port', '1008785', '560 brannan', 'abdullah', '1798 grove street', 'geography', '1225 17th avenue', 'transportation', '2016 pipeline', '2385 bush street', '\"height', 'inclusionary', 'digital elevation map', 'water', '037290902-001', 'address', 'earthquake', '124 molimo', '3247 reserve ct, san jose, ca', 'business number', 'parcel zoning', '311 syringe', '372909', '308 font blvd', 'coastal zone', 'planning neighborhoods', '2014 tiger', '158 maynarad st', '5252 mission street', 'aadt', '2015 form 460; schedule g', '559 miramar', 'hotels', '38432250', '766 vallejo street', 'sports', 'films', 'plan areas', '1038 jackson', 'solar map', 'parking ticket', '425 market energy', 'street center lines', 'sf solar', 'on street parking', '923 goettingen', 'cases', '35 brosnan', 'active nodes', 'car', 'abortion', 'districts', '2016 feb 26 arrests in bay view', 'business licenses', 'incidents', 'minutes spent walking', 'san francisco boundary', 'cab', '2013 census shapefile', 'cad', '\"historic zoning districts\"', 'lobbying', 'neighborhood group', '2 casa way', '2010 tract population', '2016 assessor map', '140273353', '\"cable car\"', '311 dpw complaints', '1365 noriega street', 'active employee', 'secured', 'business license', 'secured property', '\"120 lake street\"', 'high school', '06/19/2015 dashiell hammet', 'development pipeline', 'economy', 'map', '1008809', '140878', 'accessory', '\"methane leak\"', 'sffilms', 'date', 'data', '3/1/01', 'bristol farms', 'vendor payments', 'outline', 'food trucks', '100 church', '.dxf', '75 dore street', '\"dog parks\"', '-122.407829844146 37.7826402567843', 'accidenas', '460 forms schedul a', '126', '2010 sfo', 'pipeline 2014', 'nlcd', 'civic art', 'walking and cycling', '136 arlington street', '94118', 'police', '700 madrid', '1163 geneva', '94111', '94116', '94117', '94114', '94115', '1051 grant ave, sf', '2325 pine street', 'sf shore', '3d public art', 'dpw', '2 plus 2 bookeeping', 'finance', '\"cbd\"', '\\\\', 'accomodation', '\"curtis dunn\"', '149 julian', 'parking restrictions', '838 detroit street', '\"health care security ordinance\"', 'street cleaning', 'maher', '17 san andreas way, san francisco, ca', '812 guerrero street', 'campaign finance 410', 'map of crimes incidents\\xdb\\xaa', '2004 bicyclenetwork', '2011 herrera mayor campaign contributions', 'fires', '\"employee compensation\"', 'year', 'parking permit', 'tickets parking', 'a-cards', '155 arbor st', '2240 market street', 'case data', 'community gardens', '1385 carroll ave', '\"></script><script>alert(1)</script>', 'entitlements', 'centerline', 'sensor', 'curbs', 'cars', 'sf.data.gov', '3710017', 'open business locations', '3953 24th street', 'accommodation', 'sea level rise', 'language', 'curb ramp', '1485 haight', 'registered business locations - san francisco', '331 jersey st', '462 douglass sr', '8720', '345 spear st', 'school district', '462 douglass st', '1016406', 'acco', 'streets of', 'revenue', '\"loading zone\"', '311 street and sidewalk service orders', 'lyft', '\"harris corporation\"', '1 scott street', 'open', 'molly saeger', '1000 howard st', 'active streets', '160423641', '1698 10th', 'district', 'lobbyists', 'streetlight', '80.004 employee compensation report', 'food inspections', 'access to private vehicles', 'terrain', '1358 28th avenue, san francisco, ca', 'public toilet', '</script><script>alert(1)</script>', 'population', 'open spaces  city planning', 'port jurisdiction', 'open spaces city planning', '1242 lombard', 'landuse', '15421808', '1010388', 'marijuana', '66185', 'rent', '\"bonaguro\"', '3139 mission street', 'active businesses', 'census 2000 blocks (no water)', '637 powell', '\"sfo customer survey data set dictionary\"', '3-1-1 reports', '309953', '1013914', '146 galewood circle', 'film locations', 'performance', '545 sutter street, san francisco', 'domestic violence', '415-701-5493', '200', 'price', '1443 46th ave', 'tract', 'complaints', '431379', 'hurley', 'sale', '311\"', '1004301', 'citations parking', '\"taxi\"', 'aaron apperson', 'slope', 'parking citation', '\"public housing\"', '153280173', 'bike lane', '337 spurce streeet', '\"urban agriculture\"', '2021 baker st.', '1996-2013 city survey data', '199 new montgomery', '\"category a\"', 'housing facts', '654 46th avenue', '310274', 'crime', 'bay area building', 'telecom', 'supervisor districts', '\"potrero hill\"', '999 brannan', 'public space', '601 laguna street 94102', 'crime map', 'muni', 'street sweeper', 'contracts', '5296/019', '94127', '94124', '94123', '94122', '177 stillman st. sf', 'housing prices', 'boundary', '2631 23rd', '338 fillmore', '20th ave', '700 steiner', '2282 market street', 'summary', '43 ruth street, san francisco', '3725019', '2008 vallejo', 'building data', '956 clayton', '203 cotter st', 'climate and health', 'traffic count', '111 ellis street', '2005 housing inventory', '1455 custer street', 'college', '355888', 'parking', 'sport', '929 oak st., sf, ca 94117', 'mortgage', 'parking street', 'streets shapefile', 'city property', '701 minnesota street', 'boundaries', '74 6th street', 'affordable', 'jobs', '2951 bush', '66416030', 'cities', '2079 15th avenue', '14212896', '\"vehicle maintenance\"', 'contract', '50 1', '1439 16th ave', \"'housing inventory'\", 'counter culture artist management', 'street permit', 'credit card', '960 howard', 'state senate', 'cancer', '460 post street business search', 'poo', 'pole', 'grants', '460 schedule', '825 brotherhood', 'traffic volume', 'turkey', '1600 fell street', '\"address locator\"', 'allcnnsinorder', '450 sutter', '375 bush street', '1188 harrison street', 'public safety', '1 post st', 'academic performance index', '83 mcallister st, san francisco', '333 market street energy', 'pci', 'health inspection', 'abondoned properties', '1008 santiago street, san francisco, ca', '345 williams avenue, san francisco', '516 ellis', 'sound', 'disabled parking', 'street map', 'grocery stores', 'chinatown', 'resturant', '\\\\restaurant', 'landslide', 'low income', '2911 16th st police', '447 broadway street', 'soil', '1801 silliman st', 'sfmta bikeway', '1660 stockton street', '175 ney street', 'technology', 'planning applications', 'expenditures', '2016 crime', '333 market street', '1801 hayes', '2013 quarter 3', 'property value', 'events', '150824861', '3333 california street', '20 roussea street', 'sweeper', 'oil', '2243 32nd avenue', 'tree canopy', '2015-000517env', 'block group', 'footprint', 'business registry', 'drain', '311 service orders', 'vacant', '\"condo conversion\"', '49 christopher dr, san francisco, ca', 'planning cases', '1951 oak st', '\"personal property\"', '\"green zone\"', '\"general plan land use\"', 'census 2000 tracts (no water)', '1709 broderick street', 'taxi', '211', 'address range', '1175 clayton', 'base map', 'restrooms', '1188 harrrison street', 'new businesses', 'registered business map', 'speed', '2828 sloat', 'accepted streets', '158450356', 'rental', 'centerlines', '460 forms', '314315', '460 dwight street', '732 brannan', '488678', 'fire station locations', '450443', 'railroad', '\"communication infrastructure corporation\"', '1420 5th ave., san francisco, ca', '\"historic zoning\"', 'water shapefile', '\"population density\"', '\"affordable housing\"', '\"load capacity\"', '112 7th street', '555 market street', 'a shooting at 30th and mission last nigth', 'homicides', '\"fire incidents\"', 'apartments', 'physical contours', 'street use', '94130', 'curb ramps', '94132', '1gagf', '94134', '62 linden avenue, san bruno, ca', 'parking citations', 'filming locations', 'mental health', '\"assessor parcel database\"', 'ellis', '1850', 'citylots', 'kml', '2000 census', 'stops', 'cannabis', '94102 geojson', '1231 market st', 'community benefit', '911', 'dispensary', 'business', '442 holloway ave., sf', '2609', '372 point lobos ave', '2000 census tract shapefile', '386909', 'parking census', '679 san jose san francisco', '470777', 'address points', 'sro', '647f', 'street center line', '2577 1/2 post street', 'city land', 'property info', 'road', 'gps data', '100 church street', 'homeless', '1698 10', 'ac transit', 'water bodies in san francisco', 'hazards', '2 crestline dr.', 'human waste', 'lot', 'drains', \"'><script>alert(1)</script>\", 'building inspection', '15exc-3156', '\\xdb\\xa2 proportion that is rent controlled or affordable', '1025 post', '200 market', 'cases by channel chart', 'shapefiles', '235 pine', 'on-street parking meters', 'assembly districts', 'business registrations', '1028921', '2014 q4 planning pipeline', '300 sea cliff', 'nightlife', 'accidants', 'street lights', '\"75 surrey\"', 'toilet', 'crime data', 'ad', 'cbd', 'citation', 'sales', '285 geary st', 'hospitals', 'inspections', 'film', 'map of crimes incidents', '1 market', 'land use', '1445', 'trash', 'registered business', 'poop', '2004', 'shelter', '461', 'crime maps', '\"vacant lot\"', 'year built', 'basil thai', '470 lake st.', '484', 'building', 'acs demographic', '72 hour parking restriction', 'wifi', '42 jules avenue', 'sewer', 'adam', 'bay area zip codes', '317 oak park dr', '5 day water related', 'property taxes', 'colleges', '256 fowler ave.', 'abortions', 'street closures', 'civic art collection', '\"secured property assessment\"', '1144 alabama', '400 duboce street', 'commute', '2010 population', 'pedestrian safety', '201 connecticut', '619 union street', '511 traffic', 'religious', 'children', 'apns for port of sf', 'alcatraz', '23792000', '956 madrid', '\"karen lum', 'census2000_blk_nowater', '.pmf', 'crypto*', 'fire incidents', 'aaron', 'hotels and apartments', 'health', 'nodes', '3864 23rd street', 'eas address', 'bike path', 'parcel', 'ozone thai', 'health care facilities', 'accessory dwelling unit', 'published data', 'water bodies', 'ticket', 'address locater', '5300 3rd street', 'park score', 'police plot', '\"propterty tax rate\"', '501c3', 'pbc', '460 forms schedule a', 'abandoned waste', '400 duboce', 'street centerlines', 'neighborhood', 'truck routes', '15599895', 'housing violations', 'streets', 'bicycle collision', '3864 23rd street ban', 'sud', '311 service requests', 'sf solar map', '94 stratford drive', '.cad', '1004569', '53mission', 'openbook', '20 jones st', 'public', '\"office of citizen complaints\"', 'basemap street centerlines shapefile', '2013 housing inventory', '158450356 \\\\', 'lobbyist', 'bayview', '311 waitlist', 'berkeley', 'affordable housing', '\"120 lake\"', '1849', 'sanfrancisco', '3 buena vista ave east, sf', 'zip code', 'airport', 'david owen', 'social', '2130 jackson street', '5413 hillside,94530', '1817 jackson', '3rd st bridge', '83 mc allister st, san francisco, ca', 'transit', '2315 clement', '581 market', '1906', '1905', '838 grant ave', '1683 7th avenue', '311 apps', '\"street sweeper\"', 'traffic density', 'injury', 'assessor', 'property information map', '579 teresita blvd.', 'water use', '2015 crime statistics', '614-23040', '2015 elections', '311 dpw', 'parcel owner', 'building permit', 'registered business locations', 'better streets plan', '829 york street', '606 post street', '1917 broderick street', 'dem', '299 fremont street', 'accident at work', '311\\\\', '79 midcrest way', '152102124', 'collision', 'supersonic ads', 'homicide', 'slope tin', '311 data', 'land cover', 'open busienss', '439 duboce ave, 94117', 'maps', '2133 stockton', 'speeding', 'csv', '1698', '2010 census block', 'plant', 'cctv', 'catalog', 'lighting', '2172 pacific avenue', 'gtfs', 'ethics', 'response', 'a', 'bay area land use', 'imagery', '2016 budget', 'city features', 'shore', 'ortho', '355 bocana street', '2a9c-tbjy', '0427372-01-001', '1515 s. van ness', '2014 housing inventory', 'them ky', 'disabled', 'parcel map', '496', '497', 'child care', 'san francisco crime classification', 'census2000', '916 pine street', '701 battery', 'food', 'demographics', '317 leavenworth', 'recreation', '460 subcontractors', 'fb global', 'sweeping', '101 utah street', 'accountant intern', 'bus route', 'property assessment', 'street trees', 'smart meters', '2016 demographics', '542427', 'summary totals', '711 clayton st.', '\"carbon monoxide\"', '\"><script>alert(1)</script>', '\"cindy wu\"', 'house', 'energy', 'pedestrian volume', 'crime incident', 'insurance', '1999reports', '544 castro st', 'alcohol', '\"loma prieta earthquake\"', 'parcel data', '\"general plan\"', 'political contributions', 'fte', 'highway', 'electricity use', 'fiber', 'crime 2015', 'crime 2014', '1gagf ttx', '397761', '46-g', 'uncashed', '337 spurce st san francisco ca', 'sf311', '311 case data', 'job density', '754 moultrie group', '1021981', '2011 pipeline report', '350 mission street', 'access to healthcare', 'preservation', 'accidnets', '.cvs', 'existing commercial', 'stormwater', 'wages', 'san francisco shoreline', 'santa clara', '\"campaign finance dashboard 2015\"', 'temperature', '2015revisedassessorblockmaps', 'san francisco facilities', '2014 map:crime incidents', '\"block group\"', '16exc-1632', '490 sanchez', 'gps', '1207 cole', 'general plan', 'hotel', 'park', '555 minnesota street', \"333 o'farrell st, san francisco, ca 94102\", '311 service request', 'stairs', '152280530', 'grocery', '888-886-6335', '1805 s. van ness', 'youth', '6/19/15', 'marriage', 'census tracts', '911 fire', 'building height', '2096 castro street', '\"miranda nye martin\"', 'pedestrian', '2385 bush st.', 'graffiti', '568 brannan st', 'business certificate', '9050', '2/26/16', 'air quality', '0372909-02-001', 'green space', '\"alain gervais\"', 'bike lanes', 'zipcode', '2124 great hwy', '543 19th ave', 'housing inventory', '1551 pacheco', '\"school zones\"', '46 el sereno court 94127', 'street space', '340 warren drive san francisco, ca', '2310 mason street', '08-192', 'sfpd reported incidents', '400 castro street', '3par', '1 tuscany', 'zip codes', 'youth and seniors', 'salary', 'arson', 'mobile', 'street parking', '\"3015 pacific\"', '239 carl street', 'clean', '2011 pipeline', 'emergency response districts', '9 geneva ave', 'businesses', 'caltrain', '1895 sacramento st', '2134 green street #3 san francisco, ca 94123', 'streetlights', '490 post st', '2650 18th', '21 homestead', 'street segments', '527 42nd ave', 'hiv', '3739221', '2013-12-14-4989s', '1013343', 'trees', '929 oak st.', 'census 2010', 'zoning districts', 'heart disease', 'evicitions', 'lobbyist contributions', '334 harriet st', 'bird', 'activity', '701 golden gate av', '3d', '224 ordway st', 'restaurants', '467401', '\"condo conversion lottery\"', 'bart', 'excavation', 'liquefaction', '\"street segment:', 'cases by channel', '16exc-3031', 'supervisor district', '\"street segment\"', 'migration', '2012 housing inventory', 'contour', '555 4th st', '150847324', 'movie', 'payroll tax exclusion', '846 junipero serra blvd 94127', 'libraries', '150-235-995', '542094', 'bay area cities', \"'></script><script>alert(1)</script>\", '2000 census shapefile', '530 brannan street business lincenses', 'faith organizations', '3755-147', '2211 stockton st', 'drinking water', 'incident', 'foot print', 'existing commercial buildings', '\"historic evaluation\"', 'license', 'restaurant', 'actnet', 'stclines', 'treasure island', '409 illinois', '15exc4954', '3rd street collaborative', 'point', 'recycling', 'accidents gis', 'sweep', 'community', 'eviction', 'church', 'inclusionary housing', '16exc-1871', '83 mc allister st 513, san francisco, ca', 'publishing', 'restaurant score', 'acceptance', '360 somerset st', 'street tree map', 'citations', '689 20th avenue', '3951 mission st.', 'bicycle network', '311 information requests by month', 'maps muni', 'rent board', 'fire', 'dog parks', 'lives', 'find my ban', '6524-032', 'plants', 'vallejo', 'streets san francisco', 'bids contracts', '\"assessment appeals board\"', '311 shelter list', 'neighborhood groups', '2015 election', 'elections', 'housing code violations', '2 bedroom homesale', 'fleet', '2100', '1999 crime', 'active companies', 'analysis neighborhoods', 'health facilities', '152500694', '\"\"health care security ordinance', 'fppc 460', 'ethnicity', '\"cindy wu\" dccc', 'italy', '208 girard', '201 hale street', 'street shapefile', '917 florida', 'development', '1996-2011 city survey database', '13smf-0389', '2013 city survey report', 'elevation data', '2012.0506', 'bikeways', '139 baden', 'cleaning', '\"propterty tax', '1 post', 'high injury', '2695 43rd avenue', '324 arkansas st', '433', 'feces', 'taipei', 'small business', '*incident*', 'traffic', 'spend', '*.gdb', '163 liberty street', '///', '2208 mission street', '270 mcallister street', 'shape', '1951 oak', '\"housing inventory\"', '194415', '1 degree', 'loading', '721 18th avenue', 'contractor', '467290', '32 richland avenue steven holland', 'location', \"'</script><script>alert(1)</script>\", 'violations', 'complaint', 'vendor', 'rental listings', '550 3rd street san francisco ca', '1099', 'secret garden tea house', 'sconnect', 'accident reports', '1999 reports', 'dol ho', '\"harris\"', '2014 pipeline', '1015 geary', '152583535', '1017984', 'sfmta', '384647', 'weiner', 'building footprints', 'sf neighborhoods', '2013 business', '2015 q1', 'litter', '2015 q3', '2015 q4', 'census 2000', 'garage', 'broadband', 'registered_business_locations', 'religion', '1227 guerrero', 'acqua e sapone', '1560 8th ave', 'accessory dwelling', '2012 business', 'accela', '\"no on f\"', '.xlm', 'affordability', '233 san carlos', 'traffic accident', 'green benefit districts', '311 calls mold', '.xls', '311 complaints', 'faith', 'pipeline', '1899 mission', 'dataset inventory', '9937550', 'truck', 'public transportation', 'gujarat', '1230 markert st', 'block', 'pollution', 'resiliency', 'sf blocks', 'pipeline 2015', 'data academy', '8aqr5p6y', 'film location', '267 green street', 'resilience', '2005 pipeline report', 'active employees by union and department', '77 san juan ave', 'spending', 'job titles', 'vendors', '403432', '2004 bicycle network', '94080', 'registered', '.drg', '2015 lobbyist', '\"asthma\"', 'street of san francisco', '420378', 'zika', '478 utah st', '460 forms schedula', '\"height limit\"', 'minutes spent walking or biking', 'dpt_bike_network', 'uber', 'supervisor', '1755 clay st.', 'green connections', 'excavation permits', 'human resources', 'accessibility', 'app showcase', 'curb', '\"tax rates\"', '\"inclusionary housing\"', '1890', '510 folsom', 'parking meters dataset', '143082730', 'polygon', 'employment', '2139', 'property assessors roll', 'income', 'tow zone', '2919 folsom', '163 russ st.', '134814', 'eviction notices', '1612 fulton', '\"data officer\"', 'san francisco crime', 'freeways', '153 college ave', 'red light camera', 'land', '345 williams avenue,', 'age', '2003', '2000', 'parking meter', '1851', '2008', '2009', '353 beach rd, burlingame, ca', '6524/032', '1853', 'sffind neighborhoods', '311 noise', '1480 larkin st', 'highways', 'farms', 'active blocks', 'food truck', '120841196', 'amount of private vehicles', '92463779', 'contours', 'quarterly', '407 jackson st', '429887', 'garden', 'public housing', '953.7', 'facebook', 'acres', 'precinct', 'lobbyist activity', '37.790897,-122.402850', '354 peralta street', '1444 market st', '\"1698 10\"', 'acxiom', 'race', 'restaurant health', '960 howard street', 'obesity', 'inspection', '420 grove', '177 stillman street', '95051', 'abtahi', 'licenses', '311 constituent service', '150-761-451', 'speed limits', 'universities', 'mobile food', 'traffic accidents', '.sid', 'spending and revenue', '100 year storm flood plain', '311 cases', 'access', 'poles', '\"red bull\"', '311 sf data set', '2010 crime', 'bike routes', 'recent graffiti reports', 'bay area general', 'shoreline', '177 stillman st., san francisco, ca', '8300 oceanview terrace, 304, san francisco', '675 naples street', 'abandoned vehicle', 'poverty', '\"department expenditures\"', '90 day cases', 'ferry', '2.01503e+11', 'accessor', '429393', 'orthophoto', 'metro', '31', 'sales tax', 'building heights', '49276', 'survey', '94124 district', 'parking shapefile', 'addresses', '245 san jose', 'api', 'apn', '360 post', 'san francisco', 'high injury corridors', '735 fell street', 'city blocks', '1938', 'zip', '2090 evans avenue', 'address with resident names', 'vehicle', 'hydro', '55 cyril magnin street', 'shape file', 'floodplain', 'rent control', 'benchmark', 'trail', 'historic district', 'train', '53 mission', '\"focus realty\"', 'chapter 20', 'women', 'customer', 'account', '414251', '2015 quarter 3', '2016 assessor map updates', 'accrued', '857 39th ave.', 'abco', 'tax', 'taz', 'open space', '880 franklin', 'sea level', '2015 housing inventory', '\"area median income\"', '\"mary jung\" dccc', 'access to healthcare facilities in san francisco', '2250 powell street]', '40 annapolis terrace, san francisco, ca', 'sidewalks', '2 hour street parking 2999 california street', '90 day', 'commercial building', 'animal', 'chart of cases by channel', 'rent burden', '2449350', '2015 311 budget', '2282 market st', 'buildings', '589 post st, san francisco, ca 94102', 'blocks', '\"floor plan\"', '5 chilton', '94040', 'police district', 'eas addresses', '2400j2251', 'abuse', 'bay outline', 'ethnic', '1453 mission street', '576 natoma st, san francisco, ca', 'tax revenue', '2127', '38 sadowa', 'lines', '114 henry street', '1244 larkin', 'addiction', '2070 latham', '1929 pay', 'new business', 'meter', 'motorcycle', '\"michael yarne\"', '3067 25th street', 'business locations', '650 40th ave', '\"sunshine ordinance task\"', '415 euclid ave', 'grafitti', 'streets of san francisco', 'block lot', '\"homeless shelters\"', '1996-2013 city survey', '2015', '\" ami\" 1990', 'bikeway', '2011', '2010', '2013', '2012', '[socrata] 311test', 'crash', '225 granville', '444 de haro st', '122 farallones st', '1008099', 'blocklot', '1024303', 'outlines', '795 folsom', '849(b)', 'agustin anda', 'university', '\"year built\"', '101 post', 'late contributions', '3490 20th st', '\"grand jury\"', '\"small business\"', '700', '80', 'agriculture', '465639', 'fire stations', '4431 mission st', '5124007', 'entertainment', 'airbnb', 'parking tickets', 'real time', '5413 hillside av.,el cerrito94530', 'ems', '2015 sfo', '2598 mission street', '\"vending machine\"', 'data inventory', '\"1698 10th\"', 'accounts payable', '810 clay street, san francisco, ca', 'road network', 'open parks', '2010 population shapefile', '2009 housing inventory', 'city facilities', '2014 census tracts', 'liquifaction', 'route', '3401 clement st', '31 mullen ave', 'property information', '49ers', '2919-21 folsom st', '10 gb dataset', 'busines', 'retail', 'housing', 'restaurant scores', '\"land use\"', '\"community benefit district\"', '\"ryan white\"', '\\\\cleaning', '*bike_network', '269 joost ave', 'art', '1740 cesar chavez', '1989', '40 jessie street', 'a card', 'san francisco outline', '311', 'household income', 'enforcement', 'adrian santos', 'academy', '186 valley street', 'city limit', '1975 jim jones', '390 diamond street', 'police stations', '223 missouri', 'stock market', '425 market', '2010 map:crime incidents', '3 d buildings', 'bay area counties', 'rent prices', '.shp', 'tracts', '2014', '1578 newhall st. san francisco', '608 haight', 'transit stop', '8553000366', '2015-001144prj', 'map of crime incidents', '2008 crime data', '2012 sfo customer survey', 'fire station', 'parks', '1023138', '3d building model', '1125 17th avenue', 'jail', 'vegetation', 'accuracy', '2016', '5800 3rd st', 'police records', 'parking signs', '3d print', 'sfo', 'census block', 'neighborhood boundaries', 'highschool', 'active contracts', 'realtor', '1131 mission st', 'topographic', '337000', '1374554', 'medical marijuana', 'parking lots', '\"historic preservation\"', '1040 howard st', 'abandoned vehicles', 'sf shoreline and islands', 'dbi', '12b', '311 constituent service request data', 'violation', 'traffic stop', 'vacancy', 'business name', 'planning', 'pacific eye associates', 'mumbai', '124 molimo dr', 'candidates', 'employee', '460 a', '460 g', '460 e', 'dpt bike', 'national parks', '122', '\"place of entertainment\"', '1001363', 'burglary', '460 post street', 'county boundary', 'shp', '17 silverview drive', '2020 ellis st', 'bay trail', 'evictions', '2004 rents', '94041', 'watershed', '\"homeless\"', 'police incidents', '1155 folsom st', 'address point', 'accepted', 'building footprint', 'sfpd districts', '610 page street', 'crime san francisco', 'acces to private vehicles san fran 2014', 'building footprint shapefile', '140820227', '311 incidents', 'tennenbaum', 'basemap street centerlines', '3314 steiner st', 'public schools', '1 rincon', '13898090', 'academy of art', '3024 mission st', 'parking meters', 'grafiti', 'job', '149 fell', 'key', '2400j', '\"burns', '1693 7th avenue', 'hydrology', 'limits', '425 market street', 'drug', '350 mission', 'bed bug', '94112', '1445 lombard', 'bicycle parking', '\"street light\"', 'canopy', '153 arkansas', '94110', '2761 bryant', '255 king stree', '2011 mayor campaign contributions', '601 california', '15 arguello', 'aaron peskin', 'oakland', 'public school', 'police districts', '460 cover', 'discrimination', 'traffic light', 'street evaluation', 'json', '732', 'restaurant inspection', 'accessory dwelling units', '1899', 'waste', '465', '333 lake street', '460', '933 treat', '*.shp', 'street intersections', 'smoking', 'volunteer', 'criminal', 'abandoned', 'movie locations', '560 mission street', '10 glendale street', 'sweeper scheduled', 'access to private vehicles san fran 2014', '933 treat ave', '1010 fitzgerald ave, san francisco, ca', 'avl', '3008 18th street', '112 yukon', '2016 budget publication', '90033', 'sales per restaurant', '1 longview court', '554 irving street, san francisco', 'bus stops', '2013 crime', 'data catalog', '225-33050', 'address locator', '631 cole st', '690 folsom street', 'paving', '18 latona st', 'lobby', '94116 restaurant', 'diabetes', '//', 'street light', 'indonesia', 'business registration', '311 calls', '469249', '460 schedule e', '20th ave permit', '361 3rd ave', 'clinic', '\"sea level rise\"', 'adu', 'density', 'residential', 'demographic', 'bench', 'arrest', '2015 residential development pipeline', 'ada', 'aerial', '911 response', 'seismic hazard zones', 'active business registration', 'fire inspections', '\"propterty tax\"', 'historic', '\"gas leak\"', '265', 'intersection', '14186571', 'health score', 'miami', '177 stillman', 'popos', '\"code for ameria\"', '\"continental appliance\"', '2015 neighborhood profiles', '501 franconia', '2251', '177 stillman street report', '474163', '1002155', '3800 16th street san francisco, ca', 'address to geographic location', '5155', 'library', '\"load bearing capacity\"', 'active companies list', 'home', 'ballot', '150857674', 'city lots', 'salaries', 'footprints', 'total housing units', 'zoning 2008', 'intersections', '1600 california street', '466853', '3241201', 'noise', 'crp/cypress market', 'foodtruck', 'census tract', '2919 mission street', 'employee compensation', 'air traffic', 'additional street space', 'counties', 'consumerism', 'city properties', 'actual', 'registered businesses', '\"general plan\" \"land use\"', '\"treasure island music festival\" ferry', 'wind monitoring', '\"karen lum\"', 'registered business location', 'tenderloin', 'weather', 'business owner', 'roads', '460 contractors', 'accrued expenses', '2014 city serve report', '177 stillman street, san francisco, ca', 'museum', '*', 'buisness', 'lidar', 'accountant', '2011 herrera campaign contributions', 'mobile food facility', '132a lexington', 'street names', 'certificate', 'bus', 'accounting, purchasing, eis', '311 budget', 'volume', '94536', 'construction', 'eas', 'count', '2004 food vendors', '2713 diamond', '282 harbor rd san francsico, ca 94124', 'stories', 'accidenta', '2010 sf', '50 main street, san francisco', '150327887', '\"john ortiz\"', '130058911', 'mission bay', '258 9 th st', '2015 enacted budget', 'accenture', 'education', '158 maynard', '460 schedule g', 'bikeway network', '44', '460 schedule a', '/sfpd-incidents-2013', 'assesment', 'sf outline', '44 samoset st', '\"continental electric\"', 'street use permits', 'address book', '376 ellis street', '240 2nd', '550 van ness', '200 hazelwood ave', 'bay area', '387 ellis street, san francisco, ca', 'sf movies', 'post office', 'accidents', 'gardens']\n"
     ]
    }
   ],
   "source": [
    "search_terms_list =  list(set(search_terms_data.processed_data))\n",
    "print search_terms_list"
   ]
  },
  {
   "cell_type": "markdown",
   "metadata": {},
   "source": [
    "#### We need to generally tag searches in categories of quality\n",
    "\n",
    "Many search terms indicate that users are not informed on what the purpose of the website is or how to properly use search\n",
    "\n",
    "Search Tags\n",
    "* Good Quality Search\n",
    "    * complete words or phrases\n",
    "    * minor typos\n",
    "* Bad Quality\n",
    "    * Addresses\n",
    "    * Dates\n",
    "    * Zipcodes or just a string of numbers\n",
    "    * General nonsenses eg. ('></script><script>alert(1)</script>', '///', '16exc-3031') "
   ]
  },
  {
   "cell_type": "code",
   "execution_count": 76,
   "metadata": {
    "collapsed": false
   },
   "outputs": [],
   "source": [
    "dates_r = re.compile('[0-9]/[0-9]/[0-9]')\n",
    "numbers_r = re.compile('^[0-9][0-9]*[0-9]$')\n",
    "html_r = re.compile('^<.*>$')\n"
   ]
  },
  {
   "cell_type": "code",
   "execution_count": 74,
   "metadata": {
    "collapsed": false
   },
   "outputs": [
    {
     "data": {
      "text/plain": [
       "['9/1/01', '3/1/01']"
      ]
     },
     "execution_count": 74,
     "metadata": {},
     "output_type": "execute_result"
    }
   ],
   "source": [
    "filter(dates_r.match, search_terms_list)"
   ]
  },
  {
   "cell_type": "code",
   "execution_count": 77,
   "metadata": {
    "collapsed": false
   },
   "outputs": [
    {
     "name": "stdout",
     "output_type": "stream",
     "text": [
      "['</script><script>alert(1)</script>']\n"
     ]
    }
   ],
   "source": [
    "print filter(html_r.match, search_terms_list)"
   ]
  },
  {
   "cell_type": "code",
   "execution_count": null,
   "metadata": {
    "collapsed": true
   },
   "outputs": [],
   "source": []
  }
 ],
 "metadata": {
  "kernelspec": {
   "display_name": "Python 2",
   "language": "python",
   "name": "python2"
  },
  "language_info": {
   "codemirror_mode": {
    "name": "ipython",
    "version": 2
   },
   "file_extension": ".py",
   "mimetype": "text/x-python",
   "name": "python",
   "nbconvert_exporter": "python",
   "pygments_lexer": "ipython2",
   "version": "2.7.10"
  }
 },
 "nbformat": 4,
 "nbformat_minor": 0
}
