{
 "cells": [
  {
   "cell_type": "markdown",
   "metadata": {},
   "source": [
    "Search Data Processing\n",
    "=========================\n",
    "\n"
   ]
  },
  {
   "cell_type": "code",
<<<<<<< HEAD
   "execution_count": 43,
=======
   "execution_count": 29,
>>>>>>> 4c68fbe5aa2f379fd1374ebd5df9e6bb9400a4dc
   "metadata": {
    "collapsed": true
   },
   "outputs": [],
   "source": [
    "import pandas as pd\n",
<<<<<<< HEAD
    "import re"
=======
    "import re\n",
    "import string"
>>>>>>> 4c68fbe5aa2f379fd1374ebd5df9e6bb9400a4dc
   ]
  },
  {
   "cell_type": "code",
<<<<<<< HEAD
   "execution_count": 4,
=======
   "execution_count": 2,
>>>>>>> 4c68fbe5aa2f379fd1374ebd5df9e6bb9400a4dc
   "metadata": {
    "collapsed": true
   },
   "outputs": [],
   "source": [
    "search_data = pd.read_csv(\"./data/sample_openData_searchTerms_clean.csv\")"
   ]
  },
  {
   "cell_type": "code",
<<<<<<< HEAD
   "execution_count": 81,
=======
   "execution_count": 3,
>>>>>>> 4c68fbe5aa2f379fd1374ebd5df9e6bb9400a4dc
   "metadata": {
    "collapsed": false
   },
   "outputs": [
    {
     "data": {
      "text/plain": [
       "(5000, 8)"
      ]
     },
<<<<<<< HEAD
     "execution_count": 81,
=======
     "execution_count": 3,
>>>>>>> 4c68fbe5aa2f379fd1374ebd5df9e6bb9400a4dc
     "metadata": {},
     "output_type": "execute_result"
    }
   ],
   "source": [
    "search_data.shape"
   ]
  },
  {
   "cell_type": "code",
<<<<<<< HEAD
   "execution_count": 13,
=======
   "execution_count": 4,
>>>>>>> 4c68fbe5aa2f379fd1374ebd5df9e6bb9400a4dc
   "metadata": {
    "collapsed": false
   },
   "outputs": [
    {
     "data": {
      "text/html": [
       "<div>\n",
       "<table border=\"1\" class=\"dataframe\">\n",
       "  <thead>\n",
       "    <tr style=\"text-align: right;\">\n",
       "      <th></th>\n",
       "      <th>Search Term</th>\n",
       "      <th>Exit Page</th>\n",
       "      <th>Total Unique Searches</th>\n",
       "      <th>Results Pageviews / Search</th>\n",
       "      <th>% Search Exits</th>\n",
       "      <th>% Search Refinements</th>\n",
       "      <th>Time after Search</th>\n",
       "      <th>Average Search Depth</th>\n",
       "    </tr>\n",
       "  </thead>\n",
       "  <tbody>\n",
       "    <tr>\n",
       "      <th>4995</th>\n",
       "      <td>address range</td>\n",
       "      <td>/Geographic-Locations-and-Boundaries/Streets-o...</td>\n",
       "      <td>2</td>\n",
       "      <td>1.5</td>\n",
       "      <td>0.00%</td>\n",
       "      <td>0.00%</td>\n",
       "      <td>0:02:09</td>\n",
       "      <td>8.0</td>\n",
       "    </tr>\n",
       "    <tr>\n",
       "      <th>4996</th>\n",
       "      <td>address shapefile</td>\n",
       "      <td>/browse/embed?category=&amp;limit=20&amp;limitTo=&amp;q=ad...</td>\n",
       "      <td>2</td>\n",
       "      <td>1.5</td>\n",
       "      <td>0.00%</td>\n",
       "      <td>66.67%</td>\n",
       "      <td>0:00:18</td>\n",
       "      <td>3.0</td>\n",
       "    </tr>\n",
       "    <tr>\n",
       "      <th>4997</th>\n",
       "      <td>address to geographic location</td>\n",
       "      <td>/browse/embed?category=&amp;limit=20&amp;limitTo=&amp;q=ad...</td>\n",
       "      <td>2</td>\n",
       "      <td>1.0</td>\n",
       "      <td>0.00%</td>\n",
       "      <td>0.00%</td>\n",
       "      <td>0:00:03</td>\n",
       "      <td>1.5</td>\n",
       "    </tr>\n",
       "    <tr>\n",
       "      <th>4998</th>\n",
       "      <td>address with resident names</td>\n",
       "      <td>/browse/embed?category=&amp;limit=20&amp;limitTo=&amp;q=ad...</td>\n",
       "      <td>2</td>\n",
       "      <td>1.0</td>\n",
       "      <td>0.00%</td>\n",
       "      <td>0.00%</td>\n",
       "      <td>0:00:05</td>\n",
       "      <td>1.5</td>\n",
       "    </tr>\n",
       "    <tr>\n",
       "      <th>4999</th>\n",
       "      <td>addresse</td>\n",
       "      <td>/browse/embed?category=&amp;limit=20&amp;limitTo=&amp;q=po...</td>\n",
       "      <td>2</td>\n",
       "      <td>1.0</td>\n",
       "      <td>0.00%</td>\n",
       "      <td>100.00%</td>\n",
       "      <td>0:00:03</td>\n",
       "      <td>1.5</td>\n",
       "    </tr>\n",
       "  </tbody>\n",
       "</table>\n",
       "</div>"
      ],
      "text/plain": [
       "                         Search Term  \\\n",
       "4995                   address range   \n",
       "4996               address shapefile   \n",
       "4997  address to geographic location   \n",
       "4998     address with resident names   \n",
       "4999                        addresse   \n",
       "\n",
       "                                              Exit Page  \\\n",
       "4995  /Geographic-Locations-and-Boundaries/Streets-o...   \n",
       "4996  /browse/embed?category=&limit=20&limitTo=&q=ad...   \n",
       "4997  /browse/embed?category=&limit=20&limitTo=&q=ad...   \n",
       "4998  /browse/embed?category=&limit=20&limitTo=&q=ad...   \n",
       "4999  /browse/embed?category=&limit=20&limitTo=&q=po...   \n",
       "\n",
       "      Total Unique Searches  Results Pageviews / Search % Search Exits  \\\n",
       "4995                      2                         1.5          0.00%   \n",
       "4996                      2                         1.5          0.00%   \n",
       "4997                      2                         1.0          0.00%   \n",
       "4998                      2                         1.0          0.00%   \n",
       "4999                      2                         1.0          0.00%   \n",
       "\n",
       "     % Search Refinements Time after Search  Average Search Depth  \n",
       "4995                0.00%           0:02:09                   8.0  \n",
       "4996               66.67%           0:00:18                   3.0  \n",
       "4997                0.00%           0:00:03                   1.5  \n",
       "4998                0.00%           0:00:05                   1.5  \n",
       "4999              100.00%           0:00:03                   1.5  "
      ]
     },
<<<<<<< HEAD
     "execution_count": 13,
=======
     "execution_count": 4,
>>>>>>> 4c68fbe5aa2f379fd1374ebd5df9e6bb9400a4dc
     "metadata": {},
     "output_type": "execute_result"
    }
   ],
   "source": [
    "search_data.tail()"
   ]
  },
  {
   "cell_type": "code",
<<<<<<< HEAD
   "execution_count": 84,
=======
   "execution_count": 5,
>>>>>>> 4c68fbe5aa2f379fd1374ebd5df9e6bb9400a4dc
   "metadata": {
    "collapsed": false
   },
   "outputs": [],
   "source": [
    "#search_data[search_data['Total Unique Searches']<5]"
   ]
  },
  {
   "cell_type": "code",
<<<<<<< HEAD
   "execution_count": 9,
=======
   "execution_count": 6,
>>>>>>> 4c68fbe5aa2f379fd1374ebd5df9e6bb9400a4dc
   "metadata": {
    "collapsed": false
   },
   "outputs": [],
   "source": [
    "search_terms = list(set(search_data['Search Term']))"
   ]
  },
  {
   "cell_type": "code",
<<<<<<< HEAD
   "execution_count": 11,
=======
   "execution_count": 7,
>>>>>>> 4c68fbe5aa2f379fd1374ebd5df9e6bb9400a4dc
   "metadata": {
    "collapsed": false
   },
   "outputs": [
    {
     "data": {
      "text/plain": [
       "2451"
      ]
     },
<<<<<<< HEAD
     "execution_count": 11,
=======
     "execution_count": 7,
>>>>>>> 4c68fbe5aa2f379fd1374ebd5df9e6bb9400a4dc
     "metadata": {},
     "output_type": "execute_result"
    }
   ],
   "source": [
    "len(search_terms)"
   ]
  },
  {
   "cell_type": "code",
<<<<<<< HEAD
   "execution_count": 12,
=======
   "execution_count": 8,
>>>>>>> 4c68fbe5aa2f379fd1374ebd5df9e6bb9400a4dc
   "metadata": {
    "collapsed": false
   },
   "outputs": [
    {
     "name": "stdout",
     "output_type": "stream",
     "text": [
      "['\"Basemap Street Centerlines', 'active business locations', 'traffic counts', 'lyft driver', '*.dpt_bike_network', 'traffic calming', 'facilities', 'crime rate', '17 Silverview Drive', 'building permits', 'right of way', 'pipeline q2 2015', 'sf shoreline', 'election results', 'electricity', '311 county', 'sffd', 'bike', '490 Sanchez', 'external datasets', '311 human', '208 Girard', 'geology', '800 detroit', '2014 crimes', '2015 Housing Inventory', 'SanFrancisco', 'Restaurants', 'tickets', '560 davis st san francisco', 'school', 'zipcodes', '2649 polk s', 'house income', \"'<script>alert(1)</script>\", '1235 bay', 'Open Spaces', '573 andover street', 'census block group', '354 Peralta Street', 'case data from san francisco 311', 'bicycle', '1070 capitol', 'presidio', '25282', 'sfpd incident', 'budget', '272', 'street', 'Aaron Peskin', '511 traffic', '1485 bayshore', '301 baltimore way', 'abandoned vehcihles', '311 explorer', '439 Duboce Ave, 94117', '1013914', 'lights', 'moratorium', 'public library', '8204', '2014 development', '3 rudden avenue sf ca', 'hill grade', 'four days', 'sfpd', '\"Code for America\"', 'payroll', '106 grand view', 'parks shapefile', 'china', '2014 election', '2014 housing', '100', '101', 'art galleries', '460 d', '4610 mission street', 'census shapefile', 'employees', 'Food Trucks', 'museums', 'TRAFFIC', 'payroll clerk', 'permit', '111 minna', 'human rights', 'topography', 'campaign', 'precincts', 'county', 'active companies', 'Health', '372 Point Lobos Ave', 'counts', 'lobbyist contribution', 'open businesses', 'hospital', '\"clipper cove beach\"', '94158', 'business certificates', 'assessment', '\"citywide performance measurement\"', '3067 25th street san francisco ca 94110', '\"wind monitoring\"', '123 Retiro way', '766 vallejo', 'phone', 'Incidents', '39th avenue', '0355/004', '469 union st', '2466 francisco', '\"Category A\"', '1990', '1131 Mission St', '1992', 'permits', '\"2721 diamond\"', 'tenderloin housing clinic', 'pot hole', 'movies', 'tnc', 'exceptions', '1009-', '\"fire inspection\"', 'police station', '381216', 'household', '2208 Mission Street', 'Bike', '2015 Neighborhood profiles', '311 waitlist', '\"health code\"', '\"sfmta route\"', 'shapefile', 'geojson', '574 escuela', '530 brannan street', '301 king st', 'beach', '255 King Stree', 'restaurant inspections', '10 gb dataset', '353853', '\"><img src=x onerror=alert(document.domain)>', 'community resiliency', 'Parcels', '94070', 'business registration certificate', '13SMF-0389', 'active block lots', 'employee salaries', '2010 census', '2945 baker st apt 5', 'green', 'street tree list', 'ambulance', '300 seacliff', 'homeless shelters', 'wind', 'street sweeping', 'pothole', 'Housing', 'dpt bike network', '337 spurce street', '40414', '.dwg', '727954', '\"sharper focus\"', 'planning districts', 'state senate', '131 Franklin street', '1144 ALABAMA', '406', '403', '400', '\"public library\"', '15SF036', '15564537', '\"sunshine ordinance task\"', 'coffee', '542 brannan', 'planning applications', '1480 larkin', 'SFMTA', '\"vacant parcel\"', '235 Presidio Avenue', 'zoning', 'POPOS', '151104052', 'form 460', 'schools', 'tourism', 'food hygiene', 'bank', '77116', 'lives restaurant inspection', '258 9th st', 'population density', 'fitness', '\"one way\"', 'open business', '\"san francisco general plan\"', 'address shapefile', '\"Sea Level Rise\"', 'dumping', 'Land use', 'crimes', '3D building models', 'five year plan', 'National parks', '152233830', '6538/038', 'private schools', 'adapt', 'smf', 'Census 2000 Blocks', '2015 budget information', '177 Stillman Street, San Francisco, CA', 'incident arson', '245 San Jose', '1740 Cesar Chavez', '141 eddy street', '\"expenditures by department\"', 'inspection food', '160080008', '445 kirkham', 'campaign Finance', 'public art', 'San Francisco Crime Classification', '665 pine st', '600 fell st.', 'ADDRESS POINT', 'basemap', '80.004 Employee Compensation report', 'benchmarking', 'bus routes', 'appeals', 'accent', '15exc4667', '311 case', '1952 larkin', 'basketball', 'soil types', '525 29th st', 'service', 'ed lee contributions', '161570631', 'STREETS', 'tow', 'heights', '10b', '20200480', '1 post', 'murder', '124 Molimo dr', 'business address', '31 Mullen ave', '106 Powell Street', '3314 STEINER ST', 'motorcycle parking', '1020749', '545-00500', '.json', 'tree', '453 masonic st', 'expa', 'planning commission president', '1230 market st', 'bridge', '324 arkansas st', 'Shapefile', '2010 SF', '\"green\"', '/SFPD-Incidents-2013', '1970', '\"population', '1013117', '709 geary st', '1041 alabama', '278 states street', '882 31st ave', 'senior center', 'Business Account Number', '27 isis', '311 data set', '1630 30th Avenue', '2010 SFO', '311 Cases', '*incident*', 'germany', '568 Brannan St', 'Gujarat', '430 lake st', '\"Condo Conversion Lottery\"', '855 folsom', 'neighborhoods', 'dog', '1992 map', 'freeway', 'abbrev', 'envista', '41 genebern way, sf', '24 shotwell', '331 jersey st parcel map', 'consumer', 'street sweep', '460 Cover', 'city boundary', '418 Jessie St', 'off street parking', '311 Calls Mold', 'operate business', '55 Cyril Magnin Street', 'business account number', 'Address', 'SF solar map', '1188 Harrison Street', 'Streets of San Francisco', 'Lyft', 'fire department', '8714', '\"dog owners\"', '1952 larkin street', '\"community benefit districts\"', 'san francisco streets', 'aaron peskin payment received', 'asbestos', 'b6tj-gt35', 'coast', '292 douglass', '9/11/15', '\"single room occupancy\"', 'park lands', 'certified payroll', 'Land Use', '14243059', 'bay', '4431 mission st', '415', '410', 'ems', '1GAGF ttx', 'ban', '1 hour parking', '3d building', 'Molly saeger', 'liquor', '2160 stockton', 'SFPD incident', '127 san jose ave', '453234', '1611fulton', '\"PUBLIC LIBRARY\"', 'Open Spaces \\x89\\xdb\\xd2 City Planning', 'Curbs', 'lots', '\"natural gas\"', '324 arkansas', '1415 scott street', 'compensation', '\"sea level\"', 'Water', '2015 pipeline', '2386j', '1980 block', '309953', '1 degree', '469217', 'crime incidents', '1155 folsom at', 'APNs for Port of SF', 'census 2000 blocks', 'Tree', '177 Stillman Street', '360 somerset street', 'medallion', '663 haight street', '2912 19th ave', 'climate', 'accident', 'excrement', 'fault', 'food inspection', '112 yukon', 'aba therapy facilities', '\"shelters\"', '311 calls', '1017361-01-151', 'height', 'active', 'sfmta bikeway network', '1450 green st', 'accidents pedestrian', 'conference', '467290', 'streets of San Francisco', '311 call metrics', '1158 noe street', '311 service ordes', '\"Treasure Island Music Festival\" ferry', 'stadium', '\"traffic analysis\"', '\"Area Median Income\"', '911 call', '544 castro', '1880 filbert', '911 calls', '150241102', '150765130', '\"cancer\"', 'child', '906', '311case', '162', '\"Mary Jung\" DCCC', 'san-francisco-parking-meters-map-and-dataset', 'air', 'reviews', 'bike parking', '26 eagle street', 'land value', '299 Fremont Street', 'property', 'cnn changes', '1025 Post', 'Property Assessment Roll', '163 Liberty Street', 'soils', 'accidence', 'calls for service', 'seattle', 'pbc code', '311 call', 'rental listings', 'abandoned building', '2346 lot 20', '1819', '560 brannan', 'bike shapefile', 'inventory', '3951 Mission St.', '6228', '6621', '405 valencia', '20th AVE', '4058 17th st', 'published', 'rail', 'workforce', 'rain', 'topo', 'public works', '7332', 'median income', 'acoustics', '1975', 'ocean', 'traffic signals', '8854', '233 San Carlos', 'unemployment', 'photo', 'Crime', '2014 energy benchmark 285 geary', 'bike network', '1428 jackson st', '1746 Church Street, San Francisco 94131', '\"2713 diamond\"', 'advisories', 'prison', '825 BROTHERHOOD', 'OPERATE BUSINESS', '855 folsom st, san francisco', 'hakam abdel fattah', '364472', '2 hour parking', 'elevation', 'municipal', '1012986', 'Restaurant', '\"residential permit\"', '177 Stillman St', '3465 25th st', '679 Page STreet', '\"lines\"', '2011 pipeline q2', '1600 California street', '108 ellsworth', 'acident', 'pavement', 'farmers markets', 'groundwater', '3d model', '384358', '2004 bike network', '285 geary st energy audit', '2010 us census data', '100 year flood plain', 'sfpark', 'Accessibility', '20 jones', 'meters', 'election', 'census 2000 tracts', 'Census 2000 Blocks (no water)', 'crime shapefile', '846 Junipero Serra blvd 94127', 'business closing', '444 townsend', '\"property tax\"', '1905', '2015 budget', 'absconders', 'creative', 'filming', '1 Tuscany', '5 thomas mellon circle', 'cnn', 'nail salon', 'PBC', 'Supersonic Ads', 'business permits', '301 Claremont Blvd', '?debug=true', 'census', 'city owned facilities', 'AVL', 'high school', '2919 folsom st', '2901 sacramento st', '1834 grant', 'employment rate', 'MUNI', 'schedule e', '14080248', 'Abdullah', 'schedule a', '460a', 'complaints', 'Aaron', 'coastal', '1445 lombard', '460s', 'gis', '119 taraval', 'schedule E', 'padmapper', 'altitude', '460E', 'legislation', '\"burt herman\"', '460A', 'open spaces', '\"heat wave\"', 'sfshore', '\"small businesses\"', '1990-', 'film locations in san francisco', 'wireless', '374 5th street san francisco', 'solar', 'ADA', '*.*', '\"campaign finance\"', 'census blocks', 'Fire', 'realtor_neighborhoods', '2015 q2', '1004458', 'Parking', '2010 census tracts', 'city survey', 'passenger', '427372', '2014 Housing Inventory', '200 6th st', 'active business', 'household size', 'potholes', '220 30th Ave', 'Census 2000 Tracts', 'house sales', '(415) 824-1602', '9 county boundary', 'Parking meters', '315 28th avenue', 'registered business map', 'flood', '460 forms', '1445 Lombard', '923 Goettingen', 'test', 'EAS', 'roll', 'slope TIN', 'energy audit', '\"school zone\"', '94127', 'market street', 'supervisorial', '94108', \"hunter's point\", '40 genebern way, sf', '94103', 'Bay Area', '8AQR5P6Y', '94104', '94107', 'broadband', '460 summary', 'parcels', '1931 35th Ave San Francisco, CA 94116', 'accesor', '466 9th avenue', '83932', 'recidivism', '67 Silverview Drive', 'row', 'Basemap Street Centerlines shapefile', '425 market street energy', 'suicide', 'property assessment roll', 'Tourist', 'zone', '1416 polk street', 'environment', 'bicycles', 'BIKE', 'sfpd incidents', '100 e grand', 'short term', '445 anderson', '9/1/01', '450 golden gate', 'sfopenbook', '\"build out\"', '322 30th ave', '2012 SFO Customer Survey', 'aaron peskin gift', '\"green infrastructure\"', 'campaign finance', '124 Molimo', 'mobile food truck', '63 woodland', '711 clayton st.', '.csv', 'BUILDING FOOTPRINTS', '959 noe street', 'gun', '1999', '60 agua way', 'planning', '14315714', 'subway', 'real estate', 'san francisco shore', 'sidewalk', '94121', '3D public art', '68 cervantes blvd', 'shoreline shapefile', 'travel time', 'form 700', 'trails', '1427 11th Ave', '1231 20th ave, san francisco', 'cost', '2005 Pipeline Report', '5413 Hillside,94530', 'street centerline', '\"HOUSING INVENTORY\"', 'port', '1008785', '40 Annapolis Terrace, San Francisco, CA', '550 Van Ness', '1798 grove street', '1225 17th avenue', 'CONTOUR', '812 Guerrero Street', 'transportation', '2016 pipeline', 'Neighborhoods', '2385 bush street', '\"height', 'inclusionary', 'digital elevation map', 'water', '2.01503E+11', '037290902-001', 'address', 'earthquake', '3247 reserve ct, san jose, ca', '222 Sasome', 'business number', 'Crimes', '311 syringe', '372909', '74 6th Street', 'Census 2000 Tracts (no water)', 'coastal zone', 'planning neighborhoods', '158 maynarad st', '5252 mission street', 'green benefit districts', 'Leed', '559 miramar', 'hotels', '38432250', '\"Payday Advance\"', '766 vallejo street', '1996-2013 SF City Survey', 'sports', 'films', 'plan areas', '1038 jackson', 'solar map', '425 market energy', '400 Castro Street', 'street center lines', '270 McAllister Street', 'sf solar', 'on street parking', 'cases', '35 brosnan', 'active nodes', '5 Hudson Ct, San Francisco, CA 94124', 'car', 'abortion', 'districts', 'business licenses', 'incidents', '1709 Broderick Street', 'Homeless', 'minutes spent walking', 'san francisco boundary', 'cab', '2013 census shapefile', 'cad', '\"historic zoning districts\"', 'lobbying', 'neighborhood group', '2 casa way', '2010 tract population', 'BAN', '140273353', '\"cable car\"', 'Fire Stations', '311 dpw complaints', 'secured', 'business license', 'secured property', '\"120 lake street\"', '06/19/2015 dashiell hammet', 'development pipeline', 'economy', 'map', '1008809', '140878', 'liquefaction', 'accessory', '\"methane leak\"', 'sffilms', 'date', 'data', '3/1/01', 'bristol farms', 'vendor payments', 'outline', '2240 Market Street', '50 Main Street, San Francisco', 'food trucks', '100 church', '.dxf', 'A-cards', '\"dog parks\"', '-122.407829844146 37.7826402567843', 'accidenas', '501 Franconia', '460 forms schedul a', '126', 'pipeline 2014', '2346-014', 'nlcd', 'civic art', 'walking and cycling', '136 arlington street', '94118', 'police', '94112', '94110', '94111', '94116', '94117', '94114', '94115', '701 Teresita San Francisco, CA', '1051 grant ave, sf', 'sf shore', 'dpw', '2 plus 2 bookeeping', 'SFFind Neighborhoods', '2631 23rd', '\\\\', 'accomodation', '\"curtis dunn\"', '149 julian', 'parking restrictions', '838 detroit street', '\"health care security ordinance\"', 'street cleaning', 'maher', '462 DOUGLASS SR', '462 DOUGLASS ST', 'campaign finance 410', '94040', '2004 bicyclenetwork', '2011 herrera mayor campaign contributions', '1975 Jim Jones', 'fires', '1GAGF', 'year', 'parking permit', 'tickets parking', '155 arbor st', 'case data', 'community gardens', '1385 carroll ave', '\"></script><script>alert(1)</script>', 'entitlements', 'centerline', 'sensor', 'curbs', '490 POST ST', 'cars', 'sf.data.gov', 'Water Bodies', '3710017', 'open business locations', '3953 24th street', 'accommodation', 'sea level rise', 'language', 'Compensation', 'curb ramp', '331 jersey st', '511', '8720', '345 spear st', 'school district', '1016406', 'streets of', 'revenue', '\"loading zone\"', '701 Minnesota street', '311 street and sidewalk service orders', 'lyft', '\"harris corporation\"', '1 scott street', 'open', '1000 howard st', 'active streets', '160423641', '1698 10th', 'district', 'Property Information Map', 'lobbyists', 'streetlight', '6621 California', 'food inspections', 'access to private vehicles', 'terrain', '1358 28th avenue, san francisco, ca', 'public toilet', '\"Employee Compensation\"', '</script><script>alert(1)</script>', 'population', '2014 TIGER', 'landuse', 'Aaron Apperson', 'ACCO', '15421808', '1010388', '111 Ellis Street', 'marijuana', '66185', 'rent', '3139 mission street', 'active businesses', 'census 2000 blocks (no water)', '637 powell', '\"sfo customer survey data set dictionary\"', '3-1-1 reports', 'public transportation', 'Drinking water', '146 galewood circle', 'film locations', 'performance', '545 sutter street, san francisco', 'domestic violence', '415-701-5493', '200', 'PARCEL OWNER', 'price', '1443 46th ave', 'tract', '\"parking tax\"', '431379', '5413 Hillside av.,el cerrito94530', 'hurley', 'sale', '311\"', '1004301', 'citations parking', '\"taxi\"', 'slope', 'parking citation', 'BART', '\"public housing\"', '153280173', '\"Harris\"', 'bike lane', '337 spurce streeet', '\"urban agriculture\"', '2021 baker st.', '1996-2013 city survey data', '199 new montgomery', 'geography', 'housing facts', '1996-2011 City Survey Database', 'SFFind neighborhoods', '310274', 'crime', 'bay area building', 'telecom', '420378', '999 brannan', 'public space', '601 laguna street 94102', 'muni', 'street sweeper', 'contracts', 'Property Assessment', '94124', '94123', '94122', '177 stillman st. sf', 'housing prices', 'boundary', 'SCHOOL', '2013 City Survey Report', '338 fillmore', '20th ave', 'Building Footprints', '700 steiner', '2282 market street', 'summary', '43 ruth street, san francisco', '3725019', '2008 vallejo', '2761 BRYANT', 'building data', 'climate and health', 'traffic count', '2005 housing inventory', 'college', '355888', 'parking', 'sport', '929 oak st., sf, ca 94117', 'accounting, purchasing, EIS', 'mortgage', 'streets shapefile', 'city property', 'boundaries', '\"Treasure Island Music Festival\"', '3024 mission st', 'affordable', 'jobs', '2208 MISSION STREET,', 'SFPD', '2951 bush', '66416030', 'cities', '2014 City Serve report', '14212896', '\"vehicle maintenance\"', 'contract', '50 1', '1439 16th ave', \"'housing inventory'\", 'counter culture artist management', 'street permit', 'credit card', '960 howard', 'uber', 'Registered Businesses', 'cancer', '460 post street business search', '1023138', 'poo', 'pole', 'grants', '460 schedule', 'traffic volume', 'turkey', 'Active Business Registration', '\"address locator\"', 'allcnnsinorder', '450 sutter', '375 bush street', '2015 Form 460; Schedule G', 'public safety', '1 post st', 'academic performance index', '83 mcallister st, san francisco', '333 market street energy', 'pci', 'health inspection', 'abondoned properties', 'Parking street', '516 ellis', 'sound', 'disabled parking', 'street map', 'grocery stores', '655 natoma', 'resturant', '3D MODEL', 'Tow Zone', 'Accountalent', '\\\\restaurant', 'landslide', '\"tax rates\"', '2911 16th st police', 'soil', '1801 silliman st', 'CRIME', 'sfmta bikeway', '[Socrata] 311test', 'technology', 'expenditures', '2016 crime', 'Muni', '333 market street', '2013 quarter 3', 'property value', 'find my BAN', 'events', '150824861', '1600 Fell street', 'sweeper', 'oil', '1578 Newhall St. San Francisco', '255 17th', 'tree canopy', '1917 Broderick street', 'block group', 'footprint', '857 39th Ave.', 'business registry', 'Job open', 'drain', '311 service orders', 'vacant', 'Accounts Payable', 'planning cases', '1951 oak st', 'Graffiti', '\"personal property\"', '\"green zone\"', '\"general plan land use\"', 'census 2000 tracts (no water)', 'taxi', '211', 'Abuon', 'address range', 'PARK', 'base map', 'restrooms', 'new businesses', '\"urban density\"', 'speed', '2828 sloat', 'accepted streets', '158450356', 'rental', 'centerlines', '314315', '1 Longview Court', 'Open Spaces - City Planning', '732 brannan', '488678', 'income', 'fire station locations', 'traffic', 'railroad', 'accepted', '\"historic zoning\"', 'water shapefile', '\"population density\"', '\"affordable housing\"', '\"load capacity\"', '112 7th street', '956 Clayton', '555 market street', '3D building model', 'a shooting at 30th and mission last nigth', '750 Sutter St, San Francisco, CA 94109', 'homicides', '\"fire incidents\"', 'apartments', 'physical contours', 'street use', '94130', 'curb ramps', '94132', '94134', '62 linden avenue, san bruno, ca', 'parking citations', 'filming locations', 'mental health', 'ellis', '1850', 'citylots', 'kml', '2000 census', '\"Asthma\"', 'stops', '2190 Lombard St, San Francisco, CA', 'cannabis', '94102 geojson', 'community benefit', '911', 'dispensary', 'business', '1163 Geneva', 'ADDRESS', '2609', '2000 census tract shapefile', '{searchTerms}', 'cycling', 'parking census', '470777', '\"Campaign Finance - FPPC\"', '\"><script>alert(1)</script>', 'address points', 'sro', '647f', 'street center line', 'Open Spaces City Planning', 'city land', 'property info', 'road', 'gps data', '100 church street', 'homeless', 'Ada', '5 DAY WATER RELATED', '1698 10', 'ac transit', 'water bodies in san francisco', 'hazards', 'human waste', '2282 Market Street', '256 Fowler Ave.', 'drains', \"'><script>alert(1)</script>\", '579 Teresita Blvd.', 'building inspection', 'active contracts', 'Active', 'accident death', '200 market', 'cases by channel chart', 'shapefiles', '235 pine', 'on-street parking meters', 'assembly districts', 'business registrations', '460 forms Schedule A', '1028921', '2014 q4 planning pipeline', '300 sea cliff', 'nightlife', 'accidants', 'street lights', '\"75 surrey\"', 'toilet', '94102', 'crime data', 'ad', 'cbd', 'citation', 'sales', '285 geary st', 'hospitals', 'inspections', 'film', 'map of crimes incidents', '1 market', 'land use', '466853', '2090 Evans Avenue', '1445', 'trash', 'registered business', 'poop', '2004', 'shelter', '461', 'crime maps', '\"vacant lot\"', 'year built', 'CNN', '484', 'building', 'acs demographic', '460 dwight street', '72 hour parking restriction', 'wifi', '42 jules avenue', 'sewer', 'bay area zip codes', '317 oak park dr', 'City auto supply', 'property taxes', 'Business account number', 'colleges', 'abortions', 'street closures', 'civic art collection', '\"secured property assessment\"', 'Sales per restaurant', '2 hour street parking 2999 California Street', '400 Duboce Street', 'commute', '2010 population', 'pedestrian safety', '201 connecticut', '619 union street', '308 Font blvd', 'religious', 'children', 'alcatraz', '23792000', '956 madrid', '\"karen lum', 'census2000_blk_nowater', '.pmf', 'crypto*', 'TAZ', 'fire incidents', 'hotels and apartments', 'health', 'nodes', '3864 23rd street', 'eas address', 'bike path', 'GIS', 'parcel', 'ozone thai', 'health care facilities', 'accessory dwelling unit', 'published data', 'water bodies', 'ticket', '460 forms schedule A', 'address locater', '20 Roussea Street', '5300 3rd street', 'park score', 'police plot', '3440 Broderick Street', '\"propterty tax rate\"', '501c3', 'pbc', '460 forms schedule a', 'abandoned waste', 'street centerlines', 'neighborhood', 'truck routes', '15599895', 'housing violations', 'streets', 'bicycle collision', '3864 23rd street ban', '.SHP', 'sud', 'Bay Area - General', '311 service requests', 'sf solar map', '94 stratford drive', '.cad', '1004569', '53mission', 'openbook', '20 jones st', 'public', '\"office of citizen complaints\"', '2013 housing inventory', '158450356 \\\\', '311 Information Requests by Month', '2127', 'lobbyist', '10 glendale street', 'berkeley', '1188 Harrrison Street', 'affordable housing', '\"120 lake\"', '1849', 'sanfrancisco', '3 buena vista ave east, sf', 'zip code', 'airport', 'david owen', 'social', '701 GOLDEN GATE AV', '1817 jackson', '3rd st bridge', '83 mc allister st, san francisco, ca', 'transit', '2315 clement', '581 market', '1906', '1805 S. Van Ness', '838 grant ave', '1683 7th avenue', '311 apps', '\"street sweeper\"', 'traffic density', 'injury', 'assessor', 'water use', '2015 crime statistics', '614-23040', 'Fleet', '2015 elections', '311 dpw', 'building permit', 'registered business locations', 'better streets plan', '829 york street', '606 post street', 'dem', 'accident at work', '311\\\\', '201 Hale Street', '152102124', 'collision', '350 Mission', 'CAD', 'homicide', '544 Castro St', '311 data', 'land cover', 'open busienss', 'maps', '2133 stockton', 'speeding', 'csv', '1698', '2010 census block', 'Business Registration Certificate', 'plant', 'cctv', 'Dog', 'catalog', 'lighting', 'gtfs', 'ethics', 'response', 'a', 'bay area land use', 'imagery', '2016 budget', 'city features', 'shore', 'ortho', '2015 Q4 pipeline', '2a9c-tbjy', '0427372-01-001', '1515 s. van ness', 'Film', '3rd Street Collaborative', '2014 housing inventory', 'disabled', 'parcel map', '496', '497', '46 El Sereno Court 94127', '2243 32nd Avenue', 'Address locator', '15EXC-3156', 'City-block level weather', 'child care', 'census2000', \"333 O'Farrell St, San Francisco, CA 94102\", '916 pine street', '701 battery', 'food', 'demographics', '317 leavenworth', 'recreation', '460 subcontractors', 'fb global', 'sweeping', '101 utah street', '533 Oak', 'accountant intern', 'bus route', 'property assessment', 'street trees', 'smart meters', '2016 demographics', '542427', 'summary totals', '1 Tuscany Alley', 'SFO', 'SFMTA Bikeway Network', 'Accenture', '\"carbon monoxide\"', 'Hospitals', '\"cindy wu\"', 'house', 'energy', 'pedestrian volume', 'Registered business locations - San Francisco', 'crime incident', 'insurance', '1999reports', 'alcohol', 'Water Bodies in San Francisco', 'parcel data', '\"general plan\"', '679 san jose san Francisco', '2 Crestline Dr.', 'political contributions', 'fte', 'address locator', 'highway', 'electricity use', 'fiber', 'crime 2015', 'crime 2014', 'Street cleaning', '397761', 'uncashed', '337 spurce st san francisco ca', 'sf311', '311 case data', 'job density', '754 moultrie group', '1021981', '8300 Oceanview Terrace, 304, San Francisco', '46-G', '2011 pipeline report', '350 mission street', '1420 5th Ave., san francisco, ca', 'preservation', 'accidnets', '.cvs', 'existing commercial', 'stormwater', 'wages', 'san francisco shoreline', 'santa clara', '\"campaign finance dashboard 2015\"', '620 Branna', 'temperature', '5800 3rd St', 'san francisco facilities', '2014 map:crime incidents', '2761 Bryant', '\"block group\"', '16exc-1632', '1700 Newhall street', 'gps', '1207 cole', '2012 Housing Inventory', 'general plan', 'hotel', 'park', '555 minnesota street', '311 service request', '1242 Lombard', 'stairs', '152280530', 'Taxi', 'grocery', '888-886-6335', 'youth', '6/19/15', 'marriage', 'census tracts', '911 fire', 'building height', '177 Stillman Street report', '2096 castro street', '\"City', '\"miranda nye martin\"', 'pedestrian', '2385 bush st.', 'graffiti', 'business certificate', '9050', '2/26/16', 'Fire Inspections', '267 Green Street', 'air quality', 'SF shoreline', '0372909-02-001', 'Food', '\"alain gervais\"', 'bike lanes', 'zipcode', 'housing inventory', 'Census 2010', '3D', '\"school zones\"', 'street space', '340 warren drive san francisco, ca', '2310 mason street', 'affordability', '3par', 'zip codes', 'youth and seniors', 'Bay Area General', 'salary', '415 Euclid Ave', 'arson', 'mobile', 'street parking', '\"3015 pacific\"', 'clean', '\\x89\\xdb\\xa2 Proportion that is rent controlled or affordable', '2011 pipeline', 'emergency response districts', '9 geneva ave', 'businesses', 'caltrain', '1895 sacramento st', '400 Duboce', 'Poop', 'streetlights', '2650 18th', '21 homestead', 'street segments', 'Traffic', '527 42nd ave', 'Accident', 'hiv', '\"Assessment Appeals Board\"', '3739221', '2013-12-14-4989s', '1013343', 'trees', '929 oak st.', 'census 2010', 'zoning districts', 'heart disease', '! Cannot open C:\\\\Users\\\\CafeThai\\\\AppData\\\\Local\\\\Temp\\\\Rar$DIa0.256\\\\\\x88\\xfc\\xdd\\x88\\xfc\\xb4\\x88\\xfc_\\x88\\xfc\\xc1\\x88\\xfc\\xa2\\x88\\xfc\\xac.rar The system cannot find the path specified. ! C:\\\\Users\\\\CafeThai\\\\AppData\\\\Local\\\\Temp\\\\Rar$DIa0.256\\\\\\x88\\xfc\\xdd\\x88\\xfc\\xb4\\x88\\xfc_\\x88\\xfc\\xc1\\x88\\xfc\\xa2\\x88\\xfc\\xac.rar: No files to extract', 'evicitions', 'lobbyist contributions', 'Marijuana', '334 harriet st', 'bird', 'activity', '3d', '224 ordway st', 'restaurants', '467401', 'art', 'bart', 'excavation', 'Them Ky', '311', 'cases by channel', '16exc-3031', 'supervisor district', '\"Continental appliance\"', '\"street segment\"', 'migration', '\"Harris Corporation\"', '2012 housing inventory', 'contour', '555 4th st', '\"Code for Ameria\"', 'Buildings', '150847324', 'movie', 'payroll tax exclusion', 'addresse', 'libraries', '2015-000517ENV', '150-235-995', '17 San Andreas Way, San francisco, CA', '542094', 'bay area cities', \"'></script><script>alert(1)</script>\", '2000 census shapefile', 'faith organizations', '3755-147', '2211 stockton st', 'incident', 'foot print', 'existing commercial buildings', 'license', 'restaurant', '2250 POWELL STREET]', 'stclines', 'treasure island', 'Business Registration', 'FTE', '409 illinois', '15exc4954', 'point', '1080 Eddy', 'recycling', 'accidents gis', 'sweep', 'community', 'eviction', 'Traffic Control Signal', 'church', 'inclusionary housing', 'abandoned properties', '83 mc allister st 513, san francisco, ca', 'publishing', 'restaurant score', '1050 Sansome St', 'acceptance', '\"Condo Conversion\"', '360 somerset st', 'street tree map', 'citations', '689 20th avenue', 'bicycle network', 'SFUSD', '311 information requests by month', 'maps muni', 'rent board', 'fire', 'dog parks', '2016 Feb 26 arrests in bay view', 'lives', 'GTFS', '5413 Hillside av.,el cerrito,ca. 9453094530', '6524-032', 'plants', 'vallejo', 'bids contracts', '311 shelter list', 'neighborhood groups', '2015 election', 'elections', 'housing code violations', '2 bedroom homesale', '2100', '1999 crime', 'parcel zoning', 'analysis neighborhoods', 'health facilities', '700 Madrid', '152500694', '\"\"health care security ordinance', '1231 MArket St', 'fppc 460', 'ethnicity', '\"cindy wu\" dccc', 'italy', '208 girard', '530 Brannan Street', 'street shapefile', '917 florida', 'development', 'elevation data', '2012.0506', 'bikeways', '139 baden', 'cleaning', '\\x89\\xdb\\xa2 Proportion of Households not living in Overcrowded Conditions', '\"propterty tax', 'recent', '442 holloway ave., SF', 'high injury', '2695 43rd avenue', '1008 Santiago street, san francisco, ca', '433', 'green space', 'feces', 'taipei', 'small business', 'landmark', '450443', 'spend', '*.gdb', '///', 'shape', '1951 oak', '\"housing inventory\"', '194415', 'streets san francisco', 'loading', '721 18th avenue', 'contractor', 'crime rates', '32 richland avenue steven holland', 'location', \"'</script><script>alert(1)</script>\", 'violations', 'complaint', 'vendor', 'emergency', '550 3rd street san francisco ca', 'Chinatown', '1099', 'Basil Thai', 'Active Employees By Union and Department', 'secret garden tea house', 'sconnect', 'accident reports', '1999 reports', 'Access to healthcare', '\"harris\"', '2014 pipeline', '1015 geary', '152583535', '1017984', 'sfmta', '384647', 'weiner', 'Sweeper Scheduled', 'building footprints', 'sf neighborhoods', '2013 business', '2015 q1', 'litter', 'DEM', 'census 2000', 'garage', 'pet', 'religion', '1227 guerrero', 'acqua e sapone', '1560 8th ave', 'accessory dwelling', '2012 business', 'accela', '\"no on f\"', 'cases by neighborhood', '.xlm', '08-192', 'traffic accident', 'aadt', '.xls', '311 complaints', 'Coastal zone', 'faith', 'pipeline', '1899 mission', 'dataset inventory', '9937550', 'truck', '\"Historic Preservation\"', '1230 markert st', 'block', 'pollution', 'resiliency', 'sf blocks', 'pipeline 2015', '729 Shotwell St', 'data academy', 'film location', 'resilience', '77 san juan ave', 'spending', '460 - Schedule A', 'job titles', 'vendors', '149 Fell', '403432', '2004 bicycle network', '1660 Stockton at', '94080', 'registered', '.drg', 'street of san francisco', 'AADT', '\"potrero hill\"', 'zika', 'Golden gate larkin', '478 utah st', '460 forms schedula', 'Streets', '\"height limit\"', '13 Melrose ave', 'minutes spent walking or biking', '2325 Pine Street', 'dpt_bike_network', 'Parking meters dataset', '589 Post St, San Francisco, CA 94102', 'supervisor', '1755 clay st.', 'green connections', 'excavation permits', 'treasure Island', '1455 Custer Street', 'human resources', 'accessibility', 'Parks', 'app showcase', 'curb', 'low income', '\"inclusionary housing\"', '1890', '510 folsom', '2124 Great Hwy', '143082730', 'polygon', 'employment', '2139', 'property assessors roll', '\"Bonaguro\"', 'tow zone', '2919 folsom', '163 russ st.', '134814', 'eviction notices', '1612 fulton', 'san francisco crime', 'SFPD reported incidents', '\"Historic Evaluation\"', 'freeways', '153 college ave', 'parking ticket', 'land', 'age', '2003', '2000', 'parking meter', '1851', '2008', '2009', 'Registered_Business_Locations', '6524/032', '1853', 'sffind neighborhoods', '311 noise', '1480 larkin st', 'highways', 'farms', 'active blocks', 'food truck', '120841196', 'Business', 'amount of private vehicles', '92463779', 'contours', 'quarterly', '407 jackson st', '75 Dore Street', '429887', 'garden', 'Registered business locations', 'public housing', '953.7', 'facebook', '175 Ney Street', 'acres', 'precinct', 'lobbyist activity', '37.790897,-122.402850', '1444 market st', '\"1698 10\"', 'acxiom', 'race', 'restaurant health', '355 Bocana Street', '960 howard street', 'obesity', 'inspection', '420 grove', '16EXC-1871', '95051', 'licenses', '311 constituent service', '150-761-451', '2079 15TH AVENUE', 'speed limits', 'universities', 'mobile food', 'traffic accidents', '.sid', 'spending and revenue', '100 year storm flood plain', '311 cases', 'access', 'poles', '\"red bull\"', '311 sf data set', '2010 crime', 'bike routes', 'recent graffiti reports', 'bay area general', 'shoreline', '177 stillman st., san francisco, ca', 'abandoned vehicle', 'poverty', '\"department expenditures\"', '90 day cases', 'ferry', 'accessor', '429393', '2015-001144PRJ', 'orthophoto', 'metro', '31', '1175 Clayton', 'sales tax', 'building heights', '49276', 'survey', '94124 district', 'parking shapefile', 'addresses', 'api', 'apn', '360 post', '386909', 'san francisco', 'high injury corridors', '735 fell street', 'city blocks', '1938', 'zip', '\"Community Benefit District\"', 'address with resident names', 'vehicle', 'SFPD incidents', '64 Perine Place, Sf', 'hydro', 'shape file', 'floodplain', 'Orthophoto', '2020 Ellis st', 'rent control', 'benchmark', 'trail', 'historic district', 'train', '53 mission', '\"focus realty\"', 'chapter 20', 'women', 'customer', 'account', '414251', '2015 quarter 3', 'accrued', 'Police', 'abco', 'tax', '2015 Lobbyist', 'open space', '277 Columbus Ave', 'sea level', '345 Williams Avenue, San Francisco', 'sidewalks', '90 day', 'commercial building', 'animal', 'chart of cases by channel', 'rent burden', '2577 1/2 post street', '2449350', '2015 311 budget', 'Solar Map', '2282 market st', 'buildings', 'blocks', '\"floor plan\"', '177 Stillman Street, San Francisco, Ca', '5 chilton', '\"Property Tax\"', 'police district', 'eas addresses', '114 Henry street', 'abuse', 'bay outline', 'ethnic', '1453 mission street', '576 natoma st, san francisco, ca', 'Uber', 'tax revenue', 'SF Solar Map', '38 sadowa', 'lines', '160 Swiss Avenue', 'San Francisco gis', '1244 larkin', '2015 Q3', 'addiction', 'TAXI', '2070 latham', '1929 pay', 'new business', 'meter', 'Tennenbaum', 'motorcycle', '\"michael yarne\"', '3067 25th street', 'business locations', 'Zoning Districts', 'basemap street centerlines', 'grafitti', 'streets of san francisco', '3D building', 'block lot', '\"homeless shelters\"', '1996-2013 city survey', '2015', '\" ami\" 1990', 'bikeway', '2011', '2010', '2013', '2012', 'Red light camera', 'crash', '225 granville', '444 de haro st', '122 farallones st', '1008099', 'blocklot', 'Adam', '1024303', 'outlines', '795 folsom', '849(b)', 'agustin anda', 'university', '\"year built\"', '2015RevisedAssessorBlockMaps', 'late contributions', '1865 4th St, San Francisco', '3490 20th st', 'BUSINESS', '\"Loma Prieta Earthquake\"', '\"grand jury\"', '\"small business\"', '700', '675 Naples Street', '80', 'agriculture', '465639', 'fire stations', '49 Christopher Dr, San Francisco, CA', '5124007', 'entertainment', 'airbnb', '345 Williams Avenue,', 'accrued expenses', 'parking tickets', 'real time', '\"places of entertainment\"', '2015 sfo', '\"vending machine\"', 'data inventory', '2016 Assessor map', '\"1698 10th\"', '810 clay street, san francisco, ca', 'road network', 'open parks', '2010 population shapefile', '2009 housing inventory', 'city facilities', '2014 census tracts', 'liquifaction', 'route', '3401 clement st', '\"Basemap Street Centerlines\"', 'property information', '49ers', '2919-21 folsom st', 'homelessness', 'busines', 'retail', 'housing', 'aaron peskin Campaign Finance Summary Totals 2015', 'restaurant scores', '\"land use\"', '\"ryan white\"', '\\\\cleaning', '*bike_network', '400 Castro soul cycle', '269 joost ave', '1989', '\"Assessor Parcel database\"', 'Active Employee', '40 jessie street', 'accountant', 'a card', 'san francisco outline', '1660 Stockton street', '\"street segment:', 'household income', 'enforcement', 'adrian santos', 'academy', '186 valley street', 'city limit', '390 diamond street', '20th AVE permit', 'police stations', 'PORT JURISDICTION', '1365 Noriega Street', 'stock market', '425 market', '2010 map:crime incidents', 'bay area counties', 'rent prices', '\"Communication Infrastructure Corporation\"', '.shp', 'tracts', '2014', '608 haight', 'transit stop', '8553000366', '470 lake st.', 'map of crime incidents', '2008 crime data', 'Parcel', '2400j2251', 'fire station', 'parks', 'PORT', '3d building model', '1125 17th avenue', 'jail', 'vegetation', 'accuracy', '2016', '177 Stillman', 'police records', 'parking signs', '3d print', 'sfo', 'census block', 'neighborhood boundaries', 'highschool', 'realtor', '71 ford st', 'topographic', '337000', '1374554', 'medical marijuana', 'parking lots', '1040 howard st', 'abandoned vehicles', 'sf shoreline and islands', '8300 Oceanview Terrace, 304,', 'dbi', '447 Broadway Street', '311 constituent service request data', 'violation', 'traffic stop', 'vacancy', 'business name', 'STREET', 'pacific eye associates', '460 A', '460 G', 'Public', '460 E', '12B', 'Abtahi', 'access to healthcare facilities in San Francisco', 'mumbai', 'candidates', 'employee', '460 a', '460 g', '460 e', 'dpt bike', '203 Cotter st', '\"Data Officer\"', '122', '\"place of entertainment\"', '1001363', 'burglary', '460 post street', 'county boundary', 'shp', 'bay trail', 'evictions', '2004 rents', '94041', 'watershed', '\"homeless\"', 'police incidents', '1155 folsom st', 'building footprint', 'sfpd districts', '543 19TH AVE', '2134 GREEN STREET #3 SAN FRANCISCO, CA 94123', '610 page street', 'crime san francisco', 'acces to private vehicles san fran 2014', 'building footprint shapefile', '140820227', '311 incidents', '650 40th ave', '600 Van Ness', 'supervisor districts', 'crime map', '5296/019', 'public schools', '1 rincon', '13898090', 'academy of art', '223 missouri', 'parking meters', 'grafiti', 'job', 'key', '2400j', '\"burns', '49 south park st', '240 2nd Street', '1693 7th avenue', 'hydrology', 'limits', '425 market street', 'drug', '350 mission', 'bed bug', 'street of San Francisco', 'bicycle parking', '\"street light\"', 'canopy', '153 arkansas', '2011 mayor campaign contributions', '601 california', '15 arguello', 'Lot', 'aaron peskin', 'oakland', 'public school', 'transit stops', 'police districts', 'Elevation', 'discrimination', 'traffic light', 'street evaluation', 'map of crimes incidents\\x89\\xdb\\xaa', 'json', '732', 'restaurant inspection', 'accessory dwelling units', '1899', 'waste', '465', '333 lake street', '460', '933 treat', '*.shp', 'street intersections', 'smoking', 'volunteer', 'Street sweeping', 'criminal', 'abandoned', 'movie locations', 'Active business', '560 mission street', 'bayview', 'actnet', 'access to private vehicles san fran 2014', '79 Midcrest Way', '933 treat ave', '1010 fitzgerald ave, san francisco, ca', 'avl', '1801 Hayes', '3008 18th street', '\"floor area\"', 'finance', '2016 budget publication', '90033', 'Dol Ho', 'A Card', '554 irving street, san francisco', 'bus stops', '2013 crime', 'data catalog', '225-33050', '1br 2br', '530 brannan street business lincenses', '631 cole st', '690 folsom street', 'paving', '18 latona st', 'lobby', '94116 restaurant', 'diabetes', '//', 'street light', 'indonesia', '\\x89\\xdb\\xf7map of crimes incidents', 'business registration', '1485 Haight', '469249', '460 schedule e', '239 carl street', '361 3rd ave', 'clinic', 'San Francisco', 'adu', 'density', 'residential', 'demographic', 'bench', 'arrest', '2015 residential development pipeline', 'ada', 'aerial', 'SF Shoreline and Islands', '911 response', 'seismic hazard zones', 'address to geographic location', 'san francisco shapefile', '\"propterty tax\"', 'historic', '\"gas leak\"', '265', 'intersection', '14186571', 'health score', 'miami', 'popos', '132A Lexington', '\"continental appliance\"', 'aaron peskin Summary Totals 2015', '2251', 'accessible', '474163', '1002155', '2172 Pacific Avenue', '3800 16th street san francisco, ca', '5155', 'library', '\"load bearing capacity\"', 'active companies list', 'home', 'ballot', '150857674', 'city lots', 'salaries', 'total housing units', 'zoning 2008', 'intersections', 'footprints', '3241201', 'noise', 'crp/cypress market', 'foodtruck', 'census tract', '2919 mission street', 'employee compensation', 'air traffic', 'additional street space', 'counties', 'consumerism', 'city properties', 'actual', 'registered businesses', '\"general plan\" \"land use\"', 'wind monitoring', '\"karen lum\"', '2013 Housing Inventory', '2598 Mission Street', 'registered business location', 'tenderloin', 'weather', 'business owner', 'roads', '460 contractors', '101 Post', '1551 Pacheco', '163 Ney St', 'museum', '*', 'buisness', '\"CBD\"', 'lidar', '880 Franklin', '2015 Q2', '2011 herrera campaign contributions', '2015 Q4', 'mobile food facility', '3 d buildings', 'street names', 'certificate', 'bus', '311 budget', 'volume', '94536', 'construction', '2016 Assessor map updates', 'eas', 'count', '2004 food vendors', '2713 diamond', '282 harbor rd san francsico, ca 94124', 'stories', '3333 California Street', 'accidenta', '150327887', '\"john ortiz\"', '130058911', '460 schedule G', 'mission bay', '258 9 th st', '460 schedule A', '2015 enacted budget', 'education', '158 maynard', '460 schedule g', 'bikeway network', '44', '460 schedule a', 'assesment', '2130 JAckson street', 'sf outline', '654 46th Avenue', '44 samoset st', '\"continental electric\"', 'street use permits', 'address book', '376 ellis street', 'SanFrancisco.gdb', '240 2nd', '200 hazelwood ave', '353 BEACH RD, BURLINGAME, CA', 'bay area', '387 ellis street, san francisco, ca', 'sf movies', 'post office', 'accidents', 'gardens']\n"
     ]
    }
   ],
   "source": [
    "print search_terms"
   ]
  },
  {
   "cell_type": "code",
<<<<<<< HEAD
   "execution_count": 16,
=======
   "execution_count": 9,
>>>>>>> 4c68fbe5aa2f379fd1374ebd5df9e6bb9400a4dc
   "metadata": {
    "collapsed": false
   },
   "outputs": [
    {
     "data": {
      "text/html": [
       "<div>\n",
       "<table border=\"1\" class=\"dataframe\">\n",
       "  <thead>\n",
       "    <tr style=\"text-align: right;\">\n",
       "      <th></th>\n",
       "      <th>Search Term</th>\n",
       "      <th>Exit Page</th>\n",
       "      <th>Total Unique Searches</th>\n",
       "      <th>Results Pageviews / Search</th>\n",
       "      <th>% Search Exits</th>\n",
       "      <th>% Search Refinements</th>\n",
       "      <th>Time after Search</th>\n",
       "      <th>Average Search Depth</th>\n",
       "    </tr>\n",
       "  </thead>\n",
       "  <tbody>\n",
       "    <tr>\n",
       "      <th>3519</th>\n",
       "      <td>194415</td>\n",
       "      <td>/Economy-and-Community/Registered-Business-Loc...</td>\n",
       "      <td>2</td>\n",
<<<<<<< HEAD
       "      <td>1.0</td>\n",
=======
       "      <td>1</td>\n",
>>>>>>> 4c68fbe5aa2f379fd1374ebd5df9e6bb9400a4dc
       "      <td>0.00%</td>\n",
       "      <td>0.00%</td>\n",
       "      <td>0:00:06</td>\n",
       "      <td>2.5</td>\n",
       "    </tr>\n",
       "  </tbody>\n",
       "</table>\n",
       "</div>"
      ],
      "text/plain": [
       "     Search Term                                          Exit Page  \\\n",
       "3519      194415  /Economy-and-Community/Registered-Business-Loc...   \n",
       "\n",
       "      Total Unique Searches  Results Pageviews / Search % Search Exits  \\\n",
<<<<<<< HEAD
       "3519                      2                         1.0          0.00%   \n",
=======
       "3519                      2                           1          0.00%   \n",
>>>>>>> 4c68fbe5aa2f379fd1374ebd5df9e6bb9400a4dc
       "\n",
       "     % Search Refinements Time after Search  Average Search Depth  \n",
       "3519                0.00%           0:00:06                   2.5  "
      ]
     },
<<<<<<< HEAD
     "execution_count": 16,
=======
     "execution_count": 9,
>>>>>>> 4c68fbe5aa2f379fd1374ebd5df9e6bb9400a4dc
     "metadata": {},
     "output_type": "execute_result"
    }
   ],
   "source": [
    "search_data.ix[search_data[\"Search Term\"] == \"194415\"]"
   ]
  },
  {
   "cell_type": "code",
<<<<<<< HEAD
   "execution_count": 33,
=======
   "execution_count": 10,
>>>>>>> 4c68fbe5aa2f379fd1374ebd5df9e6bb9400a4dc
   "metadata": {
    "collapsed": true
   },
   "outputs": [],
   "source": [
    "search_terms_data = search_data[[\"Search Term\"]]\n",
    "search_terms_data = search_terms_data.rename(columns={\"Search Term\": \"search_term\"})"
   ]
  },
  {
   "cell_type": "code",
<<<<<<< HEAD
   "execution_count": 80,
=======
   "execution_count": 11,
>>>>>>> 4c68fbe5aa2f379fd1374ebd5df9e6bb9400a4dc
   "metadata": {
    "collapsed": false
   },
   "outputs": [
    {
     "data": {
      "text/html": [
       "<div>\n",
       "<table border=\"1\" class=\"dataframe\">\n",
       "  <thead>\n",
       "    <tr style=\"text-align: right;\">\n",
       "      <th></th>\n",
       "      <th>search_term</th>\n",
<<<<<<< HEAD
       "      <th>processed_data</th>\n",
=======
>>>>>>> 4c68fbe5aa2f379fd1374ebd5df9e6bb9400a4dc
       "    </tr>\n",
       "  </thead>\n",
       "  <tbody>\n",
       "    <tr>\n",
       "      <th>0</th>\n",
       "      <td>business</td>\n",
<<<<<<< HEAD
       "      <td>business</td>\n",
=======
>>>>>>> 4c68fbe5aa2f379fd1374ebd5df9e6bb9400a4dc
       "    </tr>\n",
       "    <tr>\n",
       "      <th>1</th>\n",
       "      <td>crime</td>\n",
<<<<<<< HEAD
       "      <td>crime</td>\n",
=======
>>>>>>> 4c68fbe5aa2f379fd1374ebd5df9e6bb9400a4dc
       "    </tr>\n",
       "    <tr>\n",
       "      <th>2</th>\n",
       "      <td>crime</td>\n",
<<<<<<< HEAD
       "      <td>crime</td>\n",
=======
>>>>>>> 4c68fbe5aa2f379fd1374ebd5df9e6bb9400a4dc
       "    </tr>\n",
       "    <tr>\n",
       "      <th>3</th>\n",
       "      <td>311</td>\n",
<<<<<<< HEAD
       "      <td>311</td>\n",
=======
>>>>>>> 4c68fbe5aa2f379fd1374ebd5df9e6bb9400a4dc
       "    </tr>\n",
       "    <tr>\n",
       "      <th>4</th>\n",
       "      <td>streets</td>\n",
<<<<<<< HEAD
       "      <td>streets</td>\n",
=======
>>>>>>> 4c68fbe5aa2f379fd1374ebd5df9e6bb9400a4dc
       "    </tr>\n",
       "  </tbody>\n",
       "</table>\n",
       "</div>"
      ],
      "text/plain": [
<<<<<<< HEAD
       "  search_term processed_data\n",
       "0    business       business\n",
       "1       crime          crime\n",
       "2       crime          crime\n",
       "3         311            311\n",
       "4     streets        streets"
      ]
     },
     "execution_count": 80,
=======
       "  search_term\n",
       "0    business\n",
       "1       crime\n",
       "2       crime\n",
       "3         311\n",
       "4     streets"
      ]
     },
     "execution_count": 11,
>>>>>>> 4c68fbe5aa2f379fd1374ebd5df9e6bb9400a4dc
     "metadata": {},
     "output_type": "execute_result"
    }
   ],
   "source": [
    "search_terms_data.head()"
   ]
  },
  {
   "cell_type": "code",
<<<<<<< HEAD
   "execution_count": 39,
=======
   "execution_count": 48,
>>>>>>> 4c68fbe5aa2f379fd1374ebd5df9e6bb9400a4dc
   "metadata": {
    "collapsed": false
   },
   "outputs": [],
   "source": [
    "search_terms_data['processed_data'] = search_terms_data.search_term\\\n",
<<<<<<< HEAD
    "                                        .apply(lambda text: text.decode('utf-8','ignore').encode(\"utf-8\"))\\\n",
=======
    "                                        .apply(lambda text: text.decode('ascii' ,\"ignore\" ).decode('utf-8','ignore'))\\\n",
>>>>>>> 4c68fbe5aa2f379fd1374ebd5df9e6bb9400a4dc
    "                                        .apply(lambda text: text.lower())"
   ]
  },
  {
   "cell_type": "code",
<<<<<<< HEAD
   "execution_count": 42,
=======
   "execution_count": 49,
>>>>>>> 4c68fbe5aa2f379fd1374ebd5df9e6bb9400a4dc
   "metadata": {
    "collapsed": false
   },
   "outputs": [
    {
     "name": "stdout",
     "output_type": "stream",
     "text": [
<<<<<<< HEAD
      "['220 30th ave', 'active business locations', 'traffic counts', 'lyft driver', '*.dpt_bike_network', 'traffic calming', 'facilities', 'crime rate', 'building permits', '1746 church street, san francisco 94131', 'right of way', '\"basemap street centerlines', 'pipeline q2 2015', 'sf shoreline', 'election results', 'electricity', '311 county', 'sffd', 'bike', 'external datasets', '311 human', 'geology', '800 detroit', '2014 crimes', 'tickets', '560 davis st san francisco', 'school', 'zipcodes', '2649 polk s', 'house income', \"'<script>alert(1)</script>\", '1235 bay', '573 andover street', 'census block group', 'case data from san francisco 311', 'bicycle', '1070 capitol', 'presidio', '25282', 'sfpd incident', 'budget', '272', 'street', '1485 bayshore', '301 baltimore way', 'abandoned vehcihles', '311 explorer', 'lights', 'moratorium', '\\xdb\\xa2 proportion of households not living in overcrowded conditions', 'public library', '8204', '2014 development', '3 rudden avenue sf ca', 'sfusd', 'hill grade', 'four days', 'sfpd', 'payroll', '106 grand view', 'parks shapefile', 'china', '2014 election', '2014 housing', '100', '101', 'art galleries', '460 d', '4610 mission street', 'census shapefile', 'employees', '123 retiro way', 'museums', 'payroll clerk', 'permit', '15sf036', '111 minna', 'human rights', 'topography', 'campaign', '460 - schedule a', 'precincts', 'county', 'counts', 'lobbyist contribution', '64 perine place, sf', 'open businesses', 'hospital', '\"clipper cove beach\"', '94158', 'business certificates', 'traffic control signal', 'assessment', '\"citywide performance measurement\"', '3067 25th street san francisco ca 94110', '\"wind monitoring\"', '766 vallejo', 'phone', '39th avenue', '0355/004', '469 union st', '2466 francisco', '9/1/01', '1990', '1992', 'permits', '\"2721 diamond\"', 'tenderloin housing clinic', 'pot hole', 'movies', '! cannot open c:\\\\users\\\\cafethai\\\\appdata\\\\local\\\\temp\\\\rar$dia0.256\\\\\\xdd\\x88_.rar the system cannot find the path specified. ! c:\\\\users\\\\cafethai\\\\appdata\\\\local\\\\temp\\\\rar$dia0.256\\\\\\xdd\\x88_.rar: no files to extract', 'tnc', 'exceptions', '1009-', '\"fire inspection\"', 'golden gate larkin', 'police station', '381216', 'household', '400 castro soul cycle', 'cases by neighborhood', '1931 35th ave san francisco, ca 94116', '\"health code\"', '\"sfmta route\"', 'shapefile', 'geojson', '574 escuela', '530 brannan street', '301 king st', 'beach', 'restaurant inspections', '\"code for america\"', 'homelessness', '511', '600 van ness', '353853', '\"><img src=x onerror=alert(document.domain)>', 'community resiliency', '94070', 'business registration certificate', 'aaron peskin payment received', '240 2nd street', 'active block lots', 'employee salaries', '1050 sansome st', '2010 census', '2945 baker st apt 5', 'green', 'street tree list', 'ambulance', '300 seacliff', 'homeless shelters', 'wind', 'street sweeping', 'pothole', 'dpt bike network', '337 spurce street', '40414', '.dwg', '727954', '\"sharper focus\"', 'planning districts', 'transit stops', '533 oak', '406', '403', '400', '\"public library\"', '15564537', 'coffee', '542 brannan', 'tourist', '1480 larkin', '\"vacant parcel\"', '255 17th', 'zoning', '151104052', 'form 460', '701 teresita san francisco, ca', 'schools', 'tourism', 'food hygiene', 'bank', '77116', 'lives restaurant inspection', '258 9th st', 'population density', 'fitness', '\"one way\"', 'open business', '94108', '\"san francisco general plan\"', 'address shapefile', '620 branna', 'dumping', 'crimes', 'five year plan', '1660 stockton at', '152233830', '6538/038', 'private schools', 'adapt', 'smf', 'accessible', '2015 budget information', 'incident arson', '1 tuscany alley', '141 eddy street', '\"expenditures by department\"', 'inspection food', '160080008', '445 kirkham', 'public art', '665 pine st', '600 fell st.', 'basemap', 'benchmarking', 'bus routes', 'appeals', 'accent', '15exc4667', '311 case', '\"basemap street centerlines\"', '67 silverview drive', '1952 larkin', 'basketball', 'soil types', '525 29th st', 'service', 'ed lee contributions', '161570631', 'tow', 'heights', '10b', '20200480', 'aaron peskin summary totals 2015', 'recent', 'murder', 'city-block level weather', 'business address', 'sanfrancisco.gdb', 'motorcycle parking', '1020749', '545-00500', '.json', 'tree', '453 masonic st', 'san francisco shapefile', '13 melrose ave', 'expa', 'planning commission president', '1230 market st', 'bridge', '3d building models', '106 powell street', '\"green\"', '1970', '\"population', '1013117', '709 geary st', '1041 alabama', '278 states street', '882 31st ave', 'senior center', '27 isis', '311 data set', '1br 2br', '2346-014', 'landmark', 'germany', '430 lake st', '855 folsom', 'neighborhoods', 'dog', '1992 map', 'freeway', 'abbrev', 'envista', '41 genebern way, sf', '24 shotwell', '331 jersey st parcel map', 'consumer', 'street sweep', 'city boundary', '177 stillman st', 'off street parking', 'operate business', 'business account number', '5 hudson ct, san francisco, ca 94124', 'fire department', '8714', '\"dog owners\"', '1952 larkin street', 'accident death', '\"community benefit districts\"', 'san francisco streets', 'asbestos', 'b6tj-gt35', '235 presidio avenue', 'coast', '292 douglass', '9/11/15', '\"single room occupancy\"', 'park lands', 'certified payroll', '14243059', 'bay', '160 swiss avenue', '415', '410', '\"places of entertainment\"', 'ban', '1 hour parking', '3d building', 'liquor', '2160 stockton', '127 san jose ave', '453234', '1611fulton', 'lots', '\"natural gas\"', '324 arkansas', '1415 scott street', 'compensation', '\"sea level\"', '2015 pipeline', '2386j', '1980 block', '469217', 'crime incidents', '1155 folsom at', 'abuon', 'census 2000 blocks', '49 south park st', '360 somerset street', '6621 california', 'medallion', '663 haight street', '2912 19th ave', 'climate', 'accident', 'excrement', 'fault', 'food inspection', '\"floor area\"', 'san francisco gis', 'aba therapy facilities', '\"shelters\"', 'job open', '1017361-01-151', 'height', 'active', 'sfmta bikeway network', '1450 green st', 'accidents pedestrian', 'conference', 'crime rates', '311 call metrics', '1158 noe street', '311 service ordes', 'stadium', '\"traffic analysis\"', '911 call', '544 castro', '1880 filbert', '911 calls', '150241102', '150765130', '\"cancer\"', 'child', '906', '311case', '162', 'san-francisco-parking-meters-map-and-dataset', 'air', 'reviews', 'bike parking', '26 eagle street', 'land value', 'property', 'cnn changes', '131 franklin street', 'soils', 'accidence', 'calls for service', 'seattle', 'pbc code', '311 call', 'emergency', 'abandoned building', '2346 lot 20', '1819', '655 natoma', 'bike shapefile', 'inventory', '6228', '6621', '405 valencia', '4058 17th st', 'published', 'rail', 'workforce', 'rain', 'topo', 'public works', '7332', 'median income', 'acoustics', '1975', 'aaron peskin campaign finance summary totals 2015', '\"city', 'ocean', 'traffic signals', 'abandoned properties', '8854', 'unemployment', 'photo', '2014 energy benchmark 285 geary', 'bike network', '1428 jackson st', '\"payday advance\"', '\"2713 diamond\"', 'advisories', 'prison', '855 folsom st, san francisco', 'hakam abdel fattah', '364472', '2 hour parking', 'elevation', 'municipal', '1012986', '301 claremont blvd', '\"residential permit\"', '3465 25th st', '\"lines\"', '2011 pipeline q2', '108 ellsworth', 'acident', '1996-2013 sf city survey', 'pavement', 'farmers markets', 'groundwater', '3d model', '384358', '2004 bike network', '285 geary st energy audit', '2010 us census data', '100 year flood plain', 'sfpark', '3440 broderick street', '20 jones', 'meters', 'election', 'census 2000 tracts', 'crime shapefile', 'business closing', '444 townsend', '\"property tax\"', '2015 budget', 'absconders', 'creative', 'filming', '5 thomas mellon circle', 'cnn', 'nail salon', '418 jessie st', 'addresse', 'business permits', '?debug=true', 'census', 'city owned facilities', '\"treasure island music festival\"', '2919 folsom st', '2901 sacramento st', '1834 grant', 'employment rate', 'schedule e', '14080248', '460e', 'schedule a', '460a', '\"parking tax\"', 'coastal', 'bay area - general', '460s', 'gis', '119 taraval', 'padmapper', 'altitude', 'legislation', '\"burt herman\"', '{searchterms}', 'open spaces', '679 page street', '\"heat wave\"', 'sfshore', '222 sasome', '\"small businesses\"', '1990-', 'film locations in san francisco', '71 ford st', 'wireless', '374 5th street san francisco', 'solar', '*.*', '\"campaign finance\"', 'census blocks', '1080 eddy', 'realtor_neighborhoods', '2015 q2', '1004458', '2010 census tracts', 'city survey', 'passenger', '427372', '200 6th st', 'active business', 'household size', '277 columbus ave', '8300 oceanview terrace, 304,', 'potholes', 'city auto supply', 'house sales', '2190 lombard st, san francisco, ca', '(415) 824-1602', 'cycling', '9 county boundary', '1427 11th ave', '315 28th avenue', '\"urban density\"', 'flood', 'leed', 'open spaces - city planning', 'test', 'roll', 'energy audit', '\"school zone\"', 'market street', '2015 q4 pipeline', 'supervisorial', '1865 4th st, san francisco', \"hunter's point\", '\"campaign finance - fppc\"', '40 genebern way, sf', '94103', '94102', '94104', '94107', 'pet', '460 summary', 'parcels', '750 sutter st, san francisco, ca 94109', 'accesor', '466 9th avenue', '83932', 'recidivism', '1700 newhall street', 'row', '425 market street energy', 'suicide', 'property assessment roll', '2208 mission street,', 'zone', '1416 polk street', 'environment', 'bicycles', 'sfpd incidents', '100 e grand', 'short term', '445 anderson', '450 golden gate', '5413 hillside av.,el cerrito,ca. 9453094530', 'sfopenbook', '729 shotwell st', '\"build out\"', '322 30th ave', '163 ney st', 'aaron peskin gift', '\"green infrastructure\"', 'campaign finance', 'mobile food truck', '63 woodland', '1630 30th avenue', '.csv', '959 noe street', 'gun', '1999', '60 agua way', '14315714', 'subway', 'real estate', 'san francisco shore', 'sidewalk', '94121', '68 cervantes blvd', 'shoreline shapefile', 'travel time', 'form 700', 'trails', '1231 20th ave, san francisco', 'cost', 'accountalent', 'street centerline', 'port', '1008785', '560 brannan', 'abdullah', '1798 grove street', 'geography', '1225 17th avenue', 'transportation', '2016 pipeline', '2385 bush street', '\"height', 'inclusionary', 'digital elevation map', 'water', '037290902-001', 'address', 'earthquake', '124 molimo', '3247 reserve ct, san jose, ca', 'business number', 'parcel zoning', '311 syringe', '372909', '308 font blvd', 'coastal zone', 'planning neighborhoods', '2014 tiger', '158 maynarad st', '5252 mission street', 'aadt', '2015 form 460; schedule g', '559 miramar', 'hotels', '38432250', '766 vallejo street', 'sports', 'films', 'plan areas', '1038 jackson', 'solar map', 'parking ticket', '425 market energy', 'street center lines', 'sf solar', 'on street parking', '923 goettingen', 'cases', '35 brosnan', 'active nodes', 'car', 'abortion', 'districts', '2016 feb 26 arrests in bay view', 'business licenses', 'incidents', 'minutes spent walking', 'san francisco boundary', 'cab', '2013 census shapefile', 'cad', '\"historic zoning districts\"', 'lobbying', 'neighborhood group', '2 casa way', '2010 tract population', '2016 assessor map', '140273353', '\"cable car\"', '311 dpw complaints', '1365 noriega street', 'active employee', 'secured', 'business license', 'secured property', '\"120 lake street\"', 'high school', '06/19/2015 dashiell hammet', 'development pipeline', 'economy', 'map', '1008809', '140878', 'accessory', '\"methane leak\"', 'sffilms', 'date', 'data', '3/1/01', 'bristol farms', 'vendor payments', 'outline', 'food trucks', '100 church', '.dxf', '75 dore street', '\"dog parks\"', '-122.407829844146 37.7826402567843', 'accidenas', '460 forms schedul a', '126', '2010 sfo', 'pipeline 2014', 'nlcd', 'civic art', 'walking and cycling', '136 arlington street', '94118', 'police', '700 madrid', '1163 geneva', '94111', '94116', '94117', '94114', '94115', '1051 grant ave, sf', '2325 pine street', 'sf shore', '3d public art', 'dpw', '2 plus 2 bookeeping', 'finance', '\"cbd\"', '\\\\', 'accomodation', '\"curtis dunn\"', '149 julian', 'parking restrictions', '838 detroit street', '\"health care security ordinance\"', 'street cleaning', 'maher', '17 san andreas way, san francisco, ca', '812 guerrero street', 'campaign finance 410', 'map of crimes incidents\\xdb\\xaa', '2004 bicyclenetwork', '2011 herrera mayor campaign contributions', 'fires', '\"employee compensation\"', 'year', 'parking permit', 'tickets parking', 'a-cards', '155 arbor st', '2240 market street', 'case data', 'community gardens', '1385 carroll ave', '\"></script><script>alert(1)</script>', 'entitlements', 'centerline', 'sensor', 'curbs', 'cars', 'sf.data.gov', '3710017', 'open business locations', '3953 24th street', 'accommodation', 'sea level rise', 'language', 'curb ramp', '1485 haight', 'registered business locations - san francisco', '331 jersey st', '462 douglass sr', '8720', '345 spear st', 'school district', '462 douglass st', '1016406', 'acco', 'streets of', 'revenue', '\"loading zone\"', '311 street and sidewalk service orders', 'lyft', '\"harris corporation\"', '1 scott street', 'open', 'molly saeger', '1000 howard st', 'active streets', '160423641', '1698 10th', 'district', 'lobbyists', 'streetlight', '80.004 employee compensation report', 'food inspections', 'access to private vehicles', 'terrain', '1358 28th avenue, san francisco, ca', 'public toilet', '</script><script>alert(1)</script>', 'population', 'open spaces  city planning', 'port jurisdiction', 'open spaces city planning', '1242 lombard', 'landuse', '15421808', '1010388', 'marijuana', '66185', 'rent', '\"bonaguro\"', '3139 mission street', 'active businesses', 'census 2000 blocks (no water)', '637 powell', '\"sfo customer survey data set dictionary\"', '3-1-1 reports', '309953', '1013914', '146 galewood circle', 'film locations', 'performance', '545 sutter street, san francisco', 'domestic violence', '415-701-5493', '200', 'price', '1443 46th ave', 'tract', 'complaints', '431379', 'hurley', 'sale', '311\"', '1004301', 'citations parking', '\"taxi\"', 'aaron apperson', 'slope', 'parking citation', '\"public housing\"', '153280173', 'bike lane', '337 spurce streeet', '\"urban agriculture\"', '2021 baker st.', '1996-2013 city survey data', '199 new montgomery', '\"category a\"', 'housing facts', '654 46th avenue', '310274', 'crime', 'bay area building', 'telecom', 'supervisor districts', '\"potrero hill\"', '999 brannan', 'public space', '601 laguna street 94102', 'crime map', 'muni', 'street sweeper', 'contracts', '5296/019', '94127', '94124', '94123', '94122', '177 stillman st. sf', 'housing prices', 'boundary', '2631 23rd', '338 fillmore', '20th ave', '700 steiner', '2282 market street', 'summary', '43 ruth street, san francisco', '3725019', '2008 vallejo', 'building data', '956 clayton', '203 cotter st', 'climate and health', 'traffic count', '111 ellis street', '2005 housing inventory', '1455 custer street', 'college', '355888', 'parking', 'sport', '929 oak st., sf, ca 94117', 'mortgage', 'parking street', 'streets shapefile', 'city property', '701 minnesota street', 'boundaries', '74 6th street', 'affordable', 'jobs', '2951 bush', '66416030', 'cities', '2079 15th avenue', '14212896', '\"vehicle maintenance\"', 'contract', '50 1', '1439 16th ave', \"'housing inventory'\", 'counter culture artist management', 'street permit', 'credit card', '960 howard', 'state senate', 'cancer', '460 post street business search', 'poo', 'pole', 'grants', '460 schedule', '825 brotherhood', 'traffic volume', 'turkey', '1600 fell street', '\"address locator\"', 'allcnnsinorder', '450 sutter', '375 bush street', '1188 harrison street', 'public safety', '1 post st', 'academic performance index', '83 mcallister st, san francisco', '333 market street energy', 'pci', 'health inspection', 'abondoned properties', '1008 santiago street, san francisco, ca', '345 williams avenue, san francisco', '516 ellis', 'sound', 'disabled parking', 'street map', 'grocery stores', 'chinatown', 'resturant', '\\\\restaurant', 'landslide', 'low income', '2911 16th st police', '447 broadway street', 'soil', '1801 silliman st', 'sfmta bikeway', '1660 stockton street', '175 ney street', 'technology', 'planning applications', 'expenditures', '2016 crime', '333 market street', '1801 hayes', '2013 quarter 3', 'property value', 'events', '150824861', '3333 california street', '20 roussea street', 'sweeper', 'oil', '2243 32nd avenue', 'tree canopy', '2015-000517env', 'block group', 'footprint', 'business registry', 'drain', '311 service orders', 'vacant', '\"condo conversion\"', '49 christopher dr, san francisco, ca', 'planning cases', '1951 oak st', '\"personal property\"', '\"green zone\"', '\"general plan land use\"', 'census 2000 tracts (no water)', '1709 broderick street', 'taxi', '211', 'address range', '1175 clayton', 'base map', 'restrooms', '1188 harrrison street', 'new businesses', 'registered business map', 'speed', '2828 sloat', 'accepted streets', '158450356', 'rental', 'centerlines', '460 forms', '314315', '460 dwight street', '732 brannan', '488678', 'fire station locations', '450443', 'railroad', '\"communication infrastructure corporation\"', '1420 5th ave., san francisco, ca', '\"historic zoning\"', 'water shapefile', '\"population density\"', '\"affordable housing\"', '\"load capacity\"', '112 7th street', '555 market street', 'a shooting at 30th and mission last nigth', 'homicides', '\"fire incidents\"', 'apartments', 'physical contours', 'street use', '94130', 'curb ramps', '94132', '1gagf', '94134', '62 linden avenue, san bruno, ca', 'parking citations', 'filming locations', 'mental health', '\"assessor parcel database\"', 'ellis', '1850', 'citylots', 'kml', '2000 census', 'stops', 'cannabis', '94102 geojson', '1231 market st', 'community benefit', '911', 'dispensary', 'business', '442 holloway ave., sf', '2609', '372 point lobos ave', '2000 census tract shapefile', '386909', 'parking census', '679 san jose san francisco', '470777', 'address points', 'sro', '647f', 'street center line', '2577 1/2 post street', 'city land', 'property info', 'road', 'gps data', '100 church street', 'homeless', '1698 10', 'ac transit', 'water bodies in san francisco', 'hazards', '2 crestline dr.', 'human waste', 'lot', 'drains', \"'><script>alert(1)</script>\", 'building inspection', '15exc-3156', '\\xdb\\xa2 proportion that is rent controlled or affordable', '1025 post', '200 market', 'cases by channel chart', 'shapefiles', '235 pine', 'on-street parking meters', 'assembly districts', 'business registrations', '1028921', '2014 q4 planning pipeline', '300 sea cliff', 'nightlife', 'accidants', 'street lights', '\"75 surrey\"', 'toilet', 'crime data', 'ad', 'cbd', 'citation', 'sales', '285 geary st', 'hospitals', 'inspections', 'film', 'map of crimes incidents', '1 market', 'land use', '1445', 'trash', 'registered business', 'poop', '2004', 'shelter', '461', 'crime maps', '\"vacant lot\"', 'year built', 'basil thai', '470 lake st.', '484', 'building', 'acs demographic', '72 hour parking restriction', 'wifi', '42 jules avenue', 'sewer', 'adam', 'bay area zip codes', '317 oak park dr', '5 day water related', 'property taxes', 'colleges', '256 fowler ave.', 'abortions', 'street closures', 'civic art collection', '\"secured property assessment\"', '1144 alabama', '400 duboce street', 'commute', '2010 population', 'pedestrian safety', '201 connecticut', '619 union street', '511 traffic', 'religious', 'children', 'apns for port of sf', 'alcatraz', '23792000', '956 madrid', '\"karen lum', 'census2000_blk_nowater', '.pmf', 'crypto*', 'fire incidents', 'aaron', 'hotels and apartments', 'health', 'nodes', '3864 23rd street', 'eas address', 'bike path', 'parcel', 'ozone thai', 'health care facilities', 'accessory dwelling unit', 'published data', 'water bodies', 'ticket', 'address locater', '5300 3rd street', 'park score', 'police plot', '\"propterty tax rate\"', '501c3', 'pbc', '460 forms schedule a', 'abandoned waste', '400 duboce', 'street centerlines', 'neighborhood', 'truck routes', '15599895', 'housing violations', 'streets', 'bicycle collision', '3864 23rd street ban', 'sud', '311 service requests', 'sf solar map', '94 stratford drive', '.cad', '1004569', '53mission', 'openbook', '20 jones st', 'public', '\"office of citizen complaints\"', 'basemap street centerlines shapefile', '2013 housing inventory', '158450356 \\\\', 'lobbyist', 'bayview', '311 waitlist', 'berkeley', 'affordable housing', '\"120 lake\"', '1849', 'sanfrancisco', '3 buena vista ave east, sf', 'zip code', 'airport', 'david owen', 'social', '2130 jackson street', '5413 hillside,94530', '1817 jackson', '3rd st bridge', '83 mc allister st, san francisco, ca', 'transit', '2315 clement', '581 market', '1906', '1905', '838 grant ave', '1683 7th avenue', '311 apps', '\"street sweeper\"', 'traffic density', 'injury', 'assessor', 'property information map', '579 teresita blvd.', 'water use', '2015 crime statistics', '614-23040', '2015 elections', '311 dpw', 'parcel owner', 'building permit', 'registered business locations', 'better streets plan', '829 york street', '606 post street', '1917 broderick street', 'dem', '299 fremont street', 'accident at work', '311\\\\', '79 midcrest way', '152102124', 'collision', 'supersonic ads', 'homicide', 'slope tin', '311 data', 'land cover', 'open busienss', '439 duboce ave, 94117', 'maps', '2133 stockton', 'speeding', 'csv', '1698', '2010 census block', 'plant', 'cctv', 'catalog', 'lighting', '2172 pacific avenue', 'gtfs', 'ethics', 'response', 'a', 'bay area land use', 'imagery', '2016 budget', 'city features', 'shore', 'ortho', '355 bocana street', '2a9c-tbjy', '0427372-01-001', '1515 s. van ness', '2014 housing inventory', 'them ky', 'disabled', 'parcel map', '496', '497', 'child care', 'san francisco crime classification', 'census2000', '916 pine street', '701 battery', 'food', 'demographics', '317 leavenworth', 'recreation', '460 subcontractors', 'fb global', 'sweeping', '101 utah street', 'accountant intern', 'bus route', 'property assessment', 'street trees', 'smart meters', '2016 demographics', '542427', 'summary totals', '711 clayton st.', '\"carbon monoxide\"', '\"><script>alert(1)</script>', '\"cindy wu\"', 'house', 'energy', 'pedestrian volume', 'crime incident', 'insurance', '1999reports', '544 castro st', 'alcohol', '\"loma prieta earthquake\"', 'parcel data', '\"general plan\"', 'political contributions', 'fte', 'highway', 'electricity use', 'fiber', 'crime 2015', 'crime 2014', '1gagf ttx', '397761', '46-g', 'uncashed', '337 spurce st san francisco ca', 'sf311', '311 case data', 'job density', '754 moultrie group', '1021981', '2011 pipeline report', '350 mission street', 'access to healthcare', 'preservation', 'accidnets', '.cvs', 'existing commercial', 'stormwater', 'wages', 'san francisco shoreline', 'santa clara', '\"campaign finance dashboard 2015\"', 'temperature', '2015revisedassessorblockmaps', 'san francisco facilities', '2014 map:crime incidents', '\"block group\"', '16exc-1632', '490 sanchez', 'gps', '1207 cole', 'general plan', 'hotel', 'park', '555 minnesota street', \"333 o'farrell st, san francisco, ca 94102\", '311 service request', 'stairs', '152280530', 'grocery', '888-886-6335', '1805 s. van ness', 'youth', '6/19/15', 'marriage', 'census tracts', '911 fire', 'building height', '2096 castro street', '\"miranda nye martin\"', 'pedestrian', '2385 bush st.', 'graffiti', '568 brannan st', 'business certificate', '9050', '2/26/16', 'air quality', '0372909-02-001', 'green space', '\"alain gervais\"', 'bike lanes', 'zipcode', '2124 great hwy', '543 19th ave', 'housing inventory', '1551 pacheco', '\"school zones\"', '46 el sereno court 94127', 'street space', '340 warren drive san francisco, ca', '2310 mason street', '08-192', 'sfpd reported incidents', '400 castro street', '3par', '1 tuscany', 'zip codes', 'youth and seniors', 'salary', 'arson', 'mobile', 'street parking', '\"3015 pacific\"', '239 carl street', 'clean', '2011 pipeline', 'emergency response districts', '9 geneva ave', 'businesses', 'caltrain', '1895 sacramento st', '2134 green street #3 san francisco, ca 94123', 'streetlights', '490 post st', '2650 18th', '21 homestead', 'street segments', '527 42nd ave', 'hiv', '3739221', '2013-12-14-4989s', '1013343', 'trees', '929 oak st.', 'census 2010', 'zoning districts', 'heart disease', 'evicitions', 'lobbyist contributions', '334 harriet st', 'bird', 'activity', '701 golden gate av', '3d', '224 ordway st', 'restaurants', '467401', '\"condo conversion lottery\"', 'bart', 'excavation', 'liquefaction', '\"street segment:', 'cases by channel', '16exc-3031', 'supervisor district', '\"street segment\"', 'migration', '2012 housing inventory', 'contour', '555 4th st', '150847324', 'movie', 'payroll tax exclusion', '846 junipero serra blvd 94127', 'libraries', '150-235-995', '542094', 'bay area cities', \"'></script><script>alert(1)</script>\", '2000 census shapefile', '530 brannan street business lincenses', 'faith organizations', '3755-147', '2211 stockton st', 'drinking water', 'incident', 'foot print', 'existing commercial buildings', '\"historic evaluation\"', 'license', 'restaurant', 'actnet', 'stclines', 'treasure island', '409 illinois', '15exc4954', '3rd street collaborative', 'point', 'recycling', 'accidents gis', 'sweep', 'community', 'eviction', 'church', 'inclusionary housing', '16exc-1871', '83 mc allister st 513, san francisco, ca', 'publishing', 'restaurant score', 'acceptance', '360 somerset st', 'street tree map', 'citations', '689 20th avenue', '3951 mission st.', 'bicycle network', '311 information requests by month', 'maps muni', 'rent board', 'fire', 'dog parks', 'lives', 'find my ban', '6524-032', 'plants', 'vallejo', 'streets san francisco', 'bids contracts', '\"assessment appeals board\"', '311 shelter list', 'neighborhood groups', '2015 election', 'elections', 'housing code violations', '2 bedroom homesale', 'fleet', '2100', '1999 crime', 'active companies', 'analysis neighborhoods', 'health facilities', '152500694', '\"\"health care security ordinance', 'fppc 460', 'ethnicity', '\"cindy wu\" dccc', 'italy', '208 girard', '201 hale street', 'street shapefile', '917 florida', 'development', '1996-2011 city survey database', '13smf-0389', '2013 city survey report', 'elevation data', '2012.0506', 'bikeways', '139 baden', 'cleaning', '\"propterty tax', '1 post', 'high injury', '2695 43rd avenue', '324 arkansas st', '433', 'feces', 'taipei', 'small business', '*incident*', 'traffic', 'spend', '*.gdb', '163 liberty street', '///', '2208 mission street', '270 mcallister street', 'shape', '1951 oak', '\"housing inventory\"', '194415', '1 degree', 'loading', '721 18th avenue', 'contractor', '467290', '32 richland avenue steven holland', 'location', \"'</script><script>alert(1)</script>\", 'violations', 'complaint', 'vendor', 'rental listings', '550 3rd street san francisco ca', '1099', 'secret garden tea house', 'sconnect', 'accident reports', '1999 reports', 'dol ho', '\"harris\"', '2014 pipeline', '1015 geary', '152583535', '1017984', 'sfmta', '384647', 'weiner', 'building footprints', 'sf neighborhoods', '2013 business', '2015 q1', 'litter', '2015 q3', '2015 q4', 'census 2000', 'garage', 'broadband', 'registered_business_locations', 'religion', '1227 guerrero', 'acqua e sapone', '1560 8th ave', 'accessory dwelling', '2012 business', 'accela', '\"no on f\"', '.xlm', 'affordability', '233 san carlos', 'traffic accident', 'green benefit districts', '311 calls mold', '.xls', '311 complaints', 'faith', 'pipeline', '1899 mission', 'dataset inventory', '9937550', 'truck', 'public transportation', 'gujarat', '1230 markert st', 'block', 'pollution', 'resiliency', 'sf blocks', 'pipeline 2015', 'data academy', '8aqr5p6y', 'film location', '267 green street', 'resilience', '2005 pipeline report', 'active employees by union and department', '77 san juan ave', 'spending', 'job titles', 'vendors', '403432', '2004 bicycle network', '94080', 'registered', '.drg', '2015 lobbyist', '\"asthma\"', 'street of san francisco', '420378', 'zika', '478 utah st', '460 forms schedula', '\"height limit\"', 'minutes spent walking or biking', 'dpt_bike_network', 'uber', 'supervisor', '1755 clay st.', 'green connections', 'excavation permits', 'human resources', 'accessibility', 'app showcase', 'curb', '\"tax rates\"', '\"inclusionary housing\"', '1890', '510 folsom', 'parking meters dataset', '143082730', 'polygon', 'employment', '2139', 'property assessors roll', 'income', 'tow zone', '2919 folsom', '163 russ st.', '134814', 'eviction notices', '1612 fulton', '\"data officer\"', 'san francisco crime', 'freeways', '153 college ave', 'red light camera', 'land', '345 williams avenue,', 'age', '2003', '2000', 'parking meter', '1851', '2008', '2009', '353 beach rd, burlingame, ca', '6524/032', '1853', 'sffind neighborhoods', '311 noise', '1480 larkin st', 'highways', 'farms', 'active blocks', 'food truck', '120841196', 'amount of private vehicles', '92463779', 'contours', 'quarterly', '407 jackson st', '429887', 'garden', 'public housing', '953.7', 'facebook', 'acres', 'precinct', 'lobbyist activity', '37.790897,-122.402850', '354 peralta street', '1444 market st', '\"1698 10\"', 'acxiom', 'race', 'restaurant health', '960 howard street', 'obesity', 'inspection', '420 grove', '177 stillman street', '95051', 'abtahi', 'licenses', '311 constituent service', '150-761-451', 'speed limits', 'universities', 'mobile food', 'traffic accidents', '.sid', 'spending and revenue', '100 year storm flood plain', '311 cases', 'access', 'poles', '\"red bull\"', '311 sf data set', '2010 crime', 'bike routes', 'recent graffiti reports', 'bay area general', 'shoreline', '177 stillman st., san francisco, ca', '8300 oceanview terrace, 304, san francisco', '675 naples street', 'abandoned vehicle', 'poverty', '\"department expenditures\"', '90 day cases', 'ferry', '2.01503e+11', 'accessor', '429393', 'orthophoto', 'metro', '31', 'sales tax', 'building heights', '49276', 'survey', '94124 district', 'parking shapefile', 'addresses', '245 san jose', 'api', 'apn', '360 post', 'san francisco', 'high injury corridors', '735 fell street', 'city blocks', '1938', 'zip', '2090 evans avenue', 'address with resident names', 'vehicle', 'hydro', '55 cyril magnin street', 'shape file', 'floodplain', 'rent control', 'benchmark', 'trail', 'historic district', 'train', '53 mission', '\"focus realty\"', 'chapter 20', 'women', 'customer', 'account', '414251', '2015 quarter 3', '2016 assessor map updates', 'accrued', '857 39th ave.', 'abco', 'tax', 'taz', 'open space', '880 franklin', 'sea level', '2015 housing inventory', '\"area median income\"', '\"mary jung\" dccc', 'access to healthcare facilities in san francisco', '2250 powell street]', '40 annapolis terrace, san francisco, ca', 'sidewalks', '2 hour street parking 2999 california street', '90 day', 'commercial building', 'animal', 'chart of cases by channel', 'rent burden', '2449350', '2015 311 budget', '2282 market st', 'buildings', '589 post st, san francisco, ca 94102', 'blocks', '\"floor plan\"', '5 chilton', '94040', 'police district', 'eas addresses', '2400j2251', 'abuse', 'bay outline', 'ethnic', '1453 mission street', '576 natoma st, san francisco, ca', 'tax revenue', '2127', '38 sadowa', 'lines', '114 henry street', '1244 larkin', 'addiction', '2070 latham', '1929 pay', 'new business', 'meter', 'motorcycle', '\"michael yarne\"', '3067 25th street', 'business locations', '650 40th ave', '\"sunshine ordinance task\"', '415 euclid ave', 'grafitti', 'streets of san francisco', 'block lot', '\"homeless shelters\"', '1996-2013 city survey', '2015', '\" ami\" 1990', 'bikeway', '2011', '2010', '2013', '2012', '[socrata] 311test', 'crash', '225 granville', '444 de haro st', '122 farallones st', '1008099', 'blocklot', '1024303', 'outlines', '795 folsom', '849(b)', 'agustin anda', 'university', '\"year built\"', '101 post', 'late contributions', '3490 20th st', '\"grand jury\"', '\"small business\"', '700', '80', 'agriculture', '465639', 'fire stations', '4431 mission st', '5124007', 'entertainment', 'airbnb', 'parking tickets', 'real time', '5413 hillside av.,el cerrito94530', 'ems', '2015 sfo', '2598 mission street', '\"vending machine\"', 'data inventory', '\"1698 10th\"', 'accounts payable', '810 clay street, san francisco, ca', 'road network', 'open parks', '2010 population shapefile', '2009 housing inventory', 'city facilities', '2014 census tracts', 'liquifaction', 'route', '3401 clement st', '31 mullen ave', 'property information', '49ers', '2919-21 folsom st', '10 gb dataset', 'busines', 'retail', 'housing', 'restaurant scores', '\"land use\"', '\"community benefit district\"', '\"ryan white\"', '\\\\cleaning', '*bike_network', '269 joost ave', 'art', '1740 cesar chavez', '1989', '40 jessie street', 'a card', 'san francisco outline', '311', 'household income', 'enforcement', 'adrian santos', 'academy', '186 valley street', 'city limit', '1975 jim jones', '390 diamond street', 'police stations', '223 missouri', 'stock market', '425 market', '2010 map:crime incidents', '3 d buildings', 'bay area counties', 'rent prices', '.shp', 'tracts', '2014', '1578 newhall st. san francisco', '608 haight', 'transit stop', '8553000366', '2015-001144prj', 'map of crime incidents', '2008 crime data', '2012 sfo customer survey', 'fire station', 'parks', '1023138', '3d building model', '1125 17th avenue', 'jail', 'vegetation', 'accuracy', '2016', '5800 3rd st', 'police records', 'parking signs', '3d print', 'sfo', 'census block', 'neighborhood boundaries', 'highschool', 'active contracts', 'realtor', '1131 mission st', 'topographic', '337000', '1374554', 'medical marijuana', 'parking lots', '\"historic preservation\"', '1040 howard st', 'abandoned vehicles', 'sf shoreline and islands', 'dbi', '12b', '311 constituent service request data', 'violation', 'traffic stop', 'vacancy', 'business name', 'planning', 'pacific eye associates', 'mumbai', '124 molimo dr', 'candidates', 'employee', '460 a', '460 g', '460 e', 'dpt bike', 'national parks', '122', '\"place of entertainment\"', '1001363', 'burglary', '460 post street', 'county boundary', 'shp', '17 silverview drive', '2020 ellis st', 'bay trail', 'evictions', '2004 rents', '94041', 'watershed', '\"homeless\"', 'police incidents', '1155 folsom st', 'address point', 'accepted', 'building footprint', 'sfpd districts', '610 page street', 'crime san francisco', 'acces to private vehicles san fran 2014', 'building footprint shapefile', '140820227', '311 incidents', 'tennenbaum', 'basemap street centerlines', '3314 steiner st', 'public schools', '1 rincon', '13898090', 'academy of art', '3024 mission st', 'parking meters', 'grafiti', 'job', '149 fell', 'key', '2400j', '\"burns', '1693 7th avenue', 'hydrology', 'limits', '425 market street', 'drug', '350 mission', 'bed bug', '94112', '1445 lombard', 'bicycle parking', '\"street light\"', 'canopy', '153 arkansas', '94110', '2761 bryant', '255 king stree', '2011 mayor campaign contributions', '601 california', '15 arguello', 'aaron peskin', 'oakland', 'public school', 'police districts', '460 cover', 'discrimination', 'traffic light', 'street evaluation', 'json', '732', 'restaurant inspection', 'accessory dwelling units', '1899', 'waste', '465', '333 lake street', '460', '933 treat', '*.shp', 'street intersections', 'smoking', 'volunteer', 'criminal', 'abandoned', 'movie locations', '560 mission street', '10 glendale street', 'sweeper scheduled', 'access to private vehicles san fran 2014', '933 treat ave', '1010 fitzgerald ave, san francisco, ca', 'avl', '3008 18th street', '112 yukon', '2016 budget publication', '90033', 'sales per restaurant', '1 longview court', '554 irving street, san francisco', 'bus stops', '2013 crime', 'data catalog', '225-33050', 'address locator', '631 cole st', '690 folsom street', 'paving', '18 latona st', 'lobby', '94116 restaurant', 'diabetes', '//', 'street light', 'indonesia', 'business registration', '311 calls', '469249', '460 schedule e', '20th ave permit', '361 3rd ave', 'clinic', '\"sea level rise\"', 'adu', 'density', 'residential', 'demographic', 'bench', 'arrest', '2015 residential development pipeline', 'ada', 'aerial', '911 response', 'seismic hazard zones', 'active business registration', 'fire inspections', '\"propterty tax\"', 'historic', '\"gas leak\"', '265', 'intersection', '14186571', 'health score', 'miami', '177 stillman', 'popos', '\"code for ameria\"', '\"continental appliance\"', '2015 neighborhood profiles', '501 franconia', '2251', '177 stillman street report', '474163', '1002155', '3800 16th street san francisco, ca', 'address to geographic location', '5155', 'library', '\"load bearing capacity\"', 'active companies list', 'home', 'ballot', '150857674', 'city lots', 'salaries', 'footprints', 'total housing units', 'zoning 2008', 'intersections', '1600 california street', '466853', '3241201', 'noise', 'crp/cypress market', 'foodtruck', 'census tract', '2919 mission street', 'employee compensation', 'air traffic', 'additional street space', 'counties', 'consumerism', 'city properties', 'actual', 'registered businesses', '\"general plan\" \"land use\"', '\"treasure island music festival\" ferry', 'wind monitoring', '\"karen lum\"', 'registered business location', 'tenderloin', 'weather', 'business owner', 'roads', '460 contractors', 'accrued expenses', '2014 city serve report', '177 stillman street, san francisco, ca', 'museum', '*', 'buisness', 'lidar', 'accountant', '2011 herrera campaign contributions', 'mobile food facility', '132a lexington', 'street names', 'certificate', 'bus', 'accounting, purchasing, eis', '311 budget', 'volume', '94536', 'construction', 'eas', 'count', '2004 food vendors', '2713 diamond', '282 harbor rd san francsico, ca 94124', 'stories', 'accidenta', '2010 sf', '50 main street, san francisco', '150327887', '\"john ortiz\"', '130058911', 'mission bay', '258 9 th st', '2015 enacted budget', 'accenture', 'education', '158 maynard', '460 schedule g', 'bikeway network', '44', '460 schedule a', '/sfpd-incidents-2013', 'assesment', 'sf outline', '44 samoset st', '\"continental electric\"', 'street use permits', 'address book', '376 ellis street', '240 2nd', '550 van ness', '200 hazelwood ave', 'bay area', '387 ellis street, san francisco, ca', 'sf movies', 'post office', 'accidents', 'gardens']\n"
=======
      "[u'220 30th ave', u'active business locations', u'traffic counts', u'lyft driver', u'*.dpt_bike_network', u'traffic calming', u'facilities', u'crime rate', u'building permits', u'1746 church street, san francisco 94131', u'right of way', u'\"basemap street centerlines', u'pipeline q2 2015', u'sf shoreline', u'election results', u'electricity', u'311 county', u'sffd', u'bike', u'external datasets', u'311 human', u'geology', u'800 detroit', u'2014 crimes', u'tickets', u'560 davis st san francisco', u'school', u'zipcodes', u'2649 polk s', u'house income', u\"'<script>alert(1)</script>\", u'1235 bay', u'573 andover street', u'census block group', u'case data from san francisco 311', u'bicycle', u'1070 capitol', u'presidio', u'25282', u'sfpd incident', u'budget', u'272', u'street', u'1485 bayshore', u'301 baltimore way', u'abandoned vehcihles', u'311 explorer', u'lights', u'moratorium', u'public library', u'8204', u'2014 development', u'3 rudden avenue sf ca', u'sfusd', u'hill grade', u'four days', u'sfpd', u'payroll', u'106 grand view', u'parks shapefile', u'china', u'2014 election', u'2014 housing', u'100', u'101', u'art galleries', u'460 d', u'4610 mission street', u'census shapefile', u'employees', u'123 retiro way', u'museums', u'payroll clerk', u'permit', u'15sf036', u'111 minna', u'human rights', u'topography', u'campaign', u'460 - schedule a', u'precincts', u'county', u'counts', u'lobbyist contribution', u'64 perine place, sf', u'open businesses', u'hospital', u'\"clipper cove beach\"', u'94158', u'business certificates', u'traffic control signal', u'assessment', u'\"citywide performance measurement\"', u'3067 25th street san francisco ca 94110', u'\"wind monitoring\"', u'766 vallejo', u'phone', u'39th avenue', u'0355/004', u'469 union st', u'2466 francisco', u'9/1/01', u'1990', u'1992', u'permits', u'\"2721 diamond\"', u'tenderloin housing clinic', u'pot hole', u'movies', u'tnc', u'exceptions', u'1009-', u'\"fire inspection\"', u'golden gate larkin', u'police station', u'381216', u'household', u'400 castro soul cycle', u'cases by neighborhood', u'1931 35th ave san francisco, ca 94116', u'\"health code\"', u'\"sfmta route\"', u'shapefile', u'geojson', u'574 escuela', u'530 brannan street', u'301 king st', u'beach', u'restaurant inspections', u'\"code for america\"', u'homelessness', u'511', u'600 van ness', u'353853', u'\"><img src=x onerror=alert(document.domain)>', u'community resiliency', u'94070', u'business registration certificate', u'aaron peskin payment received', u'240 2nd street', u'active block lots', u'employee salaries', u'1050 sansome st', u'2010 census', u'2945 baker st apt 5', u'green', u'street tree list', u'ambulance', u'300 seacliff', u'homeless shelters', u'wind', u'street sweeping', u'pothole', u'dpt bike network', u'337 spurce street', u'40414', u'.dwg', u'727954', u'\"sharper focus\"', u'planning districts', u'transit stops', u'533 oak', u'406', u'403', u'400', u'\"public library\"', u'15564537', u'coffee', u'542 brannan', u'tourist', u'1480 larkin', u'\"vacant parcel\"', u'255 17th', u'zoning', u'151104052', u'form 460', u'701 teresita san francisco, ca', u'schools', u'tourism', u'food hygiene', u'bank', u'77116', u'lives restaurant inspection', u'258 9th st', u'population density', u'fitness', u'\"one way\"', u'open business', u'94108', u'\"san francisco general plan\"', u'address shapefile', u'620 branna', u'dumping', u'crimes', u'five year plan', u'1660 stockton at', u'152233830', u'6538/038', u'private schools', u'adapt', u'smf', u'accessible', u'2015 budget information', u'incident arson', u'1 tuscany alley', u'141 eddy street', u'\"expenditures by department\"', u'inspection food', u'160080008', u'445 kirkham', u'public art', u'665 pine st', u'600 fell st.', u'basemap', u'benchmarking', u'bus routes', u'appeals', u'accent', u'15exc4667', u'311 case', u'\"basemap street centerlines\"', u'67 silverview drive', u'1952 larkin', u'basketball', u'soil types', u'525 29th st', u'service', u'ed lee contributions', u'161570631', u'tow', u'heights', u'10b', u'20200480', u'aaron peskin summary totals 2015', u'recent', u'murder', u'city-block level weather', u'business address', u'sanfrancisco.gdb', u'motorcycle parking', u'1020749', u'545-00500', u'.json', u'tree', u'453 masonic st', u'san francisco shapefile', u'13 melrose ave', u'expa', u'planning commission president', u'1230 market st', u'bridge', u'3d building models', u'106 powell street', u'\"green\"', u'1970', u'\"population', u'1013117', u'709 geary st', u'1041 alabama', u'278 states street', u'882 31st ave', u'senior center', u'27 isis', u'311 data set', u'1br 2br', u'2346-014', u'landmark', u'germany', u'430 lake st', u'855 folsom', u'neighborhoods', u'dog', u'1992 map', u'freeway', u'abbrev', u'envista', u'41 genebern way, sf', u'24 shotwell', u'331 jersey st parcel map', u'consumer', u'street sweep', u'city boundary', u'177 stillman st', u'off street parking', u'operate business', u'business account number', u'5 hudson ct, san francisco, ca 94124', u'fire department', u'8714', u'\"dog owners\"', u'1952 larkin street', u'accident death', u'\"community benefit districts\"', u'san francisco streets', u'asbestos', u'b6tj-gt35', u'235 presidio avenue', u'coast', u'292 douglass', u'9/11/15', u'\"single room occupancy\"', u'park lands', u'certified payroll', u'14243059', u'bay', u'160 swiss avenue', u'415', u'410', u'\"places of entertainment\"', u'ban', u'1 hour parking', u'3d building', u'liquor', u'2160 stockton', u'127 san jose ave', u'453234', u'1611fulton', u'lots', u'\"natural gas\"', u'324 arkansas', u'1415 scott street', u'compensation', u'\"sea level\"', u'2015 pipeline', u'2386j', u'1980 block', u'469217', u'crime incidents', u'1155 folsom at', u'abuon', u'census 2000 blocks', u'49 south park st', u'360 somerset street', u'6621 california', u'medallion', u'663 haight street', u'2912 19th ave', u'climate', u'accident', u'excrement', u'fault', u'food inspection', u'\"floor area\"', u'san francisco gis', u'aba therapy facilities', u'\"shelters\"', u'job open', u'1017361-01-151', u'height', u'active', u'sfmta bikeway network', u'1450 green st', u'accidents pedestrian', u'conference', u'crime rates', u'311 call metrics', u'1158 noe street', u'311 service ordes', u'stadium', u'\"traffic analysis\"', u'911 call', u'544 castro', u'1880 filbert', u'911 calls', u'150241102', u'150765130', u'\"cancer\"', u'child', u'906', u'311case', u'162', u'san-francisco-parking-meters-map-and-dataset', u'air', u'reviews', u'bike parking', u'26 eagle street', u'land value', u'property', u'cnn changes', u'131 franklin street', u'soils', u'accidence', u'calls for service', u'seattle', u'pbc code', u'311 call', u'emergency', u'abandoned building', u'2346 lot 20', u'1819', u'655 natoma', u'bike shapefile', u'inventory', u'6228', u'6621', u'405 valencia', u'4058 17th st', u'published', u'rail', u'workforce', u'rain', u'topo', u'public works', u'7332', u'median income', u'acoustics', u'1975', u'aaron peskin campaign finance summary totals 2015', u'\"city', u'ocean', u'traffic signals', u'abandoned properties', u'8854', u'unemployment', u'photo', u'2014 energy benchmark 285 geary', u'bike network', u'1428 jackson st', u'\"payday advance\"', u'\"2713 diamond\"', u'advisories', u'prison', u'855 folsom st, san francisco', u'hakam abdel fattah', u'364472', u'2 hour parking', u'elevation', u'municipal', u'1012986', u'301 claremont blvd', u'\"residential permit\"', u'3465 25th st', u'\"lines\"', u'2011 pipeline q2', u'108 ellsworth', u'acident', u'1996-2013 sf city survey', u'pavement', u'farmers markets', u'groundwater', u'3d model', u'384358', u'2004 bike network', u'285 geary st energy audit', u'2010 us census data', u'100 year flood plain', u'sfpark', u'3440 broderick street', u'20 jones', u'meters', u'election', u'census 2000 tracts', u'crime shapefile', u'business closing', u'444 townsend', u'\"property tax\"', u'2015 budget', u'absconders', u'creative', u'filming', u'5 thomas mellon circle', u'cnn', u'nail salon', u'418 jessie st', u'addresse', u'business permits', u'?debug=true', u'census', u'city owned facilities', u'\"treasure island music festival\"', u'2919 folsom st', u'2901 sacramento st', u'1834 grant', u'employment rate', u'schedule e', u'14080248', u'460e', u'schedule a', u'460a', u'\"parking tax\"', u'coastal', u'bay area - general', u'460s', u'gis', u'119 taraval', u'padmapper', u'altitude', u'legislation', u'\"burt herman\"', u'{searchterms}', u'open spaces', u'679 page street', u'\"heat wave\"', u'sfshore', u'222 sasome', u'\"small businesses\"', u'1990-', u'film locations in san francisco', u'71 ford st', u'wireless', u'374 5th street san francisco', u'solar', u'*.*', u'\"campaign finance\"', u'census blocks', u'1080 eddy', u'realtor_neighborhoods', u'2015 q2', u'1004458', u'2010 census tracts', u'city survey', u'passenger', u'427372', u'200 6th st', u'active business', u'household size', u'277 columbus ave', u'8300 oceanview terrace, 304,', u'potholes', u'city auto supply', u'house sales', u'2190 lombard st, san francisco, ca', u'(415) 824-1602', u'cycling', u'9 county boundary', u'1427 11th ave', u'315 28th avenue', u'\"urban density\"', u'flood', u'leed', u'open spaces - city planning', u'test', u'roll', u'energy audit', u'\"school zone\"', u'market street', u'2015 q4 pipeline', u'supervisorial', u'1865 4th st, san francisco', u\"hunter's point\", u'\"campaign finance - fppc\"', u'40 genebern way, sf', u'94103', u'94102', u'94104', u'94107', u'pet', u'460 summary', u'parcels', u'750 sutter st, san francisco, ca 94109', u'accesor', u'466 9th avenue', u'83932', u'recidivism', u'1700 newhall street', u'row', u'425 market street energy', u'suicide', u'property assessment roll', u'2208 mission street,', u'zone', u'1416 polk street', u'environment', u'bicycles', u'sfpd incidents', u'100 e grand', u'short term', u'445 anderson', u'450 golden gate', u'5413 hillside av.,el cerrito,ca. 9453094530', u'sfopenbook', u'729 shotwell st', u'\"build out\"', u'322 30th ave', u'163 ney st', u'aaron peskin gift', u'\"green infrastructure\"', u'campaign finance', u'mobile food truck', u'63 woodland', u'1630 30th avenue', u'.csv', u'959 noe street', u'gun', u'1999', u'60 agua way', u'14315714', u'subway', u'real estate', u'san francisco shore', u'sidewalk', u'94121', u'68 cervantes blvd', u'shoreline shapefile', u'travel time', u'form 700', u'trails', u'1231 20th ave, san francisco', u'cost', u'accountalent', u'street centerline', u'port', u'1008785', u'560 brannan', u'abdullah', u'1798 grove street', u'geography', u'1225 17th avenue', u'transportation', u'2016 pipeline', u'2385 bush street', u'\"height', u'inclusionary', u'digital elevation map', u'water', u'037290902-001', u'address', u'earthquake', u'124 molimo', u'3247 reserve ct, san jose, ca', u'business number', u'parcel zoning', u'311 syringe', u'372909', u'308 font blvd', u'coastal zone', u'planning neighborhoods', u'2014 tiger', u'158 maynarad st', u'5252 mission street', u'aadt', u'2015 form 460; schedule g', u'559 miramar', u'hotels', u'38432250', u'766 vallejo street', u'sports', u'films', u'plan areas', u'1038 jackson', u'solar map', u'parking ticket', u'425 market energy', u'street center lines', u'sf solar', u'on street parking', u'923 goettingen', u'cases', u'35 brosnan', u'active nodes', u'car', u'abortion', u'districts', u'2016 feb 26 arrests in bay view', u'business licenses', u'incidents', u'minutes spent walking', u'san francisco boundary', u'cab', u'2013 census shapefile', u'cad', u'\"historic zoning districts\"', u'lobbying', u'neighborhood group', u'2 casa way', u'2010 tract population', u'2016 assessor map', u'140273353', u'\"cable car\"', u'311 dpw complaints', u'1365 noriega street', u'active employee', u'secured', u'business license', u'secured property', u'\"120 lake street\"', u'high school', u'06/19/2015 dashiell hammet', u'development pipeline', u'economy', u'map', u'1008809', u'140878', u'accessory', u'\"methane leak\"', u'sffilms', u'date', u'data', u'3/1/01', u'bristol farms', u'vendor payments', u'outline', u'food trucks', u'100 church', u'.dxf', u'75 dore street', u'\"dog parks\"', u'-122.407829844146 37.7826402567843', u'accidenas', u'460 forms schedul a', u'126', u'2010 sfo', u'pipeline 2014', u'nlcd', u'civic art', u'walking and cycling', u'136 arlington street', u'94118', u'police', u'700 madrid', u'1163 geneva', u'94111', u'94116', u'94117', u'94114', u'94115', u'1051 grant ave, sf', u'2325 pine street', u'sf shore', u'3d public art', u'dpw', u'2 plus 2 bookeeping', u'finance', u'\"cbd\"', u'\\\\', u'accomodation', u'\"curtis dunn\"', u'149 julian', u'parking restrictions', u'838 detroit street', u'\"health care security ordinance\"', u'street cleaning', u'maher', u'17 san andreas way, san francisco, ca', u'812 guerrero street', u'campaign finance 410', u'94040', u'2004 bicyclenetwork', u'2011 herrera mayor campaign contributions', u'fires', u'\"employee compensation\"', u'year', u'parking permit', u'tickets parking', u'a-cards', u'155 arbor st', u'2240 market street', u'case data', u'community gardens', u'1385 carroll ave', u'\"></script><script>alert(1)</script>', u'entitlements', u'centerline', u'sensor', u'curbs', u'cars', u'sf.data.gov', u'3710017', u'open business locations', u'3953 24th street', u'accommodation', u'sea level rise', u'language', u'curb ramp', u'1485 haight', u'registered business locations - san francisco', u'331 jersey st', u'462 douglass sr', u'8720', u'345 spear st', u'school district', u'462 douglass st', u'1016406', u'acco', u'streets of', u'revenue', u'\"loading zone\"', u'311 street and sidewalk service orders', u'lyft', u'\"harris corporation\"', u'1 scott street', u'open', u'molly saeger', u'1000 howard st', u'active streets', u'160423641', u'1698 10th', u'district', u'lobbyists', u'streetlight', u' proportion that is rent controlled or affordable', u'80.004 employee compensation report', u'food inspections', u'access to private vehicles', u'terrain', u'1358 28th avenue, san francisco, ca', u'public toilet', u'</script><script>alert(1)</script>', u'population', u'open spaces  city planning', u'port jurisdiction', u'open spaces city planning', u'1242 lombard', u'landuse', u'15421808', u'1010388', u'marijuana', u'66185', u'rent', u'\"bonaguro\"', u'3139 mission street', u'active businesses', u'census 2000 blocks (no water)', u'637 powell', u'\"sfo customer survey data set dictionary\"', u'3-1-1 reports', u'309953', u'1013914', u'146 galewood circle', u'film locations', u'performance', u'545 sutter street, san francisco', u'domestic violence', u'415-701-5493', u'200', u'price', u'1443 46th ave', u'tract', u'complaints', u'431379', u'hurley', u'sale', u'311\"', u'1004301', u'citations parking', u'\"taxi\"', u'aaron apperson', u'slope', u'parking citation', u'\"public housing\"', u'153280173', u'bike lane', u'337 spurce streeet', u'\"urban agriculture\"', u'2021 baker st.', u'1996-2013 city survey data', u'199 new montgomery', u'\"category a\"', u'housing facts', u'654 46th avenue', u'310274', u'crime', u'bay area building', u'telecom', u'supervisor districts', u'\"potrero hill\"', u'999 brannan', u'public space', u'601 laguna street 94102', u'crime map', u'muni', u'street sweeper', u'contracts', u'5296/019', u'94127', u'94124', u'94123', u'94122', u'177 stillman st. sf', u'housing prices', u'boundary', u'2631 23rd', u'338 fillmore', u'20th ave', u'700 steiner', u'2282 market street', u'summary', u'43 ruth street, san francisco', u'3725019', u'2008 vallejo', u'building data', u'956 clayton', u'203 cotter st', u'climate and health', u'traffic count', u'111 ellis street', u'2005 housing inventory', u'1455 custer street', u'college', u'355888', u'parking', u'sport', u'929 oak st., sf, ca 94117', u'mortgage', u'parking street', u'streets shapefile', u'city property', u'701 minnesota street', u'boundaries', u'74 6th street', u'affordable', u'jobs', u'2951 bush', u'66416030', u'cities', u'2079 15th avenue', u'14212896', u'\"vehicle maintenance\"', u'contract', u'50 1', u'1439 16th ave', u\"'housing inventory'\", u'counter culture artist management', u'street permit', u'credit card', u'960 howard', u'state senate', u'cancer', u'460 post street business search', u'poo', u'pole', u'grants', u'460 schedule', u'825 brotherhood', u'traffic volume', u'turkey', u'1600 fell street', u'\"address locator\"', u'allcnnsinorder', u'450 sutter', u'375 bush street', u'1188 harrison street', u'public safety', u'1 post st', u'academic performance index', u'83 mcallister st, san francisco', u'333 market street energy', u'pci', u'health inspection', u'abondoned properties', u'1008 santiago street, san francisco, ca', u'345 williams avenue, san francisco', u'516 ellis', u'sound', u'disabled parking', u'street map', u'grocery stores', u'chinatown', u'resturant', u'\\\\restaurant', u'landslide', u'low income', u'2911 16th st police', u'447 broadway street', u'soil', u'1801 silliman st', u'sfmta bikeway', u'1660 stockton street', u'175 ney street', u'technology', u'planning applications', u'expenditures', u'2016 crime', u'333 market street', u'1801 hayes', u'2013 quarter 3', u'property value', u'events', u'150824861', u'3333 california street', u'20 roussea street', u'sweeper', u'oil', u'2243 32nd avenue', u'tree canopy', u'2015-000517env', u'block group', u'footprint', u'business registry', u'drain', u'311 service orders', u'vacant', u'\"condo conversion\"', u'49 christopher dr, san francisco, ca', u'planning cases', u'1951 oak st', u'\"personal property\"', u'\"green zone\"', u'\"general plan land use\"', u'census 2000 tracts (no water)', u'1709 broderick street', u'taxi', u'211', u'address range', u'1175 clayton', u'base map', u'restrooms', u'1188 harrrison street', u'new businesses', u'registered business map', u'speed', u'2828 sloat', u'accepted streets', u'158450356', u'rental', u'centerlines', u'460 forms', u'314315', u'460 dwight street', u'732 brannan', u'488678', u'fire station locations', u'450443', u'railroad', u'\"communication infrastructure corporation\"', u'1420 5th ave., san francisco, ca', u'\"historic zoning\"', u'water shapefile', u'\"population density\"', u'\"affordable housing\"', u'\"load capacity\"', u'112 7th street', u'555 market street', u'a shooting at 30th and mission last nigth', u'homicides', u'\"fire incidents\"', u'apartments', u'physical contours', u'street use', u'94130', u'curb ramps', u'94132', u'1gagf', u'94134', u'62 linden avenue, san bruno, ca', u'parking citations', u'filming locations', u'mental health', u'\"assessor parcel database\"', u'ellis', u'1850', u'citylots', u'kml', u'2000 census', u'stops', u'cannabis', u'94102 geojson', u'1231 market st', u'community benefit', u'911', u'dispensary', u'business', u'442 holloway ave., sf', u'2609', u'372 point lobos ave', u'2000 census tract shapefile', u'386909', u'parking census', u'679 san jose san francisco', u'470777', u'address points', u'sro', u'647f', u'street center line', u'2577 1/2 post street', u'city land', u'property info', u'road', u'gps data', u'100 church street', u'homeless', u'1698 10', u'ac transit', u'water bodies in san francisco', u'hazards', u'2 crestline dr.', u'human waste', u'lot', u'drains', u\"'><script>alert(1)</script>\", u'building inspection', u'15exc-3156', u'active contracts', u'1025 post', u'200 market', u'cases by channel chart', u'shapefiles', u'235 pine', u'on-street parking meters', u'assembly districts', u'business registrations', u'1028921', u'2014 q4 planning pipeline', u'300 sea cliff', u'nightlife', u'accidants', u'street lights', u'\"75 surrey\"', u'toilet', u'crime data', u'ad', u'cbd', u'citation', u'sales', u'285 geary st', u'hospitals', u'inspections', u'film', u'map of crimes incidents', u'1 market', u'land use', u'1445', u'trash', u'registered business', u'poop', u'2004', u'shelter', u'461', u'crime maps', u'\"vacant lot\"', u'year built', u'basil thai', u'470 lake st.', u'484', u'building', u'acs demographic', u'72 hour parking restriction', u'wifi', u'42 jules avenue', u'sewer', u'adam', u'bay area zip codes', u'317 oak park dr', u'5 day water related', u'property taxes', u'colleges', u'256 fowler ave.', u'abortions', u'street closures', u'civic art collection', u'\"secured property assessment\"', u'1144 alabama', u'400 duboce street', u'commute', u'2010 population', u'pedestrian safety', u'201 connecticut', u'619 union street', u'511 traffic', u'religious', u'children', u'apns for port of sf', u'alcatraz', u'23792000', u'956 madrid', u'\"karen lum', u'census2000_blk_nowater', u'.pmf', u'crypto*', u'fire incidents', u'aaron', u'hotels and apartments', u'health', u'nodes', u'3864 23rd street', u'eas address', u'bike path', u'parcel', u'ozone thai', u'health care facilities', u'accessory dwelling unit', u'published data', u'water bodies', u'ticket', u'address locater', u'5300 3rd street', u'park score', u'police plot', u'\"propterty tax rate\"', u'501c3', u'pbc', u'460 forms schedule a', u'abandoned waste', u'400 duboce', u'street centerlines', u'neighborhood', u'truck routes', u'15599895', u'housing violations', u'streets', u'bicycle collision', u'3864 23rd street ban', u'sud', u'311 service requests', u'sf solar map', u'94 stratford drive', u'.cad', u'1004569', u'53mission', u'openbook', u'20 jones st', u'public', u'\"office of citizen complaints\"', u'basemap street centerlines shapefile', u'2013 housing inventory', u'158450356 \\\\', u'lobbyist', u'bayview', u'311 waitlist', u'berkeley', u'affordable housing', u'\"120 lake\"', u'1849', u'sanfrancisco', u'3 buena vista ave east, sf', u'zip code', u'airport', u'david owen', u'social', u'2130 jackson street', u'5413 hillside,94530', u'1817 jackson', u'3rd st bridge', u'83 mc allister st, san francisco, ca', u'transit', u'2315 clement', u'581 market', u'1906', u'1905', u'838 grant ave', u'1683 7th avenue', u'311 apps', u'\"street sweeper\"', u'traffic density', u'injury', u'assessor', u'property information map', u'579 teresita blvd.', u'water use', u'2015 crime statistics', u'614-23040', u'2015 elections', u'311 dpw', u'parcel owner', u'building permit', u'registered business locations', u'better streets plan', u'829 york street', u'606 post street', u'1917 broderick street', u'dem', u'299 fremont street', u'accident at work', u'311\\\\', u'79 midcrest way', u'152102124', u'collision', u'supersonic ads', u'homicide', u'slope tin', u'311 data', u'land cover', u'open busienss', u'439 duboce ave, 94117', u'maps', u'2133 stockton', u'speeding', u'csv', u'1698', u'2010 census block', u'plant', u'cctv', u'catalog', u'lighting', u'2172 pacific avenue', u'gtfs', u'ethics', u'response', u'a', u'bay area land use', u'imagery', u'2016 budget', u'city features', u'shore', u'ortho', u'355 bocana street', u'2a9c-tbjy', u'0427372-01-001', u'1515 s. van ness', u'2014 housing inventory', u'them ky', u'disabled', u'parcel map', u'496', u'497', u'child care', u'san francisco crime classification', u'census2000', u'916 pine street', u'701 battery', u'food', u'demographics', u'317 leavenworth', u'recreation', u'460 subcontractors', u'fb global', u'sweeping', u'101 utah street', u'accountant intern', u'bus route', u'property assessment', u'street trees', u'smart meters', u'2016 demographics', u'542427', u'summary totals', u'711 clayton st.', u'\"carbon monoxide\"', u'\"><script>alert(1)</script>', u'\"cindy wu\"', u'house', u'energy', u'pedestrian volume', u'crime incident', u'insurance', u'1999reports', u'544 castro st', u'alcohol', u'\"loma prieta earthquake\"', u'parcel data', u'\"general plan\"', u'political contributions', u'fte', u'highway', u'electricity use', u'fiber', u'crime 2015', u'crime 2014', u'1gagf ttx', u'397761', u'46-g', u'uncashed', u'337 spurce st san francisco ca', u'sf311', u'311 case data', u'job density', u'754 moultrie group', u'1021981', u'2011 pipeline report', u'350 mission street', u'access to healthcare', u'preservation', u'accidnets', u'.cvs', u'existing commercial', u'stormwater', u'wages', u'san francisco shoreline', u'santa clara', u'\"campaign finance dashboard 2015\"', u'temperature', u'2015revisedassessorblockmaps', u'san francisco facilities', u'2014 map:crime incidents', u'\"block group\"', u'16exc-1632', u'490 sanchez', u'gps', u'1207 cole', u'general plan', u'hotel', u'park', u'555 minnesota street', u\"333 o'farrell st, san francisco, ca 94102\", u'311 service request', u'stairs', u'152280530', u'grocery', u'888-886-6335', u'1805 s. van ness', u'youth', u'6/19/15', u'marriage', u'census tracts', u'911 fire', u'building height', u'2096 castro street', u'\"miranda nye martin\"', u'pedestrian', u'2385 bush st.', u'graffiti', u'568 brannan st', u'business certificate', u'9050', u'2/26/16', u'air quality', u'0372909-02-001', u'green space', u'\"alain gervais\"', u'bike lanes', u'zipcode', u'2124 great hwy', u'543 19th ave', u'housing inventory', u'1551 pacheco', u'\"school zones\"', u'46 el sereno court 94127', u'street space', u'340 warren drive san francisco, ca', u'2310 mason street', u'08-192', u'sfpd reported incidents', u'400 castro street', u'3par', u'1 tuscany', u'zip codes', u'youth and seniors', u'salary', u'arson', u'mobile', u'street parking', u'\"3015 pacific\"', u'239 carl street', u'clean', u'2011 pipeline', u'emergency response districts', u'9 geneva ave', u'businesses', u'caltrain', u'1895 sacramento st', u'2134 green street #3 san francisco, ca 94123', u'streetlights', u'490 post st', u'2650 18th', u'21 homestead', u'street segments', u'527 42nd ave', u'hiv', u'3739221', u'2013-12-14-4989s', u'1013343', u'trees', u'929 oak st.', u'census 2010', u'zoning districts', u'heart disease', u'evicitions', u'lobbyist contributions', u'334 harriet st', u'bird', u'activity', u'701 golden gate av', u'3d', u'224 ordway st', u'restaurants', u'467401', u'\"condo conversion lottery\"', u'bart', u'excavation', u'liquefaction', u'\"street segment:', u'cases by channel', u'16exc-3031', u'supervisor district', u'\"street segment\"', u'migration', u'2012 housing inventory', u'contour', u'555 4th st', u'150847324', u'movie', u'payroll tax exclusion', u'846 junipero serra blvd 94127', u'libraries', u'150-235-995', u'542094', u'bay area cities', u\"'></script><script>alert(1)</script>\", u'2000 census shapefile', u'530 brannan street business lincenses', u'faith organizations', u'3755-147', u'2211 stockton st', u'drinking water', u'incident', u'foot print', u'existing commercial buildings', u'\"historic evaluation\"', u'license', u'restaurant', u'actnet', u'stclines', u'treasure island', u'409 illinois', u'15exc4954', u'3rd street collaborative', u'point', u'recycling', u'accidents gis', u'sweep', u'community', u'eviction', u'church', u'inclusionary housing', u'16exc-1871', u'83 mc allister st 513, san francisco, ca', u'publishing', u'restaurant score', u'acceptance', u'360 somerset st', u'street tree map', u'citations', u'689 20th avenue', u'3951 mission st.', u'bicycle network', u'311 information requests by month', u'maps muni', u'rent board', u'fire', u'dog parks', u'lives', u'find my ban', u'6524-032', u'plants', u'vallejo', u'streets san francisco', u'bids contracts', u'\"assessment appeals board\"', u'311 shelter list', u'neighborhood groups', u'2015 election', u'elections', u'housing code violations', u'2 bedroom homesale', u'fleet', u'2100', u'1999 crime', u'active companies', u'analysis neighborhoods', u'health facilities', u'152500694', u'\"\"health care security ordinance', u'fppc 460', u'ethnicity', u'\"cindy wu\" dccc', u'italy', u'208 girard', u'201 hale street', u'street shapefile', u'917 florida', u'development', u'1996-2011 city survey database', u'13smf-0389', u'2013 city survey report', u'elevation data', u'2012.0506', u'bikeways', u'139 baden', u'cleaning', u'\"propterty tax', u'1 post', u'high injury', u'2695 43rd avenue', u'324 arkansas st', u'433', u'feces', u'taipei', u'small business', u'*incident*', u'traffic', u'spend', u'*.gdb', u'163 liberty street', u'///', u'2208 mission street', u'270 mcallister street', u'shape', u'1951 oak', u'\"housing inventory\"', u'194415', u'1 degree', u'loading', u'721 18th avenue', u'contractor', u'467290', u'32 richland avenue steven holland', u'location', u\"'</script><script>alert(1)</script>\", u'violations', u'complaint', u'vendor', u'rental listings', u'550 3rd street san francisco ca', u'1099', u'secret garden tea house', u'sconnect', u'accident reports', u'1999 reports', u'dol ho', u'\"harris\"', u'2014 pipeline', u'1015 geary', u'152583535', u'1017984', u'sfmta', u'384647', u'weiner', u'building footprints', u'sf neighborhoods', u'2013 business', u'2015 q1', u'litter', u'2015 q3', u'2015 q4', u'census 2000', u'garage', u'broadband', u'registered_business_locations', u'religion', u'1227 guerrero', u'acqua e sapone', u'1560 8th ave', u'accessory dwelling', u'2012 business', u'accela', u'\"no on f\"', u'.xlm', u'affordability', u'233 san carlos', u'traffic accident', u'green benefit districts', u'311 calls mold', u'.xls', u'311 complaints', u'faith', u'pipeline', u'1899 mission', u'dataset inventory', u'9937550', u'truck', u'public transportation', u'gujarat', u'1230 markert st', u'block', u'pollution', u'resiliency', u'sf blocks', u'pipeline 2015', u'data academy', u'8aqr5p6y', u'film location', u'267 green street', u'resilience', u'2005 pipeline report', u'active employees by union and department', u'77 san juan ave', u'spending', u'job titles', u'vendors', u'403432', u'2004 bicycle network', u'94080', u'registered', u'.drg', u'2015 lobbyist', u'\"asthma\"', u'street of san francisco', u'420378', u'zika', u'478 utah st', u'460 forms schedula', u'\"height limit\"', u'minutes spent walking or biking', u'dpt_bike_network', u'uber', u'supervisor', u'1755 clay st.', u'green connections', u'excavation permits', u'human resources', u'accessibility', u'app showcase', u'curb', u'\"tax rates\"', u'\"inclusionary housing\"', u'1890', u'510 folsom', u'parking meters dataset', u'143082730', u'polygon', u'employment', u'2139', u'property assessors roll', u'income', u'tow zone', u'2919 folsom', u'163 russ st.', u'134814', u'eviction notices', u'1612 fulton', u'\"data officer\"', u'san francisco crime', u'freeways', u'153 college ave', u'red light camera', u'land', u'345 williams avenue,', u'age', u'2003', u'2000', u'parking meter', u'1851', u'2008', u'2009', u'353 beach rd, burlingame, ca', u'6524/032', u'1853', u'sffind neighborhoods', u'311 noise', u'1480 larkin st', u'highways', u'farms', u'active blocks', u'food truck', u'120841196', u'amount of private vehicles', u'92463779', u'contours', u'quarterly', u'407 jackson st', u'429887', u'garden', u'public housing', u'953.7', u'facebook', u'acres', u'precinct', u'lobbyist activity', u'37.790897,-122.402850', u'354 peralta street', u'1444 market st', u'\"1698 10\"', u'acxiom', u'race', u'restaurant health', u'960 howard street', u'obesity', u'inspection', u'420 grove', u'177 stillman street', u'95051', u'abtahi', u'licenses', u'311 constituent service', u'150-761-451', u'speed limits', u'universities', u'mobile food', u'traffic accidents', u'.sid', u'spending and revenue', u'100 year storm flood plain', u'311 cases', u'access', u'poles', u'\"red bull\"', u'311 sf data set', u'2010 crime', u'bike routes', u'recent graffiti reports', u'bay area general', u'shoreline', u'177 stillman st., san francisco, ca', u'8300 oceanview terrace, 304, san francisco', u'675 naples street', u'abandoned vehicle', u'poverty', u'\"department expenditures\"', u'90 day cases', u'ferry', u'2.01503e+11', u'accessor', u'429393', u'orthophoto', u'metro', u'31', u'sales tax', u'building heights', u'49276', u'survey', u'94124 district', u'parking shapefile', u'addresses', u'245 san jose', u'api', u'apn', u'360 post', u'san francisco', u'high injury corridors', u'735 fell street', u'city blocks', u'1938', u'zip', u'2090 evans avenue', u'address with resident names', u'vehicle', u'hydro', u'55 cyril magnin street', u'shape file', u'floodplain', u'rent control', u'benchmark', u'trail', u'historic district', u'train', u'53 mission', u'\"focus realty\"', u'chapter 20', u'women', u'customer', u'account', u'414251', u'2015 quarter 3', u'2016 assessor map updates', u'accrued', u'857 39th ave.', u'abco', u'tax', u'taz', u'open space', u'880 franklin', u'sea level', u'2015 housing inventory', u'\"area median income\"', u'\"mary jung\" dccc', u'access to healthcare facilities in san francisco', u'2250 powell street]', u'40 annapolis terrace, san francisco, ca', u'sidewalks', u'2 hour street parking 2999 california street', u'90 day', u'commercial building', u'animal', u'chart of cases by channel', u'rent burden', u'2449350', u'2015 311 budget', u'2282 market st', u'buildings', u'589 post st, san francisco, ca 94102', u'blocks', u'\"floor plan\"', u'5 chilton', u'police district', u'eas addresses', u'2400j2251', u'abuse', u'bay outline', u'ethnic', u'1453 mission street', u'576 natoma st, san francisco, ca', u'tax revenue', u'2127', u'38 sadowa', u'lines', u'114 henry street', u'1244 larkin', u'addiction', u'2070 latham', u'1929 pay', u'new business', u'meter', u'motorcycle', u'\"michael yarne\"', u'3067 25th street', u'business locations', u'650 40th ave', u'\"sunshine ordinance task\"', u'415 euclid ave', u'grafitti', u'streets of san francisco', u'block lot', u'\"homeless shelters\"', u'1996-2013 city survey', u'2015', u'\" ami\" 1990', u'bikeway', u'2011', u'2010', u'2013', u'2012', u'[socrata] 311test', u'crash', u'225 granville', u'444 de haro st', u'122 farallones st', u'1008099', u'blocklot', u'1024303', u'outlines', u'795 folsom', u'849(b)', u'agustin anda', u'university', u'\"year built\"', u'101 post', u'late contributions', u'3490 20th st', u'\"grand jury\"', u'\"small business\"', u'700', u'80', u'agriculture', u'465639', u'fire stations', u'4431 mission st', u'5124007', u'entertainment', u'! cannot open c:\\\\users\\\\cafethai\\\\appdata\\\\local\\\\temp\\\\rar$dia0.256\\\\_.rar the system cannot find the path specified. ! c:\\\\users\\\\cafethai\\\\appdata\\\\local\\\\temp\\\\rar$dia0.256\\\\_.rar: no files to extract', u'airbnb', u'parking tickets', u'real time', u'5413 hillside av.,el cerrito94530', u'ems', u'2015 sfo', u'2598 mission street', u'\"vending machine\"', u'data inventory', u'\"1698 10th\"', u'accounts payable', u'810 clay street, san francisco, ca', u'road network', u'open parks', u'2010 population shapefile', u'2009 housing inventory', u'city facilities', u'2014 census tracts', u'liquifaction', u'route', u'3401 clement st', u'31 mullen ave', u'property information', u'49ers', u'2919-21 folsom st', u'10 gb dataset', u'busines', u'retail', u'housing', u'restaurant scores', u'\"land use\"', u'\"community benefit district\"', u'\"ryan white\"', u'\\\\cleaning', u'*bike_network', u'269 joost ave', u'art', u'1740 cesar chavez', u'1989', u'40 jessie street', u'a card', u'san francisco outline', u'311', u'household income', u'enforcement', u'adrian santos', u'academy', u'186 valley street', u'city limit', u'1975 jim jones', u'390 diamond street', u'police stations', u'223 missouri', u'stock market', u'425 market', u'2010 map:crime incidents', u'3 d buildings', u'bay area counties', u'rent prices', u'.shp', u'tracts', u'2014', u'1578 newhall st. san francisco', u'608 haight', u'transit stop', u'8553000366', u'2015-001144prj', u'map of crime incidents', u'2008 crime data', u'2012 sfo customer survey', u'fire station', u'parks', u'1023138', u'3d building model', u'1125 17th avenue', u'jail', u'vegetation', u'accuracy', u'2016', u'5800 3rd st', u'police records', u'parking signs', u'3d print', u'sfo', u'census block', u'neighborhood boundaries', u'highschool', u'realtor', u'1131 mission st', u'topographic', u'337000', u'1374554', u'medical marijuana', u'parking lots', u'\"historic preservation\"', u'1040 howard st', u'abandoned vehicles', u'sf shoreline and islands', u'dbi', u'12b', u'311 constituent service request data', u'violation', u'traffic stop', u'vacancy', u'business name', u'planning', u'pacific eye associates', u'mumbai', u'124 molimo dr', u'candidates', u'employee', u'460 a', u'460 g', u'460 e', u'dpt bike', u'national parks', u'122', u'\"place of entertainment\"', u'1001363', u'burglary', u'460 post street', u'county boundary', u'shp', u'17 silverview drive', u'2020 ellis st', u'bay trail', u'evictions', u'2004 rents', u'94041', u'watershed', u'\"homeless\"', u'police incidents', u'1155 folsom st', u'address point', u'accepted', u'building footprint', u'sfpd districts', u'610 page street', u'crime san francisco', u'acces to private vehicles san fran 2014', u'building footprint shapefile', u'140820227', u'311 incidents', u'tennenbaum', u'basemap street centerlines', u'3314 steiner st', u'public schools', u'1 rincon', u'13898090', u'academy of art', u'3024 mission st', u'parking meters', u'grafiti', u'job', u'149 fell', u'key', u'2400j', u'\"burns', u'1693 7th avenue', u'hydrology', u'limits', u'425 market street', u'drug', u'350 mission', u'bed bug', u'94112', u'1445 lombard', u'bicycle parking', u'\"street light\"', u'canopy', u'153 arkansas', u'94110', u'2761 bryant', u'255 king stree', u' proportion of households not living in overcrowded conditions', u'2011 mayor campaign contributions', u'601 california', u'15 arguello', u'aaron peskin', u'oakland', u'public school', u'police districts', u'460 cover', u'discrimination', u'traffic light', u'street evaluation', u'json', u'732', u'restaurant inspection', u'accessory dwelling units', u'1899', u'waste', u'465', u'333 lake street', u'460', u'933 treat', u'*.shp', u'street intersections', u'smoking', u'volunteer', u'criminal', u'abandoned', u'movie locations', u'560 mission street', u'10 glendale street', u'sweeper scheduled', u'access to private vehicles san fran 2014', u'933 treat ave', u'1010 fitzgerald ave, san francisco, ca', u'avl', u'3008 18th street', u'112 yukon', u'2016 budget publication', u'90033', u'sales per restaurant', u'1 longview court', u'554 irving street, san francisco', u'bus stops', u'2013 crime', u'data catalog', u'225-33050', u'address locator', u'631 cole st', u'690 folsom street', u'paving', u'18 latona st', u'lobby', u'94116 restaurant', u'diabetes', u'//', u'street light', u'indonesia', u'business registration', u'311 calls', u'469249', u'460 schedule e', u'20th ave permit', u'361 3rd ave', u'clinic', u'\"sea level rise\"', u'adu', u'density', u'residential', u'demographic', u'bench', u'arrest', u'2015 residential development pipeline', u'ada', u'aerial', u'911 response', u'seismic hazard zones', u'active business registration', u'fire inspections', u'\"propterty tax\"', u'historic', u'\"gas leak\"', u'265', u'intersection', u'14186571', u'health score', u'miami', u'177 stillman', u'popos', u'\"code for ameria\"', u'\"continental appliance\"', u'2015 neighborhood profiles', u'501 franconia', u'2251', u'177 stillman street report', u'474163', u'1002155', u'3800 16th street san francisco, ca', u'address to geographic location', u'5155', u'library', u'\"load bearing capacity\"', u'active companies list', u'home', u'ballot', u'150857674', u'city lots', u'salaries', u'footprints', u'total housing units', u'zoning 2008', u'intersections', u'1600 california street', u'466853', u'3241201', u'noise', u'crp/cypress market', u'foodtruck', u'census tract', u'2919 mission street', u'employee compensation', u'air traffic', u'additional street space', u'counties', u'consumerism', u'city properties', u'actual', u'registered businesses', u'\"general plan\" \"land use\"', u'\"treasure island music festival\" ferry', u'wind monitoring', u'\"karen lum\"', u'registered business location', u'tenderloin', u'weather', u'business owner', u'roads', u'460 contractors', u'accrued expenses', u'2014 city serve report', u'177 stillman street, san francisco, ca', u'museum', u'*', u'buisness', u'lidar', u'accountant', u'2011 herrera campaign contributions', u'mobile food facility', u'132a lexington', u'street names', u'certificate', u'bus', u'accounting, purchasing, eis', u'311 budget', u'volume', u'94536', u'construction', u'eas', u'count', u'2004 food vendors', u'2713 diamond', u'282 harbor rd san francsico, ca 94124', u'stories', u'accidenta', u'2010 sf', u'50 main street, san francisco', u'150327887', u'\"john ortiz\"', u'130058911', u'mission bay', u'258 9 th st', u'2015 enacted budget', u'accenture', u'education', u'158 maynard', u'460 schedule g', u'bikeway network', u'44', u'460 schedule a', u'/sfpd-incidents-2013', u'assesment', u'sf outline', u'44 samoset st', u'\"continental electric\"', u'street use permits', u'address book', u'376 ellis street', u'240 2nd', u'550 van ness', u'200 hazelwood ave', u'bay area', u'387 ellis street, san francisco, ca', u'sf movies', u'post office', u'accidents', u'gardens']\n"
>>>>>>> 4c68fbe5aa2f379fd1374ebd5df9e6bb9400a4dc
     ]
    }
   ],
   "source": [
    "search_terms_list =  list(set(search_terms_data.processed_data))\n",
    "print search_terms_list"
   ]
  },
  {
   "cell_type": "markdown",
   "metadata": {},
   "source": [
    "#### We need to generally tag searches in categories of quality\n",
    "\n",
    "Many search terms indicate that users are not informed on what the purpose of the website is or how to properly use search\n",
    "\n",
    "Search Tags\n",
    "* Good Quality Search\n",
    "    * complete words or phrases\n",
    "    * minor typos\n",
    "* Bad Quality\n",
    "    * Addresses\n",
    "    * Dates\n",
    "    * Zipcodes or just a string of numbers\n",
    "    * General nonsenses eg. ('></script><script>alert(1)</script>', '///', '16exc-3031') "
   ]
  },
  {
   "cell_type": "code",
<<<<<<< HEAD
   "execution_count": 76,
=======
   "execution_count": 50,
>>>>>>> 4c68fbe5aa2f379fd1374ebd5df9e6bb9400a4dc
   "metadata": {
    "collapsed": false
   },
   "outputs": [],
   "source": [
    "dates_r = re.compile('[0-9]/[0-9]/[0-9]')\n",
    "numbers_r = re.compile('^[0-9][0-9]*[0-9]$')\n",
    "html_r = re.compile('^<.*>$')\n"
   ]
  },
  {
   "cell_type": "code",
<<<<<<< HEAD
   "execution_count": 74,
=======
   "execution_count": 51,
>>>>>>> 4c68fbe5aa2f379fd1374ebd5df9e6bb9400a4dc
   "metadata": {
    "collapsed": false
   },
   "outputs": [
    {
     "data": {
      "text/plain": [
<<<<<<< HEAD
       "['9/1/01', '3/1/01']"
      ]
     },
     "execution_count": 74,
=======
       "[u'9/1/01', u'3/1/01']"
      ]
     },
     "execution_count": 51,
>>>>>>> 4c68fbe5aa2f379fd1374ebd5df9e6bb9400a4dc
     "metadata": {},
     "output_type": "execute_result"
    }
   ],
   "source": [
    "filter(dates_r.match, search_terms_list)"
   ]
  },
  {
   "cell_type": "code",
<<<<<<< HEAD
   "execution_count": 77,
=======
   "execution_count": 52,
>>>>>>> 4c68fbe5aa2f379fd1374ebd5df9e6bb9400a4dc
   "metadata": {
    "collapsed": false
   },
   "outputs": [
    {
     "name": "stdout",
     "output_type": "stream",
     "text": [
<<<<<<< HEAD
      "['</script><script>alert(1)</script>']\n"
=======
      "[u'</script><script>alert(1)</script>']\n"
>>>>>>> 4c68fbe5aa2f379fd1374ebd5df9e6bb9400a4dc
     ]
    }
   ],
   "source": [
    "print filter(html_r.match, search_terms_list)"
   ]
  },
  {
   "cell_type": "code",
<<<<<<< HEAD
   "execution_count": null,
=======
   "execution_count": 53,
>>>>>>> 4c68fbe5aa2f379fd1374ebd5df9e6bb9400a4dc
   "metadata": {
    "collapsed": true
   },
   "outputs": [],
<<<<<<< HEAD
   "source": []
=======
   "source": [
    "# removing punctuation\n",
    "\n",
    "def removePunctuation(text):\n",
    "\n",
    "    for c in string.punctuation:\n",
    "        text = text.replace(c,\"\").strip().lower()\n",
    "    return text"
   ]
  },
  {
   "cell_type": "code",
   "execution_count": 54,
   "metadata": {
    "collapsed": false
   },
   "outputs": [],
   "source": [
    "# iterative process\n",
    "\n",
    "def text_processing(search):\n",
    "    \n",
    "    return [removePunctuation(i) for i in search]\n",
    "        \n",
    "        "
   ]
  },
  {
   "cell_type": "code",
   "execution_count": 158,
   "metadata": {
    "collapsed": false
   },
   "outputs": [],
   "source": [
    "search = text_processing(search_terms_list)\n",
    "#search"
   ]
  },
  {
   "cell_type": "code",
   "execution_count": 167,
   "metadata": {
    "collapsed": false
   },
   "outputs": [],
   "source": [
    "regex = \"\\d{1,4}.?\\d{0,4}\\s[a-zA-Z|\\d+]{2,30}\\s[a-zA-Z]{2,15}\"\n",
    "\n",
    "f = [re.findall(regex, i) for i in search\n",
    "     if re.findall(regex, i)!= [] \n",
    "     if re.findall(regex, i)[0][:3] != '311'\n",
    "     ]\n",
    "\n",
    "# http://regexlib.com/REDetails.aspx?regexp_id=430"
   ]
  },
  {
   "cell_type": "code",
   "execution_count": 190,
   "metadata": {
    "collapsed": false
   },
   "outputs": [
    {
     "data": {
      "text/plain": [
       "409"
      ]
     },
     "execution_count": 190,
     "metadata": {},
     "output_type": "execute_result"
    }
   ],
   "source": [
    "len(f)"
   ]
  },
  {
   "cell_type": "code",
   "execution_count": 192,
   "metadata": {
    "collapsed": false
   },
   "outputs": [
    {
     "data": {
      "text/plain": [
       "[[u'220 30th ave'],\n",
       " [u'1746 church street'],\n",
       " [u'560 davis st'],\n",
       " [u'573 andover street'],\n",
       " [u'301 baltimore way'],\n",
       " [u'3 rudden avenue'],\n",
       " [u'106 grand view'],\n",
       " [u'4610 mission street'],\n",
       " [u'123 retiro way'],\n",
       " [u'64 perine place'],\n",
       " [u'3067 25th street'],\n",
       " [u'469 union st'],\n",
       " [u'400 castro soul'],\n",
       " [u'1931 35th ave'],\n",
       " [u'530 brannan street'],\n",
       " [u'301 king st'],\n",
       " [u'600 van ness'],\n",
       " [u'240 2nd street'],\n",
       " [u'1050 sansome st'],\n",
       " [u'2945 baker st'],\n",
       " [u'337 spurce street'],\n",
       " [u'701 teresita san'],\n",
       " [u'258 9th st'],\n",
       " [u'1660 stockton at'],\n",
       " [u'1 tuscany alley'],\n",
       " [u'141 eddy street'],\n",
       " [u'665 pine st'],\n",
       " [u'600 fell st'],\n",
       " [u'67 silverview drive'],\n",
       " [u'525 29th st'],\n",
       " [u'453 masonic st'],\n",
       " [u'13 melrose ave'],\n",
       " [u'1230 market st'],\n",
       " [u'3d building models'],\n",
       " [u'106 powell street'],\n",
       " [u'709 geary st'],\n",
       " [u'278 states street'],\n",
       " [u'882 31st ave'],\n",
       " [u'430 lake st'],\n",
       " [u'41 genebern way'],\n",
       " [u'331 jersey st'],\n",
       " [u'177 stillman st'],\n",
       " [u'5 hudson ct'],\n",
       " [u'1952 larkin street'],\n",
       " [u'235 presidio avenue'],\n",
       " [u'160 swiss avenue'],\n",
       " [u'1 hour parking'],\n",
       " [u'127 san jose'],\n",
       " [u'1415 scott street'],\n",
       " [u'1155 folsom at'],\n",
       " [u'49 south park'],\n",
       " [u'360 somerset street'],\n",
       " [u'663 haight street'],\n",
       " [u'2912 19th ave'],\n",
       " [u'1450 green st'],\n",
       " [u'1158 noe street'],\n",
       " [u'26 eagle street'],\n",
       " [u'131 franklin street'],\n",
       " [u'4058 17th st'],\n",
       " [u'1428 jackson st'],\n",
       " [u'855 folsom st'],\n",
       " [u'2 hour parking'],\n",
       " [u'301 claremont blvd'],\n",
       " [u'3465 25th st'],\n",
       " [u'19962013 sf city'],\n",
       " [u'285 geary st'],\n",
       " [u'100 year flood'],\n",
       " [u'3440 broderick street'],\n",
       " [u'5 thomas mellon'],\n",
       " [u'418 jessie st'],\n",
       " [u'2919 folsom st'],\n",
       " [u'2901 sacramento st'],\n",
       " [u'679 page street'],\n",
       " [u'71 ford st'],\n",
       " [u'374 5th street'],\n",
       " [u'200 6th st'],\n",
       " [u'277 columbus ave'],\n",
       " [u'8300 oceanview terrace'],\n",
       " [u'2190 lombard st'],\n",
       " [u'9 county boundary'],\n",
       " [u'1427 11th ave'],\n",
       " [u'315 28th avenue'],\n",
       " [u'1865 4th st'],\n",
       " [u'40 genebern way'],\n",
       " [u'750 sutter st'],\n",
       " [u'466 9th avenue'],\n",
       " [u'1700 newhall street'],\n",
       " [u'425 market street'],\n",
       " [u'2208 mission street'],\n",
       " [u'1416 polk street'],\n",
       " [u'450 golden gate'],\n",
       " [u'5413 hillside avel'],\n",
       " [u'729 shotwell st'],\n",
       " [u'322 30th ave'],\n",
       " [u'163 ney st'],\n",
       " [u'1630 30th avenue'],\n",
       " [u'959 noe street'],\n",
       " [u'60 agua way'],\n",
       " [u'68 cervantes blvd'],\n",
       " [u'1231 20th ave'],\n",
       " [u'1798 grove street'],\n",
       " [u'1225 17th avenue'],\n",
       " [u'2385 bush street'],\n",
       " [u'3247 reserve ct'],\n",
       " [u'308 font blvd'],\n",
       " [u'158 maynarad st'],\n",
       " [u'5252 mission street'],\n",
       " [u'766 vallejo street'],\n",
       " [u'425 market energy'],\n",
       " [u'26 arrests in'],\n",
       " [u'2 casa way'],\n",
       " [u'1365 noriega street'],\n",
       " [u'120 lake street'],\n",
       " [u'06192015 dashiell hammet'],\n",
       " [u'75 dore street'],\n",
       " [u'460 forms schedul'],\n",
       " [u'136 arlington street'],\n",
       " [u'1051 grant ave'],\n",
       " [u'2325 pine street'],\n",
       " [u'3d public art'],\n",
       " [u'838 detroit street'],\n",
       " [u'17 san andreas'],\n",
       " [u'812 guerrero street'],\n",
       " [u'155 arbor st'],\n",
       " [u'2240 market street'],\n",
       " [u'1385 carroll ave'],\n",
       " [u'3953 24th street'],\n",
       " [u'331 jersey st'],\n",
       " [u'462 douglass sr'],\n",
       " [u'345 spear st'],\n",
       " [u'462 douglass st'],\n",
       " [u'1 scott street'],\n",
       " [u'1000 howard st'],\n",
       " [u'80004 employee compensation'],\n",
       " [u'1358 28th avenue'],\n",
       " [u'3139 mission street'],\n",
       " [u'146 galewood circle'],\n",
       " [u'545 sutter street'],\n",
       " [u'1443 46th ave'],\n",
       " [u'337 spurce streeet'],\n",
       " [u'2021 baker st'],\n",
       " [u'19962013 city survey'],\n",
       " [u'199 new montgomery'],\n",
       " [u'654 46th avenue'],\n",
       " [u'601 laguna street'],\n",
       " [u'177 stillman st'],\n",
       " [u'2282 market street'],\n",
       " [u'43 ruth street'],\n",
       " [u'203 cotter st'],\n",
       " [u'111 ellis street'],\n",
       " [u'1455 custer street'],\n",
       " [u'929 oak st'],\n",
       " [u'701 minnesota street'],\n",
       " [u'74 6th street'],\n",
       " [u'2079 15th avenue'],\n",
       " [u'1439 16th ave'],\n",
       " [u'460 post street'],\n",
       " [u'1600 fell street'],\n",
       " [u'375 bush street'],\n",
       " [u'1188 harrison street'],\n",
       " [u'1 post st'],\n",
       " [u'83 mcallister st'],\n",
       " [u'333 market street'],\n",
       " [u'1008 santiago street'],\n",
       " [u'345 williams avenue'],\n",
       " [u'2911 16th st'],\n",
       " [u'447 broadway street'],\n",
       " [u'1801 silliman st'],\n",
       " [u'1660 stockton street'],\n",
       " [u'175 ney street'],\n",
       " [u'333 market street'],\n",
       " [u'3333 california street'],\n",
       " [u'20 roussea street'],\n",
       " [u'2243 32nd avenue'],\n",
       " [u'49 christopher dr'],\n",
       " [u'1951 oak st'],\n",
       " [u'1709 broderick street'],\n",
       " [u'1188 harrrison street'],\n",
       " [u'460 dwight street'],\n",
       " [u'1420 5th ave'],\n",
       " [u'112 7th street'],\n",
       " [u'555 market street'],\n",
       " [u'62 linden avenue'],\n",
       " [u'1231 market st'],\n",
       " [u'442 holloway ave'],\n",
       " [u'372 point lobos'],\n",
       " [u'679 san jose'],\n",
       " [u'2577 12 post street'],\n",
       " [u'100 church street'],\n",
       " [u'2 crestline dr'],\n",
       " [u'300 sea cliff'],\n",
       " [u'285 geary st'],\n",
       " [u'470 lake st'],\n",
       " [u'72 hour parking'],\n",
       " [u'42 jules avenue'],\n",
       " [u'317 oak park'],\n",
       " [u'5 day water'],\n",
       " [u'256 fowler ave'],\n",
       " [u'400 duboce street'],\n",
       " [u'619 union street'],\n",
       " [u'3864 23rd street'],\n",
       " [u'5300 3rd street'],\n",
       " [u'460 forms schedule'],\n",
       " [u'3864 23rd street'],\n",
       " [u'94 stratford drive'],\n",
       " [u'20 jones st'],\n",
       " [u'3 buena vista'],\n",
       " [u'2130 jackson street'],\n",
       " [u'83 mc allister'],\n",
       " [u'838 grant ave'],\n",
       " [u'1683 7th avenue'],\n",
       " [u'579 teresita blvd'],\n",
       " [u'829 york street'],\n",
       " [u'606 post street'],\n",
       " [u'1917 broderick street'],\n",
       " [u'299 fremont street'],\n",
       " [u'79 midcrest way'],\n",
       " [u'439 duboce ave'],\n",
       " [u'2172 pacific avenue'],\n",
       " [u'355 bocana street'],\n",
       " [u'916 pine street'],\n",
       " [u'101 utah street'],\n",
       " [u'711 clayton st'],\n",
       " [u'544 castro st'],\n",
       " [u'337 spurce st'],\n",
       " [u'754 moultrie group'],\n",
       " [u'350 mission street'],\n",
       " [u'555 minnesota street'],\n",
       " [u'333 ofarrell st'],\n",
       " [u'2096 castro street'],\n",
       " [u'2385 bush st'],\n",
       " [u'568 brannan st'],\n",
       " [u'2124 great hwy'],\n",
       " [u'543 19th ave'],\n",
       " [u'46 el sereno'],\n",
       " [u'340 warren drive'],\n",
       " [u'2310 mason street'],\n",
       " [u'400 castro street'],\n",
       " [u'239 carl street'],\n",
       " [u'9 geneva ave'],\n",
       " [u'1895 sacramento st'],\n",
       " [u'2134 green street', u'3 san francisco'],\n",
       " [u'490 post st'],\n",
       " [u'527 42nd ave'],\n",
       " [u'929 oak st'],\n",
       " [u'334 harriet st'],\n",
       " [u'701 golden gate'],\n",
       " [u'224 ordway st'],\n",
       " [u'555 4th st'],\n",
       " [u'846 junipero serra'],\n",
       " [u'530 brannan street'],\n",
       " [u'2211 stockton st'],\n",
       " [u'83 mc allister', u'513 san francisco'],\n",
       " [u'360 somerset st'],\n",
       " [u'689 20th avenue'],\n",
       " [u'3951 mission st'],\n",
       " [u'2 bedroom homesale'],\n",
       " [u'201 hale street'],\n",
       " [u'19962011 city survey'],\n",
       " [u'2695 43rd avenue'],\n",
       " [u'324 arkansas st'],\n",
       " [u'163 liberty street'],\n",
       " [u'2208 mission street'],\n",
       " [u'270 mcallister street'],\n",
       " [u'721 18th avenue'],\n",
       " [u'32 richland avenue'],\n",
       " [u'550 3rd street'],\n",
       " [u'1560 8th ave'],\n",
       " [u'233 san carlos'],\n",
       " [u'1230 markert st'],\n",
       " [u'267 green street'],\n",
       " [u'77 san juan'],\n",
       " [u'478 utah st'],\n",
       " [u'460 forms schedula'],\n",
       " [u'1755 clay st'],\n",
       " [u'163 russ st'],\n",
       " [u'153 college ave'],\n",
       " [u'345 williams avenue'],\n",
       " [u'353 beach rd'],\n",
       " [u'1480 larkin st'],\n",
       " [u'407 jackson st'],\n",
       " [u'354 peralta street'],\n",
       " [u'1444 market st'],\n",
       " [u'960 howard street'],\n",
       " [u'177 stillman street'],\n",
       " [u'100 year storm'],\n",
       " [u'177 stillman st'],\n",
       " [u'8300 oceanview terrace', u'304 san francisco'],\n",
       " [u'675 naples street'],\n",
       " [u'90 day cases'],\n",
       " [u'245 san jose'],\n",
       " [u'735 fell street'],\n",
       " [u'2090 evans avenue'],\n",
       " [u'55 cyril magnin'],\n",
       " [u'857 39th ave'],\n",
       " [u'2250 powell street'],\n",
       " [u'40 annapolis terrace'],\n",
       " [u'2 hour street', u'2999 california street'],\n",
       " [u'2282 market st'],\n",
       " [u'589 post st'],\n",
       " [u'1453 mission street'],\n",
       " [u'576 natoma st'],\n",
       " [u'114 henry street'],\n",
       " [u'3067 25th street'],\n",
       " [u'650 40th ave'],\n",
       " [u'415 euclid ave'],\n",
       " [u'19962013 city survey'],\n",
       " [u'444 de haro'],\n",
       " [u'122 farallones st'],\n",
       " [u'3490 20th st'],\n",
       " [u'4431 mission st'],\n",
       " [u'5413 hillside avel'],\n",
       " [u'2598 mission street'],\n",
       " [u'810 clay street'],\n",
       " [u'3401 clement st'],\n",
       " [u'31 mullen ave'],\n",
       " [u'291921 folsom st'],\n",
       " [u'10 gb dataset'],\n",
       " [u'269 joost ave'],\n",
       " [u'1740 cesar chavez'],\n",
       " [u'40 jessie street'],\n",
       " [u'186 valley street'],\n",
       " [u'1975 jim jones'],\n",
       " [u'390 diamond street'],\n",
       " [u'1578 newhall st'],\n",
       " [u'3d building model'],\n",
       " [u'1125 17th avenue'],\n",
       " [u'5800 3rd st'],\n",
       " [u'1131 mission st'],\n",
       " [u'1040 howard st'],\n",
       " [u'124 molimo dr'],\n",
       " [u'460 post street'],\n",
       " [u'17 silverview drive'],\n",
       " [u'2020 ellis st'],\n",
       " [u'1155 folsom st'],\n",
       " [u'610 page street'],\n",
       " [u'3314 steiner st'],\n",
       " [u'3024 mission st'],\n",
       " [u'1693 7th avenue'],\n",
       " [u'425 market street'],\n",
       " [u'255 king stree'],\n",
       " [u'333 lake street'],\n",
       " [u'560 mission street'],\n",
       " [u'10 glendale street'],\n",
       " [u'933 treat ave'],\n",
       " [u'1010 fitzgerald ave'],\n",
       " [u'3008 18th street'],\n",
       " [u'1 longview court'],\n",
       " [u'554 irving street'],\n",
       " [u'631 cole st'],\n",
       " [u'690 folsom street'],\n",
       " [u'18 latona st'],\n",
       " [u'361 3rd ave'],\n",
       " [u'177 stillman street'],\n",
       " [u'3800 16th street'],\n",
       " [u'1600 california street'],\n",
       " [u'2919 mission street'],\n",
       " [u'177 stillman street'],\n",
       " [u'282 harbor rd'],\n",
       " [u'50 main street'],\n",
       " [u'258 9 th st'],\n",
       " [u'44 samoset st'],\n",
       " [u'376 ellis street'],\n",
       " [u'550 van ness'],\n",
       " [u'200 hazelwood ave'],\n",
       " [u'387 ellis street']]"
      ]
     },
     "execution_count": 192,
     "metadata": {},
     "output_type": "execute_result"
    }
   ],
   "source": [
    "year = [str(j) for j in range(2000,2017)]\n",
    "\n",
    "addresses = [i for i in f if i[0][:4] not in year ]\n",
    "addresses"
   ]
>>>>>>> 4c68fbe5aa2f379fd1374ebd5df9e6bb9400a4dc
  }
 ],
 "metadata": {
  "kernelspec": {
   "display_name": "Python 2",
   "language": "python",
   "name": "python2"
  },
  "language_info": {
   "codemirror_mode": {
    "name": "ipython",
    "version": 2
   },
   "file_extension": ".py",
   "mimetype": "text/x-python",
   "name": "python",
   "nbconvert_exporter": "python",
   "pygments_lexer": "ipython2",
<<<<<<< HEAD
   "version": "2.7.10"
=======
   "version": "2.7.11"
>>>>>>> 4c68fbe5aa2f379fd1374ebd5df9e6bb9400a4dc
  }
 },
 "nbformat": 4,
 "nbformat_minor": 0
}
